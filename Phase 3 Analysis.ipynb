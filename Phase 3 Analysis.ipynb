{
 "cells": [
  {
   "cell_type": "markdown",
   "metadata": {},
   "source": [
    "# Research Question\n",
    "\n",
    "Which combination of factors best predicts the salary of computer science undergrads? \n",
    "\n",
    "Previously, our research question was \"What combination of college characteristics results in the greatest post-undergrad salary for computer science majors?\". However, we realized that in order to figure out the characteristics that would result in the greatest post-undergraduate salary, we would need a more comprehensive list of characteristics. We also felt that \"results\" was too definite of a key word and we felt as though \"predicts\" was a better representation of our methodology. "
   ]
  },
  {
   "cell_type": "markdown",
   "metadata": {},
   "source": [
    "# Methodology\n"
   ]
  },
  {
   "cell_type": "markdown",
   "metadata": {},
   "source": [
    "<b> Checking similarities between variables: </b> We noticed that student-teacher ratio and student enrollment could be interconnected as it is possible that student enrollment could affect the ratio between students and teachers. "
   ]
  },
  {
   "cell_type": "markdown",
   "metadata": {},
   "source": [
    "<b> Linear regressions (single variable): </b> We created single variable linear regressions with each of our factors (student ratio, prestige, student enrollment, professor ranking, and area salary) and post-graduation salary to check that there is a correlation between the two characteristics. "
   ]
  },
  {
   "cell_type": "markdown",
   "metadata": {},
   "source": [
    "<b> Linear regressions (multivariable): </b> We created a multivariable linear regressions with all of our indistinct factors and post-graduation salary to create a model that would accurately predict the relationship between  multiple predictors and a respons. In our case, our predictors are the indistinct factors and our response is the post-graduation salary."
   ]
  },
  {
   "cell_type": "markdown",
   "metadata": {},
   "source": [
    "# Hypothesis "
   ]
  },
  {
   "cell_type": "markdown",
   "metadata": {},
   "source": [
    "1. We hypothesize that student-teacher ratio and student enrollment are closely related factors (indistinct). To test our hypothesis, we will calculate the correlation coefficient for factors student-teacher ratio and student enrollment and analyze whether the coefficient is high enough to say that the two factors are very closely related. Our threshold will be 0.7, because that roughly indicates a strong relationship. We care how closely these factors are related because in Phase II, we thought the two factors would be distinct: student-teacher ratio was supposed to be a measure of how much personalized attention a student receives, while student enrollment was a measure of how many opportunities students get (higher student population, more alumni and more clubs). However, the histograms of the two factors showed similar trends, so we want to use quantitative analysis to confirm whether the two factors are truly too highly correlated to be distinct (since student-teacher ratio is inherently connected to the size of the student population). If that is the case, then we only want to use one of these factors in our multivariate regression, as these factors would not be measuring different concepts as we had hoped, and would both be indicative of the amount of students at the school. After all, using two highly correlated factors in a multivariate regression will not provide more information than if we only used one of the correlated factors, and may even impact the linear regression fit. \n"
   ]
  },
  {
   "cell_type": "markdown",
   "metadata": {},
   "source": [
    "2. We hypothesize that <b> only prestige </b>  will be the best predictor of post-undergrad computer science salary. This is based on Phase II plots: we discovered that average professor rating may be an indicator of student bias rather than teaching quality, and the salary of the area in which a college is located did not show similar trends to the histogram of post-undergrad salary. Meanwhile, based on Phase II plots, most schools had student enrollment and teacher-student ratio in the same range, meaning that enrollment/teacher-student ratio may not be a distinguishing factor between schools. Given these data limitations, it may be the case that these factors have little relationship with post-undergrad salary, and that only prestige may matter. We will test our hypothesis by performing a single variable regression analysis between post-undergrad salaries and each of our individual factors. However, we will also perform a multivariate regression for each combination of factors (possibly excluding student-teacher ratio or student enrollment, as explained in the first bullet point above). This is because with single variable regressions, we cannot hold other factors constant when comparing one factor with post-undergrad salary.  With the amount of factors we have, this may cause inaccuracies with single variable regression. However, multivariate models will compute regressions on variables while keeping in mind other variables, such as the college prestige ranking, constant, which may lead to more accurate results because we can be certain that when analyzing a variable and its relationship with post-undergrad salary, we aren’t also comparing colleges of completely different prestiges, or completely different sizes, etc. Thus, in our experiment we will also perform a multivariate regression on all 4 variables, then combinations of 3 variables, then combinations of 2 variables to determine which combination model has the best fit (highest R^2 score). By checking a variety of combinations, we can be more confident that we have found the best predictor(s) for salary from a group of options. \n"
   ]
  },
  {
   "cell_type": "markdown",
   "metadata": {},
   "source": [
    "3. We want to know whether computer scientists tend to get jobs in the same area where they went to college for jobs, and based on differing histogram shapes from Phase II, we hypothesize that computer scientists don’t tend to find jobs where they go to college. We will test our hypothesis by matching up these factors for each school, finding the differences, and then plotting a histogram of the differences. If the histogram is skewed to the right (high differences), then it is likely evidence that computer scientists don’t tend to stay in the same area where they went to college for jobs, whereas if the differences are small, it likely means that computer scientists do tend to either stay or go to areas with similar salary ranges as the area of their college. \n"
   ]
  },
  {
   "cell_type": "markdown",
   "metadata": {},
   "source": [
    "# Questions for Reviewer"
   ]
  },
  {
   "cell_type": "markdown",
   "metadata": {},
   "source": [
    "1. Is there a more efficient method of running multiple multivariable regressions instead of individually testing out all possible combinations?"
   ]
  },
  {
   "cell_type": "markdown",
   "metadata": {},
   "source": [
    "2. Do you think the difference between starting salary and the area salary could be a predictor of whether or not computer science graduates tend to move away from their university? Or should we incorporate other factors to distinguish that observation?"
   ]
  },
  {
   "cell_type": "markdown",
   "metadata": {},
   "source": [
    "3. Is there anything else we should include, exclude, or expand on for the next phases?"
   ]
  }
 ],
 "metadata": {
  "kernelspec": {
   "display_name": "Python 3",
   "language": "python",
   "name": "python3"
  },
  "language_info": {
   "codemirror_mode": {
    "name": "ipython",
    "version": 3
   },
   "file_extension": ".py",
   "mimetype": "text/x-python",
   "name": "python",
   "nbconvert_exporter": "python",
   "pygments_lexer": "ipython3",
   "version": "3.8.5"
  }
 },
 "nbformat": 4,
 "nbformat_minor": 4
}
