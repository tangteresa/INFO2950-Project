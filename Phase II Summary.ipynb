{
 "cells": [
  {
   "cell_type": "markdown",
   "metadata": {},
   "source": [
    "# Research Question\n",
    "What combination of college characteristics results in the greatest post-undergrad salary for computer science majors? \n",
    "\n",
    "The factors/characteristics we are analyzing are: college prestige ranking, teacher-to-student ratio, student population, average professor rating, geographic location, and the salary of computer scientists in the area at which the college is located. "
   ]
  },
  {
   "cell_type": "markdown",
   "metadata": {},
   "source": [
    "# Data Cleaning Summary"
   ]
  },
  {
   "cell_type": "markdown",
   "metadata": {},
   "source": [
    "#### Overall Goal\n",
    "We want one big dataframe, hereby called `main dataframe`, that has one entry per college. The final dataframe will have these columns: school name, ranking, tsr (stands for teacher-student ratio), pop (for student undergrad population), early_pay (salary post-graduation), a_mean (average salary for computer scientists in the area of the college), rat (average professor rating), and county (for location)."
   ]
  },
  {
   "cell_type": "markdown",
   "metadata": {},
   "source": [
    "#### Data Sources for each factor \n",
    "- School names and prestige rankings\n",
    "> We webscraped a list of the top computer science schools in 2020 (ranked by prestige) from `topuniversities.com`. This site was chosen because unlike other ranking lists such as `USNews`, this site factored in employer opinion/surveys on school prestige into their ranking list, which is important to us because we are analyzing relationships with job salary. \n",
    "- Post-undergrad salary (called early_pay in our main dataframe) \n",
    "> We webscraped early-career computer science salaries by school from `payscale.com`.  \n",
    "- Teacher-student ratio \n",
    "> The National Center for Education Statistics (NCES) collects data on teacher-student ratio for all US institutions. We downloaded their teacher-student ratio dataset of 6000+ schools for cleaning and processing. \n",
    "- Student undergrad population\n",
    "> NCES has a dataset for enrollment (graduate and undergraduate) per school. \n",
    "- County\n",
    "> NCES has a dataset for geographic characteristics per school (i.e. state, city, county, zip code, etc.) \n",
    "- Average salary for computer scientists in the area where the college is located \n",
    "> The Bureau of Labor Statistics (BLS) has a dataset for each occupation's salary in all metropolitan and nonmetropolitan areas. A (non)metropolitan area is defined by the counties that are within it, and the BLS includes a separate dataset that shows which counties map to which metropolitan area. Thus it is important that we find the county that each school is in, since we can map counties to (non)metropolitan areas, and then (non)metropolitan area to the computer science salary of that region.\n",
    "- Average professor rating \n",
    "> We attempted to webscrape average professor ratings from `ratemyprofessor.com`, but due to technical difficulties, we manually collected data from the site. "
   ]
  },
  {
   "cell_type": "markdown",
   "metadata": {},
   "source": [
    "#### Data Cleaning Steps\n",
    "1. **Cleaning School Names**: We used the dataframe of school names and rankings (created from webscraping) as the basis of our `main` dataframe. Because we needed to use the school names in `main` to lookup information about the same school in other datasets, we first cleaned the school names by removing extra spaces, punctuation, and abbreviations, as different datasets punctuate their school names differently. "
   ]
  },
  {
   "cell_type": "markdown",
   "metadata": {},
   "source": [
    "2. **Importing Post-Undergrad Salary**: Since the school names in our dataset of post-undergrad salaries differed from what we used in `main` (ex. `Columbia University` was listed as `Columbia University in New York City`), we used the following algorithm to match school names: if a school name in the lookup dataset contained all of the components of the school name in our `main` dataset in the same order, then that was a match (so since `Columbia University in New York City` contains `Columbia` and `University` in the same order as `Columbia University`, there is a match). In this way, we could import salary data from one dataset into our main. \n",
    "> If any school wasn't found in the salary dataset, we checked to see that the algorithm wasn't failing. If the school really wasn't on `payscale.com`, we threw out the school from analysis because if we were to manually Google and input these salaries, this would generate inconsistency with our existing salary data as different online sources use different data collection methods. "
   ]
  },
  {
   "cell_type": "markdown",
   "metadata": {},
   "source": [
    "3. **Importing UnitID**: We used a similar algorithm as to above to lookup and import the UnitID for each school from a NCES dataset of schools and their unitIDs. The unitID is a unique number assigned to each college by the NCES, and is the number the NCES uses to index their other datasets. We use the unitID to lookup data from any NCES datasets in the following steps. "
   ]
  },
  {
   "cell_type": "markdown",
   "metadata": {},
   "source": [
    "4. **Importing Student-Faculty Ratio, County, and Enrollment**: We use the unitID for each school to lookup its enrollment, county, and student-faculty ratio from three different CSV files and import that into the main dataframe."
   ]
  },
  {
   "cell_type": "markdown",
   "metadata": {},
   "source": [
    "5. **Finding average computer scientist salary by (non)metropolitan area**: We take the BLS dataset of all occupations' salaries per (non)metropolitan area and filter out all non-computer science related jobs. We defined computer-science related job as a job that someone with a bachelor's in computer science could have and that would allow them to apply computer science knowledge (ex. Computer Systems Analysts). We then filtered out salaries listed as `*` (not found), grouped by (non)metropolitan area and calculated the mean salary per area. "
   ]
  },
  {
   "cell_type": "markdown",
   "metadata": {},
   "source": [
    "6. **Placing colleges in their respective (non)metropolitan area**: We match up schools with the non(metropolitan) area that it is in by county. Essentially, we use the BLS dataset mapping (non)metropolitan area to county, and lookup each school's county to get the (non)metropolitan area name. "
   ]
  },
  {
   "cell_type": "markdown",
   "metadata": {},
   "source": [
    "7. **Matching colleges with the average salary in its non(metropolitan) area**: Using the (non)metropolitan area that each college is in, gathered in step 6, we were able to match the metropolitan area with the average salary of the area from the cleaned dataset in step 5 and import that salary into our `main` dataframe."
   ]
  },
  {
   "cell_type": "markdown",
   "metadata": {},
   "source": [
    "8. **Importing Average Professor Rating**: We used a similar algorithm from step 2 to lookup a school's average professor rating from our manually collected dataset from `ratemyprofessor.com` and import it into our `main` dataframe."
   ]
  },
  {
   "cell_type": "markdown",
   "metadata": {},
   "source": [
    "9. **Converting Prestige Rankings to Ranks 1-4**: We don't care about the exact ranking of a college. After all, every ranking list uses slightly different algorithms, yet there is a general consensus on what schools are more prestigious than others (ex. it is generally agreed that MIT is more 'prestigious' than University of Missouri). We of course chose `topuniversities.com` as our main ranking list because we felt its algorithm (which includes employer surveys) was especially relevant to our project, but we still care more about whether a college is generally high-ranking, low-ranking, etc. than whether a specific school is exactly 1st place or 3rd place. Thus, we used the numeric rankings scraped from `topuniversities.com` to place schools into a ranking between 1-4, like so: "
   ]
  },
  {
   "cell_type": "markdown",
   "metadata": {},
   "source": [
    ">- Rank 1 (very good) \n",
    ">> The college is in the top 20 internationally for computer science. The exact ranking of the college is not super important, we just care that it is very highly-ranked.\n",
    ">- Rank 2 (great)\n",
    ">> The college is ranked between 21-100. \n",
    ">- Rank 3 (ok) \n",
    ">> The college is ranked between 101-300 \n",
    ">- Rank 4 (at this point, nobody really cares about the ranking)\n",
    ">> The college is ranked between 301-600 (the lowest ranking `topuniversities.com` has).  \n",
    "\n",
    "While there wouldn't be the same number of schools per rank 'bin' (i.e. less schools with 1 ranking), this ranking system clarifies the boundaries between school prestige ranking better and more accurately represents which schools have the top prestige level than if we put the same number of schools per rank. In contrast, if we had the same number of schools per rank, super prestigious schools may be lumped with somewhat prestigious schools, which is not ideal. "
   ]
  },
  {
   "cell_type": "markdown",
   "metadata": {},
   "source": [
    "10. **Miscellaneous Typecasting Columns**: We typecasted any columns that weren't the correct datatype, as well as did a finally cleaning of school names for consistency. "
   ]
  },
  {
   "cell_type": "markdown",
   "metadata": {},
   "source": [
    "---\n",
    "#### Final Dataframe"
   ]
  },
  {
   "cell_type": "code",
   "execution_count": 1,
   "metadata": {},
   "outputs": [
    {
     "data": {
      "text/html": [
       "<div>\n",
       "<style scoped>\n",
       "    .dataframe tbody tr th:only-of-type {\n",
       "        vertical-align: middle;\n",
       "    }\n",
       "\n",
       "    .dataframe tbody tr th {\n",
       "        vertical-align: top;\n",
       "    }\n",
       "\n",
       "    .dataframe thead th {\n",
       "        text-align: right;\n",
       "    }\n",
       "</style>\n",
       "<table border=\"1\" class=\"dataframe\">\n",
       "  <thead>\n",
       "    <tr style=\"text-align: right;\">\n",
       "      <th></th>\n",
       "      <th>school</th>\n",
       "      <th>rank</th>\n",
       "      <th>tsr</th>\n",
       "      <th>pop</th>\n",
       "      <th>early_pay</th>\n",
       "      <th>a_mean</th>\n",
       "      <th>county</th>\n",
       "      <th>rat</th>\n",
       "    </tr>\n",
       "  </thead>\n",
       "  <tbody>\n",
       "    <tr>\n",
       "      <th>0</th>\n",
       "      <td>Massachusetts Institute of Technology</td>\n",
       "      <td>1</td>\n",
       "      <td>3.0</td>\n",
       "      <td>4602</td>\n",
       "      <td>99800</td>\n",
       "      <td>100149.41</td>\n",
       "      <td>Middlesex County</td>\n",
       "      <td>3.94</td>\n",
       "    </tr>\n",
       "    <tr>\n",
       "      <th>1</th>\n",
       "      <td>Harvard University</td>\n",
       "      <td>1</td>\n",
       "      <td>7.0</td>\n",
       "      <td>9950</td>\n",
       "      <td>96100</td>\n",
       "      <td>100149.41</td>\n",
       "      <td>Middlesex County</td>\n",
       "      <td>3.95</td>\n",
       "    </tr>\n",
       "    <tr>\n",
       "      <th>2</th>\n",
       "      <td>Tufts University</td>\n",
       "      <td>4</td>\n",
       "      <td>9.0</td>\n",
       "      <td>5643</td>\n",
       "      <td>88000</td>\n",
       "      <td>100149.41</td>\n",
       "      <td>Middlesex County</td>\n",
       "      <td>3.81</td>\n",
       "    </tr>\n",
       "    <tr>\n",
       "      <th>3</th>\n",
       "      <td>Stanford University</td>\n",
       "      <td>1</td>\n",
       "      <td>5.0</td>\n",
       "      <td>7087</td>\n",
       "      <td>107400</td>\n",
       "      <td>122369.38</td>\n",
       "      <td>Santa Clara County</td>\n",
       "      <td>3.97</td>\n",
       "    </tr>\n",
       "    <tr>\n",
       "      <th>4</th>\n",
       "      <td>Carnegie Mellon University</td>\n",
       "      <td>1</td>\n",
       "      <td>10.0</td>\n",
       "      <td>6589</td>\n",
       "      <td>99000</td>\n",
       "      <td>86185.62</td>\n",
       "      <td>Allegheny County</td>\n",
       "      <td>3.77</td>\n",
       "    </tr>\n",
       "  </tbody>\n",
       "</table>\n",
       "</div>"
      ],
      "text/plain": [
       "                                  school  rank   tsr   pop  early_pay  \\\n",
       "0  Massachusetts Institute of Technology     1   3.0  4602      99800   \n",
       "1                     Harvard University     1   7.0  9950      96100   \n",
       "2                       Tufts University     4   9.0  5643      88000   \n",
       "3                    Stanford University     1   5.0  7087     107400   \n",
       "4             Carnegie Mellon University     1  10.0  6589      99000   \n",
       "\n",
       "      a_mean              county   rat  \n",
       "0  100149.41    Middlesex County  3.94  \n",
       "1  100149.41    Middlesex County  3.95  \n",
       "2  100149.41    Middlesex County  3.81  \n",
       "3  122369.38  Santa Clara County  3.97  \n",
       "4   86185.62    Allegheny County  3.77  "
      ]
     },
     "execution_count": 1,
     "metadata": {},
     "output_type": "execute_result"
    }
   ],
   "source": [
    "import pandas as pd\n",
    "main = pd.read_csv(\"main.csv\")\n",
    "\n",
    "# Delete extra column\n",
    "del main[\"Unnamed: 0\"]\n",
    "main.head()"
   ]
  },
  {
   "cell_type": "markdown",
   "metadata": {},
   "source": [
    "---\n",
    "# Data Description"
   ]
  },
  {
   "cell_type": "markdown",
   "metadata": {},
   "source": [
    "# Data Limitations"
   ]
  },
  {
   "cell_type": "markdown",
   "metadata": {},
   "source": [
    "# Exploratory Data Analysis"
   ]
  },
  {
   "cell_type": "markdown",
   "metadata": {},
   "source": [
    "We want to see the general shape of each our factors and get a sense of how closely grouped the data is. This is important because for example, if computer science post-undergrad salaries are super close together and there is little variation, this may tell us that analyzing what school has the highest post-undergrad salary is not important, as they are all practically the same regardless. We also compare histograms with others to get a sense of relationships, and compute both mean and median for most datasets so we can get a numerical sense of how skewed the data is (more accurate than estimating from a histogram). "
   ]
  },
  {
   "cell_type": "code",
   "execution_count": 2,
   "metadata": {},
   "outputs": [],
   "source": [
    "import matplotlib.pyplot as plt"
   ]
  },
  {
   "cell_type": "markdown",
   "metadata": {},
   "source": [
    "---\n",
    "#### Post-Undergrad Salary "
   ]
  },
  {
   "cell_type": "code",
   "execution_count": 3,
   "metadata": {},
   "outputs": [
    {
     "data": {
      "image/png": "[encoded data removed]",
      "text/plain": [
       "<Figure size 432x288 with 1 Axes>"
      ]
     },
     "metadata": {
      "needs_background": "light"
     },
     "output_type": "display_data"
    }
   ],
   "source": [
    "plt.hist(main[\"early_pay\"])\n",
    "plt.xlabel(\"Post-Undergrad Salary\")\n",
    "plt.ylabel(\"Frequency\")\n",
    "plt.show()"
   ]
  },
  {
   "cell_type": "code",
   "execution_count": 15,
   "metadata": {},
   "outputs": [
    {
     "name": "stdout",
     "output_type": "stream",
     "text": [
      "Median: 73850.0\n",
      "Std dev: 11778.18\n",
      "Min: 55100.0\n",
      "Max: 107400.0\n"
     ]
    }
   ],
   "source": [
    "pay_sum_stats = main[\"early_pay\"].describe()\n",
    "print(f\"Median: {main['early_pay'].median()}\")\n",
    "print(f\"Std dev: {round(pay_sum_stats['std'], 2)}\")\n",
    "print(f\"Min: {round(pay_sum_stats['min'], 2)}\")\n",
    "print(f\"Max: {round(pay_sum_stats['max'], 2)}\")"
   ]
  },
  {
   "cell_type": "markdown",
   "metadata": {},
   "source": [
    "While we originally thought computer science salaries were likely to be super high (90k+) and closely grouped (as in, all with a few thousand dollars of each other), we see that even though computer science is hyped as a high-paying field, there is still lots of wiggle room and a very real possibility of earning less than 90,000 a year. In fact, most of the salaries are 70k to 80k ish (based on the histogram), with a median of `73850`. This is much lower than we expected. "
   ]
  },
  {
   "cell_type": "markdown",
   "metadata": {},
   "source": [
    "We see that the standard deviation of `11778.18` is fairly large, and there is a big range of roughly $50,000 between a min of `55100` and a max of `107400`. This confirms the importance of our research; for a fresh college graduate who likely has lots of student debt, getting a job paying 100,000+ dollars versus a job of 50,000 dollars ish can make a huge difference in their quality of life and financial situation. Since there is such a huge range in which a graduate's salary may fall, it would greatly benefit these students to know what college characteristics they should look out for to maximize their likelihood of getting a job with a salary on the higher end of this histogram. "
   ]
  },
  {
   "cell_type": "markdown",
   "metadata": {},
   "source": [
    "**Note**: We do not take the mean because these salary points are already averages of computer scientists from a given school, so taking the average of an average doesn't make much sense. Plus, the histogram shows that the data is skewed to one side, so a median is more representative of the data 'center' anyway. "
   ]
  },
  {
   "cell_type": "markdown",
   "metadata": {},
   "source": [
    "---\n",
    "#### Mean Area Salary"
   ]
  },
  {
   "cell_type": "code",
   "execution_count": 36,
   "metadata": {},
   "outputs": [
    {
     "data": {
      "image/png": "[encoded data removed]",
      "text/plain": [
       "<Figure size 432x288 with 1 Axes>"
      ]
     },
     "metadata": {
      "needs_background": "light"
     },
     "output_type": "display_data"
    }
   ],
   "source": [
    "plt.hist(main[\"a_mean\"])\n",
    "plt.xlabel(\"Average computer scientist salary per metropolitan area\")\n",
    "plt.ylabel(\"Frequency\")\n",
    "plt.show()"
   ]
  },
  {
   "cell_type": "code",
   "execution_count": 35,
   "metadata": {
    "scrolled": true
   },
   "outputs": [
    {
     "name": "stdout",
     "output_type": "stream",
     "text": [
      "Median: 87052.645\n",
      "Std dev: 11670.72\n",
      "Min: 60551.67\n",
      "Max: 122369.38\n"
     ]
    }
   ],
   "source": [
    "area_sum_stats = main[\"a_mean\"].describe()\n",
    "print(f\"Median: {main['a_mean'].median()}\")\n",
    "print(f\"Std dev: {round(area_sum_stats['std'], 2)}\")\n",
    "print(f\"Min: {round(area_sum_stats['min'], 2)}\")\n",
    "print(f\"Max: {round(area_sum_stats['max'], 2)}\")"
   ]
  },
  {
   "cell_type": "markdown",
   "metadata": {},
   "source": [
    "It is interesting to compare this histogram and stats to the characteristics of post-undergrad salary. While the standard deviations for these two factors are practically the same (`11670` versus `11778`, the mean area salary data sits 'higher' than post-undergrad salary, as its median and max are higher than that of post-undergrad salary by 10k. While we have not yet matched up post-undergrad and area salary for each school, this trend may be evidence (though we will have to do further statsitical analysis to check this) that graduates aren't necessarily getting jobs in the same area as the college they went to. "
   ]
  },
  {
   "cell_type": "markdown",
   "metadata": {},
   "source": [
    "On the other hand, the mean area salaries may be higher than what we predict because we took the average of computer science job salaries in a given metropolitan area. Certain areas with one or two higher paying jobs may have means pulled by up these outliers, so it may be more accurate to analyze the median area salary instead regardless of how it relates to post-undergrad salary. At this point, we updated our dataset to also include median salaries by area and compare the results as follows."
   ]
  },
  {
   "cell_type": "markdown",
   "metadata": {},
   "source": [
    "# TO DO MEDIAN ANALYSIS"
   ]
  },
  {
   "cell_type": "markdown",
   "metadata": {},
   "source": [
    "#### Teacher Student Ratio "
   ]
  },
  {
   "cell_type": "code",
   "execution_count": 16,
   "metadata": {},
   "outputs": [
    {
     "data": {
      "image/png": "[encoded data removed]",
      "text/plain": [
       "<Figure size 432x288 with 1 Axes>"
      ]
     },
     "metadata": {
      "needs_background": "light"
     },
     "output_type": "display_data"
    }
   ],
   "source": [
    "plt.hist(main[\"tsr\"])\n",
    "plt.xlabel(\"Teacher Student Ratio (N, where N is students per teacher)\")\n",
    "plt.ylabel(\"Frequency\")\n",
    "plt.show()"
   ]
  },
  {
   "cell_type": "code",
   "execution_count": 18,
   "metadata": {},
   "outputs": [
    {
     "name": "stdout",
     "output_type": "stream",
     "text": [
      "Median: 16.0\n",
      "Mean: 15.02\n",
      "Min: 3.0\n",
      "Max: 30.0\n"
     ]
    }
   ],
   "source": [
    "tsr_stats = main[\"tsr\"].describe()\n",
    "print(f\"Median: {main['tsr'].median()}\")\n",
    "print(f\"Mean: {round(tsr_stats['mean'], 2)}\")\n",
    "print(f\"Min: {round(tsr_stats['min'], 2)}\")\n",
    "print(f\"Max: {round(tsr_stats['max'], 2)}\")"
   ]
  },
  {
   "cell_type": "markdown",
   "metadata": {},
   "source": [
    "While the range is fairly large at `27` (max of 30 - min of 3), the min/max didn't appear to skew the mean as much, as both the median and mean are fairly close, so we can see that the typical teacher student ratio is about `15` to `16`. However, the summary stats don't reveal the interesting fact that the histogram reveals: there are two peaks in the data. This is likely due to school size, as big schools likely have a higher student ratio (at peak around `17`), while the smaller schools are lower (at peak around `7`). This histogram is especially useful because it shows us that there are a large portion of schools with practically identical teacher-student ratios, so if these schools have vastly different salaries, we can more easily suggest that teacher-student ratio may not be a significant differentiator for salary. Because of the relationship between teacher student ratio and enrollment, we predict that the enrollment histogram will have two peaks also."
   ]
  },
  {
   "cell_type": "markdown",
   "metadata": {},
   "source": [
    "#### Enrollment"
   ]
  },
  {
   "cell_type": "code",
   "execution_count": 19,
   "metadata": {
    "scrolled": true
   },
   "outputs": [
    {
     "data": {
      "image/png": "[encoded data removed]",
      "text/plain": [
       "<Figure size 432x288 with 1 Axes>"
      ]
     },
     "metadata": {
      "needs_background": "light"
     },
     "output_type": "display_data"
    }
   ],
   "source": [
    "plt.hist(main[\"pop\"])\n",
    "plt.xlabel(\"Undergrad population\")\n",
    "plt.ylabel(\"Frequency\")\n",
    "plt.show()"
   ]
  },
  {
   "cell_type": "code",
   "execution_count": 23,
   "metadata": {
    "scrolled": true
   },
   "outputs": [
    {
     "name": "stdout",
     "output_type": "stream",
     "text": [
      "Median: 21218.5\n",
      "Mean: 21984.16\n",
      "Std dev: 12212.67\n"
     ]
    }
   ],
   "source": [
    "enroll_stats = main[\"pop\"].describe()\n",
    "print(f\"Median: {main['pop'].median()}\")\n",
    "print(f\"Mean: {round(enroll_stats['mean'], 2)}\")\n",
    "print(f\"Std dev: {round(enroll_stats['std'], 2)}\")"
   ]
  },
  {
   "cell_type": "markdown",
   "metadata": {},
   "source": [
    "We see from the standard deviation of `12212.67` that there is a decent representation of school sizes in our dataset. While the mean and median show that our typical school size is about `21000` to `22000` (as expected), there are a surprisingly large amount of schools (20) with less than `10000` students. While we originally thought that the top 600 prestigious schools would be larger, given the high number of applicants, we now are curious about whether smaller schools tend to be more prestigious. We may want to add this as a second research question in addition to our first one.  "
   ]
  },
  {
   "cell_type": "markdown",
   "metadata": {},
   "source": [
    "As predicted, there are roughly 2 peaks in the enrollment histogram, just like in the teacher-student ratio histogram, which may suggest a relationship between teacher student ratio and undergraduate population that can be revealed with further statistical analysis in `Phase III`.  Originally, we chose teacher student ratio as a measurement of individual attention (i.e. how personalized a teacher's instruction can be -- the more personalized, the better equipped a computer science student is likely to be), while we thought of undergrad enrollment as more related to number of alumni connections (the more students, the more likely you can find an alumni that will network you into a high-paying job) and opportunities (more clubs, more diversity). However, if it turns out that there is a signifcant correlation between these two variables, we may need to throw out one of them, as in that case either one may be used to predict/correlate with salary."
   ]
  },
  {
   "cell_type": "markdown",
   "metadata": {},
   "source": [
    "#### Average Professor Rating"
   ]
  },
  {
   "cell_type": "code",
   "execution_count": 20,
   "metadata": {},
   "outputs": [
    {
     "data": {
      "image/png": "[encoded data removed]",
      "text/plain": [
       "<Figure size 432x288 with 1 Axes>"
      ]
     },
     "metadata": {
      "needs_background": "light"
     },
     "output_type": "display_data"
    }
   ],
   "source": [
    "plt.hist(main[\"rat\"])\n",
    "plt.xlabel(\"Average professor rating\")\n",
    "plt.ylabel(\"Frequency\")\n",
    "plt.show()"
   ]
  },
  {
   "cell_type": "code",
   "execution_count": 25,
   "metadata": {},
   "outputs": [
    {
     "name": "stdout",
     "output_type": "stream",
     "text": [
      "Median: 3.75\n",
      "Mean: 3.76\n",
      "Std dev: 0.12\n",
      "Max: 4.4\n"
     ]
    }
   ],
   "source": [
    "rat_stats = main[\"rat\"].describe()\n",
    "print(f\"Median: {main['rat'].median()}\")\n",
    "print(f\"Mean: {round(rat_stats['mean'], 2)}\")\n",
    "print(f\"Std dev: {round(rat_stats['std'], 2)}\")\n",
    "print(f\"Max: {round(rat_stats['max'], 2)}\")"
   ]
  },
  {
   "cell_type": "markdown",
   "metadata": {},
   "source": [
    "When we manually collected the professor rating, we noticed that most ratings seemed fairly close together. This histogram confirms our observation: the standard deviation is only `0.12`, and most ratings are between `3.6` and a little over `3.8`, with an average of `3.7`. At this point, it does seem like the closeness of the datapoints is a problem, since it may not be a great differentiator between schools and their graduate salaries if all ratings are practically the same. We cut out the outlier at 4.4, to see if we can better zoom in on the shape of data points between `3.6` to `3.8` roughly: "
   ]
  },
  {
   "cell_type": "code",
   "execution_count": 33,
   "metadata": {},
   "outputs": [
    {
     "data": {
      "image/png": "[encoded data removed]",
      "text/plain": [
       "<Figure size 432x288 with 1 Axes>"
      ]
     },
     "metadata": {
      "needs_background": "light"
     },
     "output_type": "display_data"
    }
   ],
   "source": [
    "subset = main.copy()[main[\"rat\"] != rat_stats[\"max\"]]\n",
    "plt.hist(subset[\"rat\"], bins = 50, edgecolor = 'white')\n",
    "plt.xlabel(\"Average professor rating (outlier removed)\")\n",
    "plt.ylabel(\"Frequency\")\n",
    "plt.show()"
   ]
  },
  {
   "cell_type": "markdown",
   "metadata": {},
   "source": [
    "With this histogram, it is easier to see that there are some fine differences between the ratings, on the scale of hundreths. While it could be argued that the ratings are so close that the differences in hundredths between them don't matter, we think that the closeness is important. A school on `ratemyprofessors` typically has thousands of ratings, so with such a large sample size, it does matter that a school has, for example, a rating of `3.65` versus `3.68`, because moving from a rating of `3.65` to `3.68` would take hundreds of positive reviews to move up the average. So we will keep average professor rating as a measurement of teaching quality and a factor in predicting post-undergrad salary. "
   ]
  },
  {
   "cell_type": "markdown",
   "metadata": {},
   "source": [
    "#### Additional/Miscellaneous Notes\n",
    "- We didn't create a histogram for just school prestige ranking, as it would not tell us anything new. Because we set up our rankings in 'bins' of 1-4, we already know the prestige rankings are skewed, as there are more schools in the lower bins (since rank 1 is only the top 20 schools)"
   ]
  },
  {
   "cell_type": "markdown",
   "metadata": {},
   "source": [
    "# Questions for Reviewers"
   ]
  },
  {
   "cell_type": "markdown",
   "metadata": {},
   "source": [
    "# Appendix\n",
    "For our final report, we would include the notebook containing our web scraping code here (called `Phase II Scraping.ipynb`). We web-scraped computer science post-undergrad salaries from `payscale.com` and scraped the top computer science universities from `topuniversities.com`. \n",
    "\n",
    "We would also include the notebook containing our data cleaning code (called `Phase II Data Cleaning.ipynb`) here."
   ]
  }
 ],
 "metadata": {
  "kernelspec": {
   "display_name": "Python 3",
   "language": "python",
   "name": "python3"
  },
  "language_info": {
   "codemirror_mode": {
    "name": "ipython",
    "version": 3
   },
   "file_extension": ".py",
   "mimetype": "text/x-python",
   "name": "python",
   "nbconvert_exporter": "python",
   "pygments_lexer": "ipython3",
   "version": "3.8.5"
  }
 },
 "nbformat": 4,
 "nbformat_minor": 4
}
