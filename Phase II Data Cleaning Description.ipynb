{
 "cells": [
  {
   "cell_type": "markdown",
   "metadata": {},
   "source": [
    "# Data Collection/Cleaning Description"
   ]
  },
  {
   "cell_type": "markdown",
   "metadata": {},
   "source": [
    "In this section, we will describe how we gathered the data necessary to develop the findings summarized in the Introduction of the main report. Please see the Appendix for where to find the data collection/cleaning code. "
   ]
  },
  {
   "cell_type": "markdown",
   "metadata": {},
   "source": [
    "#### Overall Goal\n",
    "We want one big dataframe, hereby called `main dataframe`, that has one entry per college. The final dataframe will have these columns: school name, ranking, tsr (stands for teacher-student ratio), pop (for student undergrad population), early_pay (salary post-graduation), a_mean (average salary for computer scientists in the area of the college), a_median (median salary by area), rat (average professor rating), and county (for location)."
   ]
  },
  {
   "cell_type": "markdown",
   "metadata": {},
   "source": [
    "#### Data Collection and Sources for each factor \n",
    "Please see the Appendix for citations/links to these sources. Below is a more in-depth description of what we did to retrieve data from the sources mentioned in the Introduction of the main report, listed by the factor of interest.\n",
    "\n",
    "- School names and prestige rankings\n",
    "> From source `topuniversities.com`, we \"webscraped\" a list of the top computer science schools in 2020 (ranked from highest to lowest prestige). The webscraping was unconventional in that we copied the entire webpage into a txt file, and then parsed the txt for ranks and school names. This site was chosen because unlike other ranking lists such as `USNews`, this site factored in employer opinion/surveys on school prestige into their ranking list, which is important to us because we are analyzing relationships with job salary. For a list of all ranking lists we considered, please see the Appendix. \n",
    "- Post-undergrad salary (called early_pay in our main dataframe) \n",
    "> From `payscale.com`, we webscraped early-career computer science salaries by school. This dataset does not name individual contributors. \n",
    "- Teacher-student ratio \n",
    "> The NCES collects data on teacher-student ratio for all US institutions. We downloaded their teacher-student ratio dataset of 6000+ schools for cleaning and processing. This dataset was created by NCES and does not list the individual contributors.  \n",
    "- Student undergrad population\n",
    "> NCES has a dataset for enrollment (graduate and undergraduate) per school available for download. This dataset was created by NCES and does not list the individual contributors.  \n",
    "- County\n",
    "> NCES has a dataset for geographic characteristics per school (i.e. state, city, county, zip code, etc.) that we downloaded. This dataset was created by NCES and does not list the individual contributors.\n",
    "- Average/median salary for computer scientists in the area where the college is located \n",
    "> The BLS has a downloadable dataset for each occupation's salary in all metropolitan and nonmetropolitan areas. The BLS includes a separate dataset that shows which counties are within which metropolitan area. Thus it is important that we find the county that each school is in, since we can map counties to (non)metropolitan areas, and then (non)metropolitan area to the computer science salary of that region. This dataset was created by the Bureau of Labor Statistics and does not list the individual contributors.\n",
    "- Average professor rating \n",
    "> We attempted to webscrape average professor ratings from `ratemyprofessor.com`, but due to technical difficulties, we manually collected data from the site. The technical difficulties were that `ratemyprofessor.com` requires a lot of clicking and typing into search bars to navigate, and while we could have used the Python package Selenium to automate this or manipulated URLs, it would be overly complex for the given time frame. "
   ]
  },
  {
   "cell_type": "markdown",
   "metadata": {},
   "source": [
    "#### Data Cleaning Steps\n",
    "1. **Cleaning School Names**: We used the dataframe of school names and rankings (created from webscraping `topuniversities.com`) as the basis of our `main` dataframe. Because we needed to use the school names in `main` to lookup information about the same school in other datasets, we first cleaned the school names by removing extra spaces, punctuation, and abbreviations, as different datasets punctuate their school names differently. "
   ]
  },
  {
   "cell_type": "markdown",
   "metadata": {},
   "source": [
    "2. **Importing Post-Undergrad Salary**: Since the school names in our dataset of post-undergrad salaries differed from what we used in `main` (ex. `Columbia University` was listed as `Columbia University in New York City`), we used the following algorithm to match school names: if a school name in the lookup dataset contained all of the components of the school name in our `main` dataset in the same order, then that was a match (so since `Columbia University in New York City` contains `Columbia` and `University` in the same order as `Columbia University`, there is a match). In this way, we could import salary data from one dataset into our main. \n",
    "> If any school wasn't found in the salary dataset, we checked to see that the algorithm wasn't failing. If the school really wasn't on `payscale.com`, we threw out the school from analysis because if we were to manually Google and input these salaries, this would generate inconsistency with our existing salary data as different online sources use different data collection and analysis methods to calculate post-graduation salaries. "
   ]
  },
  {
   "cell_type": "markdown",
   "metadata": {},
   "source": [
    "3. **Importing UnitID**: We used a similar algorithm as to above to lookup and import the UnitID for each school from a NCES dataset of schools and their unitIDs. The unitID is a unique number assigned to each college by the NCES, and is the number the NCES uses to index their other datasets. We use the unitID to lookup data from any NCES datasets in the following steps. There were cases in which our algorithm failed (ex. the NCES may list a college by campus names, if the college has many campuses), in which case we manually inserted the unitID. "
   ]
  },
  {
   "cell_type": "markdown",
   "metadata": {},
   "source": [
    "4. **Importing Student-Faculty Ratio, County, and Enrollment**: We use the unitID for each school to lookup its enrollment, county, and student-faculty ratio from three different NCES CSV files and import that into the main dataframe."
   ]
  },
  {
   "cell_type": "markdown",
   "metadata": {},
   "source": [
    "5. **Finding average/median computer scientist salary by (non)metropolitan area**: We take the BLS dataset of all occupations' salaries per (non)metropolitan area and filter out all non-computer science related jobs. We defined computer-science related job as a job that someone with a bachelor's in computer science could have and that would allow them to apply computer science knowledge (ex. Computer Systems Analysts). We then filtered out salaries listed as `*` (not found), grouped by (non)metropolitan area and calculated the mean and median salary per area. "
   ]
  },
  {
   "cell_type": "markdown",
   "metadata": {},
   "source": [
    "6. **Placing colleges in their respective (non)metropolitan area**: We match up schools with the non(metropolitan) area that it is in by county. Essentially, we use the BLS dataset mapping (non)metropolitan area to county, and lookup each school's county to get the (non)metropolitan area that the school is in."
   ]
  },
  {
   "cell_type": "markdown",
   "metadata": {},
   "source": [
    "7. **Matching colleges with the average/median salary in its non(metropolitan) area**: Using the (non)metropolitan area that each college is in, gathered in step 6, we were able to match the metropolitan area with the average/median salary of the area from the cleaned dataset in step 5 and import that salary into our `main` dataframe."
   ]
  },
  {
   "cell_type": "markdown",
   "metadata": {},
   "source": [
    "8. **Importing Average Professor Rating**: We used a similar algorithm from step 2 to lookup a school's average professor rating from our manually collected dataset from `ratemyprofessor.com` and import it into our `main` dataframe."
   ]
  },
  {
   "cell_type": "markdown",
   "metadata": {},
   "source": [
    "9. **Converting Prestige Rankings to Ranks 1-4**: We don't care about the exact ranking of a college. After all, every ranking list uses slightly different algorithms, yet there is a general consensus on what schools are more prestigious than others (ex. it is generally agreed that MIT is more 'prestigious' than University of Missouri). We of course chose `topuniversities.com` as our main ranking list because we felt its algorithm (which includes employer surveys) was especially relevant to our project, but we still care more about whether a college is generally high-ranking, low-ranking, etc. than whether a specific school is exactly 1st place or 3rd place. Thus, we used the numeric rankings scraped from `topuniversities.com` to place schools into a ranking between 1-4, like so: "
   ]
  },
  {
   "cell_type": "markdown",
   "metadata": {},
   "source": [
    ">- Rank 1 (very good) \n",
    ">> The college is in the top 20 internationally for computer science. The exact ranking of the college is not super important, we just care that it is very highly-ranked.\n",
    ">- Rank 2 (great)\n",
    ">> The college is ranked between 21-100. \n",
    ">- Rank 3 (ok) \n",
    ">> The college is ranked between 101-300 \n",
    ">- Rank 4 (at this point, nobody really cares about the ranking)\n",
    ">> The college is ranked between 301-600 (the lowest ranking `topuniversities.com` has).  \n",
    "\n",
    "While there wouldn't be the same number of schools per rank 'bin' (i.e. less schools with 1 ranking), this ranking system clarifies the boundaries between school prestige ranking better and more accurately represents which schools have the top prestige level than if we put the same number of schools per rank. In contrast, if we had the same number of schools per rank, super prestigious schools may be lumped with somewhat prestigious schools, which is not ideal. Another advantage of this ranking system is that for future analysis, we can more easily analyze the data since we only have 4 ranks to compare factors with, as opposed to 600 ranks."
   ]
  },
  {
   "cell_type": "markdown",
   "metadata": {},
   "source": [
    "10. **Miscellaneous Typecasting Columns**: We typecasted any columns that weren't the correct datatype (ex. salaries webscraped from `Payscale` were strings instead of floats, and contained unwanted commas). We also did a final cleaning of school names (ex. removing extra spaces) for consistency. "
   ]
  },
  {
   "cell_type": "markdown",
   "metadata": {},
   "source": [
    "---\n",
    "#### Final Dataframe"
   ]
  },
  {
   "cell_type": "code",
   "execution_count": 1,
   "metadata": {},
   "outputs": [
    {
     "data": {
      "text/html": [
       "<div>\n",
       "<style scoped>\n",
       "    .dataframe tbody tr th:only-of-type {\n",
       "        vertical-align: middle;\n",
       "    }\n",
       "\n",
       "    .dataframe tbody tr th {\n",
       "        vertical-align: top;\n",
       "    }\n",
       "\n",
       "    .dataframe thead th {\n",
       "        text-align: right;\n",
       "    }\n",
       "</style>\n",
       "<table border=\"1\" class=\"dataframe\">\n",
       "  <thead>\n",
       "    <tr style=\"text-align: right;\">\n",
       "      <th></th>\n",
       "      <th>school</th>\n",
       "      <th>rank</th>\n",
       "      <th>tsr</th>\n",
       "      <th>pop</th>\n",
       "      <th>early_pay</th>\n",
       "      <th>a_mean</th>\n",
       "      <th>a_median</th>\n",
       "      <th>county</th>\n",
       "      <th>rat</th>\n",
       "    </tr>\n",
       "  </thead>\n",
       "  <tbody>\n",
       "    <tr>\n",
       "      <th>0</th>\n",
       "      <td>Massachusetts Institute of Technology</td>\n",
       "      <td>1</td>\n",
       "      <td>3.0</td>\n",
       "      <td>4602</td>\n",
       "      <td>99800</td>\n",
       "      <td>100149.41</td>\n",
       "      <td>96790.0</td>\n",
       "      <td>Middlesex County</td>\n",
       "      <td>3.94</td>\n",
       "    </tr>\n",
       "    <tr>\n",
       "      <th>1</th>\n",
       "      <td>Harvard University</td>\n",
       "      <td>1</td>\n",
       "      <td>7.0</td>\n",
       "      <td>9950</td>\n",
       "      <td>96100</td>\n",
       "      <td>100149.41</td>\n",
       "      <td>96790.0</td>\n",
       "      <td>Middlesex County</td>\n",
       "      <td>3.95</td>\n",
       "    </tr>\n",
       "    <tr>\n",
       "      <th>2</th>\n",
       "      <td>Tufts University</td>\n",
       "      <td>4</td>\n",
       "      <td>9.0</td>\n",
       "      <td>5643</td>\n",
       "      <td>88000</td>\n",
       "      <td>100149.41</td>\n",
       "      <td>96790.0</td>\n",
       "      <td>Middlesex County</td>\n",
       "      <td>3.81</td>\n",
       "    </tr>\n",
       "    <tr>\n",
       "      <th>3</th>\n",
       "      <td>Stanford University</td>\n",
       "      <td>1</td>\n",
       "      <td>5.0</td>\n",
       "      <td>7087</td>\n",
       "      <td>107400</td>\n",
       "      <td>122369.38</td>\n",
       "      <td>124350.0</td>\n",
       "      <td>Santa Clara County</td>\n",
       "      <td>3.97</td>\n",
       "    </tr>\n",
       "    <tr>\n",
       "      <th>4</th>\n",
       "      <td>Carnegie Mellon University</td>\n",
       "      <td>1</td>\n",
       "      <td>10.0</td>\n",
       "      <td>6589</td>\n",
       "      <td>99000</td>\n",
       "      <td>86185.62</td>\n",
       "      <td>83340.0</td>\n",
       "      <td>Allegheny County</td>\n",
       "      <td>3.77</td>\n",
       "    </tr>\n",
       "  </tbody>\n",
       "</table>\n",
       "</div>"
      ],
      "text/plain": [
       "                                  school  rank   tsr   pop  early_pay  \\\n",
       "0  Massachusetts Institute of Technology     1   3.0  4602      99800   \n",
       "1                     Harvard University     1   7.0  9950      96100   \n",
       "2                       Tufts University     4   9.0  5643      88000   \n",
       "3                    Stanford University     1   5.0  7087     107400   \n",
       "4             Carnegie Mellon University     1  10.0  6589      99000   \n",
       "\n",
       "      a_mean  a_median              county   rat  \n",
       "0  100149.41   96790.0    Middlesex County  3.94  \n",
       "1  100149.41   96790.0    Middlesex County  3.95  \n",
       "2  100149.41   96790.0    Middlesex County  3.81  \n",
       "3  122369.38  124350.0  Santa Clara County  3.97  \n",
       "4   86185.62   83340.0    Allegheny County  3.77  "
      ]
     },
     "execution_count": 1,
     "metadata": {},
     "output_type": "execute_result"
    }
   ],
   "source": [
    "import pandas as pd\n",
    "main = pd.read_csv(\"main.csv\")\n",
    "\n",
    "# Delete extra index column, introduced by pandas during conversion to CSV \n",
    "del main[\"Unnamed: 0\"]\n",
    "main.head()"
   ]
  },
  {
   "cell_type": "markdown",
   "metadata": {},
   "source": [
    "# Appendix"
   ]
  },
  {
   "cell_type": "markdown",
   "metadata": {},
   "source": [
    "#### Code\n",
    "For our web scraping code, please refer to the notebook containing our web scraping code in this zipped folder (called `Phase II Scraping.ipynb`). For our data cleaning code, please refer to the notebook called `Phase II Data Cleaning.ipynb` in this zipped folder."
   ]
  },
  {
   "cell_type": "markdown",
   "metadata": {},
   "source": [
    "#### Source Citations\n",
    "- <a href=https://www.payscale.com/college-salary-report/best-schools-by-majors/computer-science>Payscale computer science salaries by school </a>\n",
    "- <a href=https://www.topuniversities.com/university-rankings/university-subject-rankings/2020/computer-science-information-systems> TopUniversities computer science school rankings </a>\n",
    "- The teacher student ratio, enrollment, and school geographic locations datasets were downloaded from the National Center for Education Statistic's Integrated Postsecondary Education Data System at https://nces.ed.gov/ipeds/datacenter/InstitutionByName.aspx?goToReportId=1, but the raw CSV files are on Github (`stud_fac_ratio.csv`, `enrollment.csv`, and `geographic_characteristics.csv`) \n",
    "- <a href=https://www.ratemyprofessors.com/>Average professor ratings</a> were manually collected into the `RATINGS.csv` dataset on our Github\n",
    "- The <a href=https://www.bls.gov/oes/current/oes151251.htm>Bureau of Labor Statistics occupational salary by area dataset</a> can be seen in its raw form in `occupational_salary_metropolitan.csv` in our Github, but the filtered version with only computer-science jobs can be found in `occupational_salary_filtered.csv`\n",
    "- Our full final dataset can be found in `main.csv`"
   ]
  }
 ],
 "metadata": {
  "kernelspec": {
   "display_name": "Python 3",
   "language": "python",
   "name": "python3"
  },
  "language_info": {
   "codemirror_mode": {
    "name": "ipython",
    "version": 3
   },
   "file_extension": ".py",
   "mimetype": "text/x-python",
   "name": "python",
   "nbconvert_exporter": "python",
   "pygments_lexer": "ipython3",
   "version": "3.8.5"
  }
 },
 "nbformat": 4,
 "nbformat_minor": 4
}
