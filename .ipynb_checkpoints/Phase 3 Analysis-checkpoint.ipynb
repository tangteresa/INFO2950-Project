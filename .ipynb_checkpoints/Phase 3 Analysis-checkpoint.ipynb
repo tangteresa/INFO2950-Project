{
 "cells": [
  {
   "cell_type": "markdown",
   "metadata": {},
   "source": [
    "# Research Question\n",
    "\n",
    "Which combination of factors best predicts the salary of computer science undergrads, and what aspects of these factors (ex. higher vs lower factor values) maximizes the predicted salary? \n",
    "\n",
    "Previously, our research question was \"What combination of college characteristics results in the greatest post-undergrad salary for computer science majors?\". These two research question versions essentially cover the same concept of trying to figure out which college characteristics students can use get a sense of their salary. However, we reworded it slightly to make it more clear to readers that we aren't analyzing causation. The word \"results\" is too definitive of a key word and might suggest causation, but we wanted to emphasize that we are looking at correlation, hence \"predicts\" is a better representation of our methodology. "
   ]
  },
  {
   "cell_type": "markdown",
   "metadata": {},
   "source": [
    "# Analysis Overview\n",
    "A quick summary of our planned analysis for Phase IV."
   ]
  },
  {
   "cell_type": "markdown",
   "metadata": {},
   "source": [
    "<b> Checking similarities between variables: </b> We noticed that student-teacher ratio and student enrollment could be interconnected, as it is possible that student enrollment could affect the ratio between students and teachers, and we want to check this quantitatively with correlation."
   ]
  },
  {
   "cell_type": "markdown",
   "metadata": {},
   "source": [
    "<b> Linear regressions (single variable): </b> We want to use single variable linear regressions with each of our factors (student ratio, prestige, student enrollment, professor ranking, and area salary) and post-graduation salary to check the relationships between any factor and our salary outcome."
   ]
  },
  {
   "cell_type": "markdown",
   "metadata": {},
   "source": [
    "<b> Linear regressions (multivariable): </b> We want to use multivariable linear regressions with combinations of our factors and post-graduation salary to create a model that would accurately analyze the relationship between multiple predictors and the salary outcome."
   ]
  },
  {
   "cell_type": "markdown",
   "metadata": {},
   "source": [
    "# Hypothesis/Analysis Preregistrations\n",
    "A more in depth explanation of our specific hypotheses and what exactly we are preregistering."
   ]
  },
  {
   "cell_type": "markdown",
   "metadata": {},
   "source": [
    "1. We hypothesize that student-teacher ratio and student enrollment are closely related factors (indistinct). To test our hypothesis, we will calculate the correlation coefficient for factors student-teacher ratio and student enrollment and analyze whether the coefficient is high enough to say that the two factors are very closely related. Our threshold will be 0.7, because that roughly indicates a strong relationship. <br>\n",
    "We care how closely these factors are related because in Phase II, we thought the two factors would be distinct: student-teacher ratio was supposed to be a measure of how much personalized attention a student receives, while student enrollment was a measure of how many opportunities students get (higher student population, more alumni and more clubs). However, the histograms of the two factors showed similar trends, so we want to use quantitative analysis to confirm whether the two factors are truly too highly correlated to be distinct (since student-teacher ratio is inherently connected to the size of the student population). If there is notable correlation, then we only want to use one of these factors in our regression analysis because these factors would not be measuring different concepts as we had hoped, and would both be indicative of the amount of students at the school. Using two highly correlated factors in a regression (especially multivariate) will not provide more information than if we only used one of the correlated factors, and may even impact the linear regression fit. \n"
   ]
  },
  {
   "cell_type": "markdown",
   "metadata": {},
   "source": [
    "2. We hypothesize that <b> only prestige </b>  will be the best predictor of post-undergrad computer science salary, and that higher prestige values/rankings will maximize the predicted salary. Our hypothesis that only prestige will matter is based on Phase II analysis: we discovered that average professor rating may be an indicator of student bias rather than teaching quality, and the salary of the area in which a college is located did not show similar trends to the histogram of post-undergrad salary. Meanwhile, based on Phase II plots, most schools had student enrollment and teacher-student ratio in the same range, meaning that enrollment/teacher-student ratio may not be a distinguishing factor between schools. Given these data limitations, we think it is likely that these factors will have little relationship with post-undergrad salary, and that only prestige may matter. We believe higher prestige rankings will maximize predicted salary based on the trend in society that students from more prestigious colleges seem to receive more pay. <br>\n",
    "We will test our hypothesis by performing a single variable regression analysis between post-undergrad salaries and prestige, as well as between each of our other factors and post-undergrad salary for comparison with the fit for prestige vs post-undergrad salary. However, we will also perform a multivariate regression for each combination of factors (possibly excluding student-teacher ratio or student enrollment, as explained in the first numbered point above). This is because with single variable regressions, we cannot hold other factors constant when comparing one factor with post-undergrad salary.  With the amount of factors we have, this may cause inaccuracies with single variable regression. However, multivariate models will compute regressions on variables while keeping other variables, such as the college prestige ranking, constant, which may lead to more accurate results because we can be certain that when analyzing a variable and its relationship with post-undergrad salary, we aren’t also comparing colleges of completely different prestiges, or completely different sizes, etc. <br>\n",
    "Thus, in our experiment we will also perform a multivariate regression on combinations of factors to determine which combination model has the best fit (highest R^2 score). By checking a variety of combinations, we can be more confident that we have found the best predictor(s) for salary from a group of options. \n"
   ]
  },
  {
   "cell_type": "markdown",
   "metadata": {},
   "source": [
    "3. We are curious about whether computer scientists tend to get jobs in the same area where they went to college, and based on differing histogram shapes from Phase II, we hypothesize that computer scientists don’t tend to find jobs where they go to college, or at least don't find jobs in areas with similar salary ranges as the area they graduated from. We will gather evidence for or against our hypothesis by matching up these factors for each school, finding the differences, and then plotting a histogram of the differences. If the histogram is skewed to the right (high differences), then it suggests that computer scientists don’t tend to stay in the same area where they went to college for jobs, whereas if the differences are small, it is possible that computer scientists do tend to either stay or go to areas with similar salary ranges as the area of their college. <br>\n",
    "This section with histograms is distinct from the regression we will use on area salary vs post-undergrad salary. The regression will hopefully tell us if, for example, students graduating from high-earning areas tend to also get high-earning jobs, but it's possible that the area where they get a job is still much less in terms of pay than where they graduated from (since the Phase II histogram for post-undergrad salary seemed to be centered lower than that of the area salary). With the difference histograms, it will be easier to get a sense of the magnitude of difference between the factors."
   ]
  },
  {
   "cell_type": "markdown",
   "metadata": {},
   "source": [
    "# Questions for Reviewer"
   ]
  },
  {
   "cell_type": "markdown",
   "metadata": {},
   "source": [
    "1. Is there a more efficient method of running multiple multivariable regressions instead of individually testing out all possible combinations?"
   ]
  },
  {
   "cell_type": "markdown",
   "metadata": {},
   "source": [
    "2. For multivariable regressions, we may want to to make sure we aren't comparing across different schools. Are there any alternative ways to do this beyond indicator variables? Since we have ~100 schools, it may be a lot. "
   ]
  },
  {
   "cell_type": "markdown",
   "metadata": {},
   "source": [
    "3. Is there anything else we should include, exclude, or expand on for the next phases?"
   ]
  }
 ],
 "metadata": {
  "kernelspec": {
   "display_name": "Python 3",
   "language": "python",
   "name": "python3"
  },
  "language_info": {
   "codemirror_mode": {
    "name": "ipython",
    "version": 3
   },
   "file_extension": ".py",
   "mimetype": "text/x-python",
   "name": "python",
   "nbconvert_exporter": "python",
   "pygments_lexer": "ipython3",
   "version": "3.8.5"
  }
 },
 "nbformat": 4,
 "nbformat_minor": 4
}
