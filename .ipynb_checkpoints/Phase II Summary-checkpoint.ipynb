{
 "cells": [
  {
   "cell_type": "markdown",
   "metadata": {},
   "source": [
    "# Research Question\n",
    "What combination of college characteristics results in the greatest post-undergrad salary for computer science majors? \n",
    "\n",
    "The factors/characteristics we are analyzing are: college prestige ranking, teacher-to-student ratio, student population, average professor rating, and the salary of computer scientists in the area at which the college is located. "
   ]
  },
  {
   "cell_type": "markdown",
   "metadata": {},
   "source": [
    "# Data Collection/Cleaning Summary"
   ]
  },
  {
   "cell_type": "markdown",
   "metadata": {},
   "source": [
    "Please see the Appendix for where to find the data collection/cleaning code."
   ]
  },
  {
   "cell_type": "markdown",
   "metadata": {},
   "source": [
    "#### Overall Goal\n",
    "We want one big dataframe, hereby called `main dataframe`, that has one entry per college. The final dataframe will have these columns: school name, ranking, tsr (stands for teacher-student ratio), pop (for student undergrad population), early_pay (salary post-graduation), a_mean (average salary for computer scientists in the area of the college), a_median (median salary by area), rat (average professor rating), and county (for location)."
   ]
  },
  {
   "cell_type": "markdown",
   "metadata": {},
   "source": [
    "#### Data Sources for each factor \n",
    "Please see the Appendix for citations/links to these sources.\n",
    "- School names and prestige rankings\n",
    "> This dataset came from a webscraped list of the top computer science schools in 2020 (ranked by prestige) from `topuniversities.com`, which was made by QS Quacquarelli Symonds and in partnership with Elsevier. This site was chosen because unlike other ranking lists such as `USNews`, this site factored in employer opinion/surveys on school prestige into their ranking list, which is important to us because we are analyzing relationships with job salary. For a list of all ranking lists we considered, please see the Appendix. \n",
    "- Post-undergrad salary (called early_pay in our main dataframe) \n",
    "> This datatset is a webscraped early-career computer science salaries by school from `payscale.com`, which was made by Payscale Inc. This dataset does not name individual contributors. \n",
    "- Teacher-student ratio \n",
    "> The National Center for Education Statistics (NCES) collects data on teacher-student ratio for all US institutions. We downloaded their teacher-student ratio dataset of 6000+ schools for cleaning and processing. This dataset was created by NCES and does not list the individual contributors.  \n",
    "- Student undergrad population\n",
    "> NCES has a dataset for enrollment (graduate and undergraduate) per school available for download. This dataset was created by NCES and does not list the individual contributors.  \n",
    "- County\n",
    "> NCES has a dataset for geographic characteristics per school (i.e. state, city, county, zip code, etc.) that we downloaded. This dataset was created by NCES and does not list the individual contributors.\n",
    "- Average/median salary for computer scientists in the area where the college is located \n",
    "> The Bureau of Labor Statistics (BLS) has a downloadable dataset for each occupation's salary in all metropolitan and nonmetropolitan areas. A (non)metropolitan area is defined by the counties that are within it, and the BLS includes a separate dataset that shows which counties map to which metropolitan area. Thus it is important that we find the county that each school is in, since we can map counties to (non)metropolitan areas, and then (non)metropolitan area to the computer science salary of that region. This dataset was created by the Bureau of Labor Statistics and does not list the individual contributors.\n",
    "- Average professor rating \n",
    "> We attempted to webscrape average professor ratings from `ratemyprofessor.com`, but due to technical difficulties, we manually collected data from the site. This dataset was created by Rate My Profesors, which is owned by Altice USA News."
   ]
  },
  {
   "cell_type": "markdown",
   "metadata": {},
   "source": [
    "#### Data Cleaning Steps\n",
    "1. **Cleaning School Names**: We used the dataframe of school names and rankings (created from webscraping) as the basis of our `main` dataframe. Because we needed to use the school names in `main` to lookup information about the same school in other datasets, we first cleaned the school names by removing extra spaces, punctuation, and abbreviations, as different datasets punctuate their school names differently. "
   ]
  },
  {
   "cell_type": "markdown",
   "metadata": {},
   "source": [
    "2. **Importing Post-Undergrad Salary**: Since the school names in our dataset of post-undergrad salaries differed from what we used in `main` (ex. `Columbia University` was listed as `Columbia University in New York City`), we used the following algorithm to match school names: if a school name in the lookup dataset contained all of the components of the school name in our `main` dataset in the same order, then that was a match (so since `Columbia University in New York City` contains `Columbia` and `University` in the same order as `Columbia University`, there is a match). In this way, we could import salary data from one dataset into our main. \n",
    "> If any school wasn't found in the salary dataset, we checked to see that the algorithm wasn't failing. If the school really wasn't on `payscale.com`, we threw out the school from analysis because if we were to manually Google and input these salaries, this would generate inconsistency with our existing salary data as different online sources use different data collection methods. "
   ]
  },
  {
   "cell_type": "markdown",
   "metadata": {},
   "source": [
    "3. **Importing UnitID**: We used a similar algorithm as to above to lookup and import the UnitID for each school from a NCES dataset of schools and their unitIDs. The unitID is a unique number assigned to each college by the NCES, and is the number the NCES uses to index their other datasets. We use the unitID to lookup data from any NCES datasets in the following steps. "
   ]
  },
  {
   "cell_type": "markdown",
   "metadata": {},
   "source": [
    "4. **Importing Student-Faculty Ratio, County, and Enrollment**: We use the unitID for each school to lookup its enrollment, county, and student-faculty ratio from three different CSV files and import that into the main dataframe."
   ]
  },
  {
   "cell_type": "markdown",
   "metadata": {},
   "source": [
    "5. **Finding average/median computer scientist salary by (non)metropolitan area**: We take the BLS dataset of all occupations' salaries per (non)metropolitan area and filter out all non-computer science related jobs. We defined computer-science related job as a job that someone with a bachelor's in computer science could have and that would allow them to apply computer science knowledge (ex. Computer Systems Analysts). We then filtered out salaries listed as `*` (not found), grouped by (non)metropolitan area and calculated the mean and median salary per area. "
   ]
  },
  {
   "cell_type": "markdown",
   "metadata": {},
   "source": [
    "6. **Placing colleges in their respective (non)metropolitan area**: We match up schools with the non(metropolitan) area that it is in by county. Essentially, we use the BLS dataset mapping (non)metropolitan area to county, and lookup each school's county to get the (non)metropolitan area name. "
   ]
  },
  {
   "cell_type": "markdown",
   "metadata": {},
   "source": [
    "7. **Matching colleges with the average salary in its non(metropolitan) area**: Using the (non)metropolitan area that each college is in, gathered in step 6, we were able to match the metropolitan area with the average/median salary of the area from the cleaned dataset in step 5 and import that salary into our `main` dataframe."
   ]
  },
  {
   "cell_type": "markdown",
   "metadata": {},
   "source": [
    "8. **Importing Average Professor Rating**: We used a similar algorithm from step 2 to lookup a school's average professor rating from our manually collected dataset from `ratemyprofessor.com` and import it into our `main` dataframe."
   ]
  },
  {
   "cell_type": "markdown",
   "metadata": {},
   "source": [
    "9. **Converting Prestige Rankings to Ranks 1-4**: We don't care about the exact ranking of a college. After all, every ranking list uses slightly different algorithms, yet there is a general consensus on what schools are more prestigious than others (ex. it is generally agreed that MIT is more 'prestigious' than University of Missouri). We of course chose `topuniversities.com` as our main ranking list because we felt its algorithm (which includes employer surveys) was especially relevant to our project, but we still care more about whether a college is generally high-ranking, low-ranking, etc. than whether a specific school is exactly 1st place or 3rd place. Thus, we used the numeric rankings scraped from `topuniversities.com` to place schools into a ranking between 1-4, like so: "
   ]
  },
  {
   "cell_type": "markdown",
   "metadata": {},
   "source": [
    ">- Rank 1 (very good) \n",
    ">> The college is in the top 20 internationally for computer science. The exact ranking of the college is not super important, we just care that it is very highly-ranked.\n",
    ">- Rank 2 (great)\n",
    ">> The college is ranked between 21-100. \n",
    ">- Rank 3 (ok) \n",
    ">> The college is ranked between 101-300 \n",
    ">- Rank 4 (at this point, nobody really cares about the ranking)\n",
    ">> The college is ranked between 301-600 (the lowest ranking `topuniversities.com` has).  \n",
    "\n",
    "While there wouldn't be the same number of schools per rank 'bin' (i.e. less schools with 1 ranking), this ranking system clarifies the boundaries between school prestige ranking better and more accurately represents which schools have the top prestige level than if we put the same number of schools per rank. In contrast, if we had the same number of schools per rank, super prestigious schools may be lumped with somewhat prestigious schools, which is not ideal. "
   ]
  },
  {
   "cell_type": "markdown",
   "metadata": {},
   "source": [
    "10. **Miscellaneous Typecasting Columns**: We typecasted any columns that weren't the correct datatype, as well as did a finally cleaning of school names for consistency. "
   ]
  },
  {
   "cell_type": "markdown",
   "metadata": {},
   "source": [
    "---\n",
    "#### Final Dataframe"
   ]
  },
  {
   "cell_type": "code",
   "execution_count": 1,
   "metadata": {},
   "outputs": [
    {
     "data": {
      "text/html": [
       "<div>\n",
       "<style scoped>\n",
       "    .dataframe tbody tr th:only-of-type {\n",
       "        vertical-align: middle;\n",
       "    }\n",
       "\n",
       "    .dataframe tbody tr th {\n",
       "        vertical-align: top;\n",
       "    }\n",
       "\n",
       "    .dataframe thead th {\n",
       "        text-align: right;\n",
       "    }\n",
       "</style>\n",
       "<table border=\"1\" class=\"dataframe\">\n",
       "  <thead>\n",
       "    <tr style=\"text-align: right;\">\n",
       "      <th></th>\n",
       "      <th>school</th>\n",
       "      <th>rank</th>\n",
       "      <th>tsr</th>\n",
       "      <th>pop</th>\n",
       "      <th>early_pay</th>\n",
       "      <th>a_mean</th>\n",
       "      <th>a_median</th>\n",
       "      <th>county</th>\n",
       "      <th>rat</th>\n",
       "    </tr>\n",
       "  </thead>\n",
       "  <tbody>\n",
       "    <tr>\n",
       "      <th>0</th>\n",
       "      <td>Massachusetts Institute of Technology</td>\n",
       "      <td>1</td>\n",
       "      <td>3.0</td>\n",
       "      <td>4602</td>\n",
       "      <td>99800</td>\n",
       "      <td>100149.41</td>\n",
       "      <td>96790.0</td>\n",
       "      <td>Middlesex County</td>\n",
       "      <td>3.94</td>\n",
       "    </tr>\n",
       "    <tr>\n",
       "      <th>1</th>\n",
       "      <td>Harvard University</td>\n",
       "      <td>1</td>\n",
       "      <td>7.0</td>\n",
       "      <td>9950</td>\n",
       "      <td>96100</td>\n",
       "      <td>100149.41</td>\n",
       "      <td>96790.0</td>\n",
       "      <td>Middlesex County</td>\n",
       "      <td>3.95</td>\n",
       "    </tr>\n",
       "    <tr>\n",
       "      <th>2</th>\n",
       "      <td>Tufts University</td>\n",
       "      <td>4</td>\n",
       "      <td>9.0</td>\n",
       "      <td>5643</td>\n",
       "      <td>88000</td>\n",
       "      <td>100149.41</td>\n",
       "      <td>96790.0</td>\n",
       "      <td>Middlesex County</td>\n",
       "      <td>3.81</td>\n",
       "    </tr>\n",
       "    <tr>\n",
       "      <th>3</th>\n",
       "      <td>Stanford University</td>\n",
       "      <td>1</td>\n",
       "      <td>5.0</td>\n",
       "      <td>7087</td>\n",
       "      <td>107400</td>\n",
       "      <td>122369.38</td>\n",
       "      <td>124350.0</td>\n",
       "      <td>Santa Clara County</td>\n",
       "      <td>3.97</td>\n",
       "    </tr>\n",
       "    <tr>\n",
       "      <th>4</th>\n",
       "      <td>Carnegie Mellon University</td>\n",
       "      <td>1</td>\n",
       "      <td>10.0</td>\n",
       "      <td>6589</td>\n",
       "      <td>99000</td>\n",
       "      <td>86185.62</td>\n",
       "      <td>83340.0</td>\n",
       "      <td>Allegheny County</td>\n",
       "      <td>3.77</td>\n",
       "    </tr>\n",
       "  </tbody>\n",
       "</table>\n",
       "</div>"
      ],
      "text/plain": [
       "                                  school  rank   tsr   pop  early_pay  \\\n",
       "0  Massachusetts Institute of Technology     1   3.0  4602      99800   \n",
       "1                     Harvard University     1   7.0  9950      96100   \n",
       "2                       Tufts University     4   9.0  5643      88000   \n",
       "3                    Stanford University     1   5.0  7087     107400   \n",
       "4             Carnegie Mellon University     1  10.0  6589      99000   \n",
       "\n",
       "      a_mean  a_median              county   rat  \n",
       "0  100149.41   96790.0    Middlesex County  3.94  \n",
       "1  100149.41   96790.0    Middlesex County  3.95  \n",
       "2  100149.41   96790.0    Middlesex County  3.81  \n",
       "3  122369.38  124350.0  Santa Clara County  3.97  \n",
       "4   86185.62   83340.0    Allegheny County  3.77  "
      ]
     },
     "execution_count": 1,
     "metadata": {},
     "output_type": "execute_result"
    }
   ],
   "source": [
    "import pandas as pd\n",
    "main = pd.read_csv(\"main.csv\")\n",
    "\n",
    "# Delete extra column\n",
    "del main[\"Unnamed: 0\"]\n",
    "main.head()"
   ]
  },
  {
   "cell_type": "markdown",
   "metadata": {},
   "source": [
    "---\n",
    "# Data Description"
   ]
  },
  {
   "cell_type": "markdown",
   "metadata": {},
   "source": [
    "**What are the observations(rows) and the attributes(columns)?**"
   ]
  },
  {
   "cell_type": "markdown",
   "metadata": {},
   "source": [
    "The observations are colleges (though the row indices are indices starting from 0). The attributes are: \n",
    "- `school`\n",
    "- `rank` (a ranking between 1-4, with 1 being the most prestigious)\n",
    "- `tsr` (teacher-student ratio), `pop` (student undergrad enrollment)\n",
    "- `early_pay` (early career pay, as in within 5 years of graduating, for computer science majors)\n",
    "- `a_mean` (the mean salary for computer scientists in the college's location region)\n",
    "- `a_median` (same as `a_mean`, but for medians)\n",
    "- `county` (school's county, for reference purposes rather than actual data analysis)\n",
    "- `rat` (average professor rating). "
   ]
  },
  {
   "cell_type": "markdown",
   "metadata": {},
   "source": [
    "**Why was this dataset created?**"
   ]
  },
  {
   "cell_type": "markdown",
   "metadata": {},
   "source": [
    "With the number of college applicants increasing, more and more choices for colleges, and tons of ranking lists and information online, students may struggle to determine what factors to consider when choosing to apply to college in a way that will maximize their post-undergrad salary. This dataset provides data for us to research what combination of factors maximizes early career salaries for computer science majors, and was built from a collection of other datasets, each of which was created for various reasons. "
   ]
  },
  {
   "cell_type": "markdown",
   "metadata": {},
   "source": [
    "We used datasets from the Bureau of Labor Statistics, which were created for the purpose of giving the government an accurate picture of the various occupations per major regions in the US and the earnings of laborers, so that the government can make more informed labor-related decisions. We also manually collected data from `ratemyprofessors.com`, a site that hosts professor reviews in order to give students a central location to share honest opinions about their teachers without the scrutiny of institutions. "
   ]
  },
  {
   "cell_type": "markdown",
   "metadata": {},
   "source": [
    "The majority of our datasets about college characteristics comes from The National Center for Education Statistics, which  creates educational statistics datasets to help the government make informed education-related decisions and for international comparison between the state of U.S. education and that of other nations. Both of the datasets we web-scraped were created by companies that wanted to provide information to the public to help students and employees make informed choices about their future: for example, the computer science salary by school dataset that we web-scraped is meant to help employees better estimate their worth in the job market, by comparing their current salary to the average of the school they went to, while the `topuniversities.com` ranking list is for high school seniors hunting for colleges."
   ]
  },
  {
   "cell_type": "markdown",
   "metadata": {},
   "source": [
    "**Who funded the creation of this dataset?**"
   ]
  },
  {
   "cell_type": "markdown",
   "metadata": {},
   "source": [
    "Both the Bureau of Labor Statistics and the National Center for Education Statistics are federal agencies operating off government funding to generate their datasets."
   ]
  },
  {
   "cell_type": "markdown",
   "metadata": {},
   "source": [
    "However, for data collected from websites, it is less clear where the funding is coming from. The website hosting computer science salary data, `payscale.com`, is owned by Payscale, a company that generates revenue by creating software that clients may use through a license, but people don't have to pay to use their salary data, nor is anyone paid to fill out surveys about their salaries. Meanwhile,`ratemyprofessors.com` is a website owned by Altice USA News; though this company funds the upkeep of the rating site, the data itself isn't created via funding, as students aren't paid to leave reviews and only do so voluntarily. "
   ]
  },
  {
   "cell_type": "markdown",
   "metadata": {},
   "source": [
    "`topuniversities.com` has the most interesting funding background. QS Quacquarelli Symonds owns the website and funds the QS Intelligence Unit, which gathers the ranking data. There are claims on <a href=https://en.wikipedia.org/wiki/QS_World_University_Rankings#cite_note-QC2012-24>Wikipedia</a> that the company purchased mailing lists or bought survey responses, but the sources cited in the article are unclear about this. Not surprisingly, the company has not admitted to doing any of these things, so it is uncertain what the truth is. It may not be so important if surveys were bought, since from a data science perspective, the use of surveys itself may be more of an issue."
   ]
  },
  {
   "cell_type": "markdown",
   "metadata": {},
   "source": [
    "**What processes might have influenced what data was observed and recorded and what was not?**"
   ]
  },
  {
   "cell_type": "markdown",
   "metadata": {},
   "source": [
    "Collecting salary data from every major region in the U.S. is not an easy task, especially in rural areas. It is pointed out [1] that the Bureau of Labor Statistics has less data points from (non)metropolitan areas, since those places tend to be rural and spread-out enough that it is difficult to find and communicate with relevant employers. Further, the Bureau uses the <a href=https://www.bls.gov/bls/blswage.htm#Metropolitan>process of sending out surveys to employers to gather salary information</a>, and responses to the surveys are only <a href=https://www.bls.gov/respondents/oes/faqs.htm#5>mandatory in some states</a>. Data observations then directly relate to who actually responds. Only a statistically significant sample of US businesses are selected for surveying in the first place, so a random process influences what data points are even attempted to be recorded. "
   ]
  },
  {
   "cell_type": "markdown",
   "metadata": {},
   "source": [
    "For `ratemyprofessors.com`, the process of signing up to leave a review does not include a background check to ensure that students leaving reviews are actual students of the professor in a specific university, leading to inaccurate data points being recorded. A psychological process also comes into play: how strong the user feels about their experience with a professor will affect their desire to rank them, which means students with more passionate feelings may leave more extreme reviews, while students who had good experiences may not even feel the need to write a review at all. "
   ]
  },
  {
   "cell_type": "markdown",
   "metadata": {},
   "source": [
    "According to <a href=https://www.payscale.com/college-salary-report/methodology>Payscale's methodology</a>, salary data by school is collected via a voluntary online survey. If graduates want to know their price in the labor market, they have to provide their current salary, characteristics, etc. in return for a report from the Payscale website, so there is an incentive for graduates to fill out the survey. On the flip side, psychological processes may result in people who are more insecure about their salary (especially if it is very low) being more likely to respond to the survey. Payscale evidently rigorously checks the accuracy of the information provided, such that fake data points are not recorded. Similar to Payscale, the NCES uses surveys to gather information regarding educational factors for their respective studies. This data method could influence what data was observed and recorded because the completeness and reliability of the data is reliant upon the accuracy and truthfulness of the surveys as well as how many people participated in the survey. "
   ]
  },
  {
   "cell_type": "markdown",
   "metadata": {},
   "source": [
    "Lastly, according to the <a href=https://www.topuniversities.com/subject-rankings/methodology>methodology</a> for TopUniversities, the website gathers citation information to help rank computer science programs. This citation information comes from Scopus, a database of 69 million peer-reviewed titles, but it is feasible that research papers from schools may not make it onto this site. Since only 5-year’s worth of data from Scopus is analyzed, this process means that schools that peaked in research citations prior to that time period may be ranked differently than if that past data were included. Additionally, TopUniversities sends surveys to academics and employers to gather ranking opinions, so as with surveys used for NCES and Payscale, the accuracy of the responses and who responds may vary (if the person even responds). Notably, if someone does choose to respond, they are not allowed to rank their own school. "
   ]
  },
  {
   "cell_type": "markdown",
   "metadata": {},
   "source": [
    "[1] https://www.ncbi.nlm.nih.gov/books/NBK190072/#:~:text=CONCLUSION,data%20are%20not%20as%20reliable"
   ]
  },
  {
   "cell_type": "markdown",
   "metadata": {},
   "source": [
    "**What preprocessing was done, and how did the data come to be in the form that you are using?**"
   ]
  },
  {
   "cell_type": "markdown",
   "metadata": {},
   "source": [
    "Please see the Data Cleaning section above for details on the processing of the final dataset. All of the sites and entities discussed above ran their data through their own statistical analysis before making the datasets public. For example, Payscale filtered out inaccurate salary reports from respondents before calculating average salary by school. Meanwhile, TopUniversities standardized their survey results, while also calculating the H-index, a measure of how productive a researcher is related to the number of their publications and how often they are cited as a source, to include in their rankings calculations. Notably, `ratemyprofessors.com` does not appear to do any major processing of the reviews left on the site, though site maintainers do check reviews for constructiveness and reviews can be reported for not following the site’s etiquette guidelines. "
   ]
  },
  {
   "cell_type": "markdown",
   "metadata": {},
   "source": [
    "**If people are involved, were they aware of the data collection and if so, what purpose did they expect the data to be used for?**"
   ]
  },
  {
   "cell_type": "markdown",
   "metadata": {},
   "source": [
    "Most of the datasets we used to build our `main` dataset involved surveying of some kind. The survey respondents were aware that the information that they were filling out would go towards a general dataset of information that would be presented to the public. They expect that the information that they gave on their surveys would be used accurately and truthfully to reflect their experiences, and responding was largely voluntary (expect for employers in states where the Bureau of Labor Statistics required a response, but even then, respondents were well-informed). "
   ]
  },
  {
   "cell_type": "markdown",
   "metadata": {},
   "source": [
    "**Where can your raw source data be found, if applicable?** "
   ]
  },
  {
   "cell_type": "markdown",
   "metadata": {},
   "source": [
    "The datasets can be found in Github at https://github.com/tangteresa/INFO2950-Project or in the zip file for this notebook."
   ]
  },
  {
   "cell_type": "markdown",
   "metadata": {},
   "source": [
    "# Data Limitations"
   ]
  },
  {
   "cell_type": "markdown",
   "metadata": {},
   "source": [
    "The Bureau of Labor Statistics dataset may have several limitations. The first is that because self-employed workers were not surveyed, the data might not be representative of those computer scientists who are self employed, such as freelance computer programmers. The exclusion of these data points can lead to a skewed salary result. However, we believe this may not have a significant impact, as most recent college graduates are not self-employed, though if any were, they would not be represented in our results since we focus on salary reports from those who are employed by a company. Further, the Bureau used employer surveys for salary estimates. Surveys can be unreliable because they rely on self reporting, which could be inaccurate if the individual taking the survey misrepresented his/her’s information. Also, it could be possible that different amounts of surveys were taken into account for different metropolitan areas. Therefore, those with lower amounts of survey data might have a lot of variability, skewing the data. This is certainly the case for nonmetropolitan areas, which are harder to collect data from, but this is not likely going to affect our results much, since most of our schools are in metropolitan areas with many employers/data points. "
   ]
  },
  {
   "cell_type": "markdown",
   "metadata": {},
   "source": [
    "Meanwhile, the data from `ratemyprofessors.com` can be skewed by biased reportings from students. As a result, the ratings for a specific university might not be representative of the true faculty quality. This would mean that our basis of professor ratings does not accurately reflect school teaching quality due to bias, as it is likely that students who have more negative views are more likely to leave a review, dragging down professor ratings. `ratemyprofessors.com` asks for professor difficulty ratings from students who leave a review; students may leave high reviews for professors who are easy, whereas professors that have difficult classes (but good teaching) may get lower ranked. Thus, we should be careful to avoid claiming that average professor ratings directly measures teaching quality when reporting our results about whether professor ratings is important for maximizing graduate salary. "
   ]
  },
  {
   "cell_type": "markdown",
   "metadata": {},
   "source": [
    "Additionally, the amount of reviews a college has could be different per school. It is more likely that smaller schools would have less reviews because of their smaller student population. Therefore, the varying sample size would put some universities at a disadvantage and others at an advantage in terms of rating. We will take this into account before presenting our results: to mitigate the effects of the number of reviews, we will take the average of the total number of ratings from all the schools we observe. Then, we will use that average to scale up the ratings of the smaller schools (by the difference in the number of ratings) and scale down the ratings of the larger schools (by the difference in the number of ratings) to level out the playing field such that each university will have equal representation. "
   ]
  },
  {
   "cell_type": "markdown",
   "metadata": {},
   "source": [
    "Similar to the limitations for `ratemyprofessors.com`, all the data sources that used surveys in their data collection will likely suffer from some form of bias, not only in the truthfulness of the surveyed, but also voluntary response bias, as some category of people may be more likely to respond than others. The Bureau of Labor Statistics somewhat mitigates this by having surveys be mandatory for some states. The meaning of our results should then be interpreted as a recommendation, not a fact, because most of our data stems from subjective sources. This is especially important for students who may use our results, because they should understand that even if our results reveal that certain factors maximize post-undergrad salary, it may not work for them due to the variability and subjectivity of the factors. "
   ]
  },
  {
   "cell_type": "markdown",
   "metadata": {},
   "source": [
    "Even datasets that appear to use objective measures may have limitations. For example, TopUniversities uses the H-index as a factor in calculating college prestige rankings. The index uses a researcher's set of most-cited papers and how many other people have cited this researcher to measure \"researcher productivity.\" Schools with productive researcher have higher academic quality, in theory. However, the limitation is that the H-index may not measure productivity, but more so measures popularity and how much exposure or publicity a researcher can get for their paper. The effect on our results meaning is that prestige is closely related to popularity, so if it turns out to be a major factor in maximizing post-undergrad salary, it will be difficult to say exactly how someone can differentiate between a school that is prestigious vs. popular. However, we did attempt to mitigate the effect of inaccuracies with survey results and measuring researcher \"productivity\" on our results by re-ranking colleges to be between 1-4, to account for unimportant variations in exact ranking."
   ]
  },
  {
   "cell_type": "markdown",
   "metadata": {},
   "source": [
    "There is a sort of feedback loop with surveying employers and getting prestige rankings. If graduates from a certain school have a certain salary level, then employers who research their market values are more likely to adjust their salary offers to be similar. This perpetuates the salary level for those graduates, such that salary levels may be more related to the status quo than reflect changes in student quality. There is a similar feedback loop with professors with high rankings, in that professors with high rankings are more likely to attract more students, who will likely perpetuate the quality of the professor, whereas professors who are great teachers but don’t get initial exposure may continue to remain less well-known and have steady ratings. In this way, the data we have collected may be a measurement of status quo and may not capture fluctuations in school quality, so the meaning of our results should be interpreted as a snapshot in time. A longitudinal study that may more accurately reflect how graduate salary actually changes and correlates with factors. "
   ]
  },
  {
   "cell_type": "markdown",
   "metadata": {},
   "source": [
    "Lastly, we removed colleges that were ranked highly but that didn't have salary data on `payscale.com`. While we only removed a couple and still have a large sample to work with, these removed top schools garner a lot of public/applicant interest, so our results may appear less valuable to students since we don't consider certain popular schools. "
   ]
  },
  {
   "cell_type": "markdown",
   "metadata": {},
   "source": [
    "# Exploratory Data Analysis"
   ]
  },
  {
   "cell_type": "markdown",
   "metadata": {},
   "source": [
    "We want to see the general shape of each our factors and get a sense of how closely grouped the data is. This is important because for example, if computer science post-undergrad salaries are super close together and there is little variation, this may tell us that analyzing what school has the highest post-undergrad salary is not important, as they are all practically the same regardless. We also compare histograms with others to get a sense of relationships, and compute both mean and median for most datasets so we can get a numerical sense of how skewed the data is (more accurate than estimating from a histogram). "
   ]
  },
  {
   "cell_type": "code",
   "execution_count": 2,
   "metadata": {},
   "outputs": [],
   "source": [
    "import matplotlib.pyplot as plt"
   ]
  },
  {
   "cell_type": "markdown",
   "metadata": {},
   "source": [
    "---\n",
    "#### Post-Undergrad Salary "
   ]
  },
  {
   "cell_type": "code",
   "execution_count": 3,
   "metadata": {},
   "outputs": [
    {
     "data": {
      "image/png": "[encoded data removed]",
      "text/plain": [
       "<Figure size 432x288 with 1 Axes>"
      ]
     },
     "metadata": {
      "needs_background": "light"
     },
     "output_type": "display_data"
    }
   ],
   "source": [
    "plt.hist(main[\"early_pay\"])\n",
    "plt.xlabel(\"Post-Undergrad Salary\")\n",
    "plt.ylabel(\"Frequency\")\n",
    "plt.show()"
   ]
  },
  {
   "cell_type": "code",
   "execution_count": 4,
   "metadata": {},
   "outputs": [
    {
     "name": "stdout",
     "output_type": "stream",
     "text": [
      "Median: 73850.0\n",
      "Std dev: 11778.18\n",
      "Min: 55100.0\n",
      "Max: 107400.0\n"
     ]
    }
   ],
   "source": [
    "pay_sum_stats = main[\"early_pay\"].describe()\n",
    "print(f\"Median: {main['early_pay'].median()}\")\n",
    "print(f\"Std dev: {round(pay_sum_stats['std'], 2)}\")\n",
    "print(f\"Min: {round(pay_sum_stats['min'], 2)}\")\n",
    "print(f\"Max: {round(pay_sum_stats['max'], 2)}\")"
   ]
  },
  {
   "cell_type": "markdown",
   "metadata": {},
   "source": [
    "While we originally thought computer science salaries were likely to be super high (90k+) and closely grouped (as in, all with a few thousand dollars of each other), we see that even though computer science is hyped as a high-paying field, there is still lots of wiggle room and a very real possibility of earning less than 90,000 a year. In fact, most of the salaries are 70k to 80k ish (based on the histogram), with a median of `73850`. This is much lower than we expected. "
   ]
  },
  {
   "cell_type": "markdown",
   "metadata": {},
   "source": [
    "We see that the standard deviation of `11778.18` is fairly large, and there is a big range of roughly $50,000 between a min of `55100` and a max of `107400`. This confirms the importance of our research; for a fresh college graduate who likely has lots of student debt, getting a job paying 100,000+ dollars versus a job of 50,000 dollars ish can make a huge difference in their quality of life and financial situation. Since there is such a huge range in which a graduate's salary may fall, it would greatly benefit these students to know what college characteristics they should look out for to maximize their likelihood of getting a job with a salary on the higher end of this histogram. "
   ]
  },
  {
   "cell_type": "markdown",
   "metadata": {},
   "source": [
    "**Note**: We do not take the mean because these salary points are already averages of computer scientists from a given school, so taking the average of an average doesn't make much sense. Plus, the histogram shows that the data is skewed to one side, so a median is more representative of the data 'center' anyway. "
   ]
  },
  {
   "cell_type": "markdown",
   "metadata": {},
   "source": [
    "---\n",
    "#### Mean Area Salary"
   ]
  },
  {
   "cell_type": "code",
   "execution_count": 5,
   "metadata": {},
   "outputs": [
    {
     "data": {
      "image/png": "[encoded data removed]",
      "text/plain": [
       "<Figure size 432x288 with 1 Axes>"
      ]
     },
     "metadata": {
      "needs_background": "light"
     },
     "output_type": "display_data"
    }
   ],
   "source": [
    "plt.hist(main[\"a_mean\"])\n",
    "plt.xlabel(\"Average computer scientist salary per metropolitan area\")\n",
    "plt.ylabel(\"Frequency\")\n",
    "plt.show()"
   ]
  },
  {
   "cell_type": "code",
   "execution_count": 6,
   "metadata": {
    "scrolled": true
   },
   "outputs": [
    {
     "name": "stdout",
     "output_type": "stream",
     "text": [
      "Median: 87052.645\n",
      "Std dev: 11701.77\n",
      "Min: 60551.67\n",
      "Max: 122369.38\n"
     ]
    }
   ],
   "source": [
    "area_sum_stats = main[\"a_mean\"].describe()\n",
    "print(f\"Median: {main['a_mean'].median()}\")\n",
    "print(f\"Std dev: {round(area_sum_stats['std'], 2)}\")\n",
    "print(f\"Min: {round(area_sum_stats['min'], 2)}\")\n",
    "print(f\"Max: {round(area_sum_stats['max'], 2)}\")"
   ]
  },
  {
   "cell_type": "markdown",
   "metadata": {},
   "source": [
    "It is interesting to compare this histogram and stats to the characteristics of post-undergrad salary. While the standard deviations for these two factors are practically the same (`11670` versus `11778`, the mean area salary data sits 'higher' than post-undergrad salary, as its median and max are higher than that of post-undergrad salary by 10k. While we have not yet matched up post-undergrad and area salary for each school, this trend may be evidence (though we will have to do further statsitical analysis to check this) that graduates aren't necessarily getting jobs in the same area as the college they went to. "
   ]
  },
  {
   "cell_type": "markdown",
   "metadata": {},
   "source": [
    "On the other hand, the mean area salaries may be higher than what we predict because we took the average of computer science job salaries in a given metropolitan area. Certain areas with one or two higher paying jobs may have means pulled by up these outliers, so it may be more accurate to analyze the median area salary instead regardless of how it relates to post-undergrad salary. At this point, we updated our dataset to also include median salaries by area and compare the results as follows."
   ]
  },
  {
   "cell_type": "markdown",
   "metadata": {},
   "source": [
    "#### Median Area Salary"
   ]
  },
  {
   "cell_type": "code",
   "execution_count": 14,
   "metadata": {},
   "outputs": [
    {
     "data": {
      "image/png": "[encoded data removed]",
      "text/plain": [
       "<Figure size 432x288 with 1 Axes>"
      ]
     },
     "metadata": {
      "needs_background": "light"
     },
     "output_type": "display_data"
    }
   ],
   "source": [
    "plt.hist(main[\"a_median\"])\n",
    "plt.xlabel(\"Median computer scientist salary per metropolitan area\")\n",
    "plt.ylabel(\"Frequency\")\n",
    "plt.show()"
   ]
  },
  {
   "cell_type": "code",
   "execution_count": 15,
   "metadata": {},
   "outputs": [
    {
     "name": "stdout",
     "output_type": "stream",
     "text": [
      "Median: 85595.0\n",
      "Std dev: 12676.54\n",
      "Min: 55720.0\n",
      "Max: 124350.0\n"
     ]
    }
   ],
   "source": [
    "marea_sum_stats = main[\"a_median\"].describe()\n",
    "print(f\"Median: {main['a_median'].median()}\")\n",
    "print(f\"Std dev: {round(marea_sum_stats['std'], 2)}\")\n",
    "print(f\"Min: {round(marea_sum_stats['min'], 2)}\")\n",
    "print(f\"Max: {round(marea_sum_stats['max'], 2)}\")"
   ]
  },
  {
   "cell_type": "markdown",
   "metadata": {},
   "source": [
    "After adding the median salary, we think that the median salary by area will be better than mean area salary in future calculations, since for any given college, the median and mean differ noticeably, so the salaries by area are skewed. A median would be a better representation of the center of salaries per area. "
   ]
  },
  {
   "cell_type": "markdown",
   "metadata": {},
   "source": [
    "Comparing this histogram with that of post-undergrad salary, we see a similar trend that happened with the mean salary by area: the median and max are higher by about 10k, but the standard deviation is roughly the same (`12676.54` and `11778.17`). Since the mean and median salary both exhibit this trend compare to post-undergrad salary, we are fairly confident now that this is because of an underlying factor unrelated to skewing due to high salaries. The post-undergrad salary histogram is skewed left, while this one is more symmetric, so it is possible that graduates tend to move to lower-paying areas away from where they went to college (but to be more clear about this, we will need to match up each college with its location salary and post-undergrad salary for correlation calculations in `Phase III`). Another possibility is that people with lower salaries are more likely to report to Payscale, because they are more interested in how they compare to others. "
   ]
  },
  {
   "cell_type": "markdown",
   "metadata": {},
   "source": [
    "#### Teacher Student Ratio "
   ]
  },
  {
   "cell_type": "code",
   "execution_count": 7,
   "metadata": {},
   "outputs": [
    {
     "data": {
      "image/png": "[encoded data removed]",
      "text/plain": [
       "<Figure size 432x288 with 1 Axes>"
      ]
     },
     "metadata": {
      "needs_background": "light"
     },
     "output_type": "display_data"
    }
   ],
   "source": [
    "plt.hist(main[\"tsr\"])\n",
    "plt.xlabel(\"Teacher Student Ratio (N, where N is students per teacher)\")\n",
    "plt.ylabel(\"Frequency\")\n",
    "plt.show()"
   ]
  },
  {
   "cell_type": "code",
   "execution_count": 8,
   "metadata": {},
   "outputs": [
    {
     "name": "stdout",
     "output_type": "stream",
     "text": [
      "Median: 16.0\n",
      "Mean: 15.02\n",
      "Min: 3.0\n",
      "Max: 30.0\n"
     ]
    }
   ],
   "source": [
    "tsr_stats = main[\"tsr\"].describe()\n",
    "print(f\"Median: {main['tsr'].median()}\")\n",
    "print(f\"Mean: {round(tsr_stats['mean'], 2)}\")\n",
    "print(f\"Min: {round(tsr_stats['min'], 2)}\")\n",
    "print(f\"Max: {round(tsr_stats['max'], 2)}\")"
   ]
  },
  {
   "cell_type": "markdown",
   "metadata": {},
   "source": [
    "While the range is fairly large at `27` (max of 30 - min of 3), the min/max didn't appear to skew the mean as much, as both the median and mean are fairly close, so we can see that the typical teacher student ratio is about `15` to `16`. However, the summary stats don't reveal the interesting fact that the histogram reveals: there are two peaks in the data. This is likely due to school size, as big schools likely have a higher student ratio (at peak around `17`), while the smaller schools are lower (at peak around `7`). This histogram is especially useful because it shows us that there are a large portion of schools with practically identical teacher-student ratios, so if these schools have vastly different salaries, we can more easily suggest that teacher-student ratio may not be a significant differentiator for salary. Because of the relationship between teacher student ratio and enrollment, we predict that the enrollment histogram will have two peaks also."
   ]
  },
  {
   "cell_type": "markdown",
   "metadata": {},
   "source": [
    "#### Enrollment"
   ]
  },
  {
   "cell_type": "code",
   "execution_count": 9,
   "metadata": {
    "scrolled": true
   },
   "outputs": [
    {
     "data": {
      "image/png": "[encoded data removed]",
      "text/plain": [
       "<Figure size 432x288 with 1 Axes>"
      ]
     },
     "metadata": {
      "needs_background": "light"
     },
     "output_type": "display_data"
    }
   ],
   "source": [
    "plt.hist(main[\"pop\"])\n",
    "plt.xlabel(\"Undergrad population\")\n",
    "plt.ylabel(\"Frequency\")\n",
    "plt.show()"
   ]
  },
  {
   "cell_type": "code",
   "execution_count": 10,
   "metadata": {
    "scrolled": true
   },
   "outputs": [
    {
     "name": "stdout",
     "output_type": "stream",
     "text": [
      "Median: 21218.5\n",
      "Mean: 21984.16\n",
      "Std dev: 12212.67\n"
     ]
    }
   ],
   "source": [
    "enroll_stats = main[\"pop\"].describe()\n",
    "print(f\"Median: {main['pop'].median()}\")\n",
    "print(f\"Mean: {round(enroll_stats['mean'], 2)}\")\n",
    "print(f\"Std dev: {round(enroll_stats['std'], 2)}\")"
   ]
  },
  {
   "cell_type": "markdown",
   "metadata": {},
   "source": [
    "We see from the standard deviation of `12212.67` that there is a decent representation of school sizes in our dataset. While the mean and median show that our typical school size is about `21000` to `22000` (as expected), there are a surprisingly large amount of schools (20) with less than `10000` students. While we originally thought that the top 600 prestigious schools would be larger, given the high number of applicants, we now are curious about whether smaller schools tend to be more prestigious. We may want to add this as a second research question in addition to our first one, since we already have prestige data to compare with.  "
   ]
  },
  {
   "cell_type": "markdown",
   "metadata": {},
   "source": [
    "As predicted, there are roughly 2 peaks in the enrollment histogram, just like in the teacher-student ratio histogram, which may suggest a relationship between teacher student ratio and undergraduate population that can be revealed with further statistical analysis in `Phase III`.  Originally, we thought teacher student ratio and enrollment would be fairly distinct: teacher student ratio was intended to measure individual attention (i.e. how personalized a teacher's instruction can be -- the more personalized, the better equipped a computer science student is likely to be), while we thought of undergrad enrollment as more related to number of alumni connections (the more students, the more likely you can find an alumni that will network you into a high-paying job) and opportunities (more clubs, more diversity). However, if it turns out that there is a signifcant correlation between these two variables, we may need to throw out one of them, as in that case either one may be used to predict/correlate with salary."
   ]
  },
  {
   "cell_type": "markdown",
   "metadata": {},
   "source": [
    "#### Average Professor Rating"
   ]
  },
  {
   "cell_type": "code",
   "execution_count": 11,
   "metadata": {},
   "outputs": [
    {
     "data": {
      "image/png": "[encoded data removed]",
      "text/plain": [
       "<Figure size 432x288 with 1 Axes>"
      ]
     },
     "metadata": {
      "needs_background": "light"
     },
     "output_type": "display_data"
    }
   ],
   "source": [
    "plt.hist(main[\"rat\"])\n",
    "plt.xlabel(\"Average professor rating\")\n",
    "plt.ylabel(\"Frequency\")\n",
    "plt.show()"
   ]
  },
  {
   "cell_type": "code",
   "execution_count": 12,
   "metadata": {},
   "outputs": [
    {
     "name": "stdout",
     "output_type": "stream",
     "text": [
      "Median: 3.75\n",
      "Mean: 3.76\n",
      "Std dev: 0.12\n",
      "Max: 4.4\n"
     ]
    }
   ],
   "source": [
    "rat_stats = main[\"rat\"].describe()\n",
    "print(f\"Median: {main['rat'].median()}\")\n",
    "print(f\"Mean: {round(rat_stats['mean'], 2)}\")\n",
    "print(f\"Std dev: {round(rat_stats['std'], 2)}\")\n",
    "print(f\"Max: {round(rat_stats['max'], 2)}\")"
   ]
  },
  {
   "cell_type": "markdown",
   "metadata": {},
   "source": [
    "When we manually collected the professor rating, we noticed that most ratings seemed fairly close together. This histogram confirms our observation: the standard deviation is only `0.12`, and most ratings are between `3.6` and a little over `3.8`, with an average of `3.7`. At this point, it does seem like the closeness of the datapoints is a problem, since it may not be a great differentiator between schools and their graduate salaries if all ratings are practically the same. We cut out the outlier at 4.4, to see if we can better zoom in on the shape of data points between `3.6` to `3.8` roughly: "
   ]
  },
  {
   "cell_type": "code",
   "execution_count": 13,
   "metadata": {},
   "outputs": [
    {
     "data": {
      "image/png": "[encoded data removed]",
      "text/plain": [
       "<Figure size 432x288 with 1 Axes>"
      ]
     },
     "metadata": {
      "needs_background": "light"
     },
     "output_type": "display_data"
    }
   ],
   "source": [
    "subset = main.copy()[main[\"rat\"] != rat_stats[\"max\"]]\n",
    "plt.hist(subset[\"rat\"], bins = 50, edgecolor = 'white')\n",
    "plt.xlabel(\"Average professor rating (outlier removed)\")\n",
    "plt.ylabel(\"Frequency\")\n",
    "plt.show()"
   ]
  },
  {
   "cell_type": "markdown",
   "metadata": {},
   "source": [
    "With this histogram, it is easier to see that there are some fine differences between the ratings, on the scale of hundreths. While it could be argued that the ratings are so close that the differences in hundredths between them don't matter, we think that the closeness is important. A school on `ratemyprofessors` typically has thousands of ratings, so with such a large sample size, it does matter that a school has, for example, a rating of `3.65` versus `3.68`, because moving from a rating of `3.65` to `3.68` would take hundreds of positive reviews to move up the average. So we will keep average professor rating as a measurement of teaching quality and a factor in predicting post-undergrad salary. "
   ]
  },
  {
   "cell_type": "markdown",
   "metadata": {},
   "source": [
    "#### Additional/Miscellaneous Notes\n",
    "- We didn't create a histogram for just school prestige ranking, as it would not tell us anything new. Because we set up our rankings in 'bins' of 1-4, we already know the prestige rankings are skewed, as there are more schools in the lower bins (since rank 1 is only the top 20 schools)"
   ]
  },
  {
   "cell_type": "markdown",
   "metadata": {},
   "source": [
    "# Questions for Reviewers"
   ]
  },
  {
   "cell_type": "markdown",
   "metadata": {},
   "source": [
    "# Appendix"
   ]
  },
  {
   "cell_type": "markdown",
   "metadata": {},
   "source": [
    "#### Code\n",
    "For our web scraping code, please refer to the notebook containing our web scraping code in this zipped folder (called `Phase II Scraping.ipynb`). For our data cleaning code, please refer to the notebook called `Phase II Data Cleaning.ipynb` in this zipped folder."
   ]
  },
  {
   "cell_type": "markdown",
   "metadata": {},
   "source": [
    "#### Ranking List Research\n",
    "Please go to this Google Doc to view all of the ranking lists and their links that we considered for ranking college prestige: https://docs.google.com/document/d/1ir6Yyylmpt4Xbgjfd34MWFPMk9_d9j2T5M2NIeY5Lvk/edit?usp=sharing"
   ]
  },
  {
   "cell_type": "markdown",
   "metadata": {},
   "source": [
    "#### Source Citations\n",
    "- <a href=https://www.payscale.com/college-salary-report/best-schools-by-majors/computer-science>Payscale computer science salaries by school </a>\n",
    "- <a href=https://www.topuniversities.com/university-rankings/university-subject-rankings/2020/computer-science-information-systems> TopUniversities computer science school rankings </a>\n",
    "- The teacher student ratio, enrollment, and school geographic locations datasets were downloaded from the National Center for Education Statistic's Integrated Postsecondary Education Data System at https://nces.ed.gov/ipeds/datacenter/InstitutionByName.aspx?goToReportId=1, but the raw CSV files are zipped in this folder (`stud_fac_ratio.csv`, `enrollment.csv`, and `geographic_characteristics.csv`) \n",
    "- <a href=https://www.ratemyprofessors.com/>Average professor ratings</a> were manually collected into the `RATINGS.csv` dataset in this zipped folder\n",
    "- The <a href=https://www.bls.gov/oes/current/oes151251.htm>Bureau of Labor Statistics occupational salary by area dataset</a> can be seen in its raw form in `occupational_salary_metropolitan.csv` in this zipped folder, but the filtered version with only computer-science jobs can be found in `occupational_salary_filtered.csv`\n",
    "- Our full final dataset can be found in `main.csv`"
   ]
  }
 ],
 "metadata": {
  "kernelspec": {
   "display_name": "Python 3",
   "language": "python",
   "name": "python3"
  },
  "language_info": {
   "codemirror_mode": {
    "name": "ipython",
    "version": 3
   },
   "file_extension": ".py",
   "mimetype": "text/x-python",
   "name": "python",
   "nbconvert_exporter": "python",
   "pygments_lexer": "ipython3",
   "version": "3.8.5"
  }
 },
 "nbformat": 4,
 "nbformat_minor": 4
}
