{
 "cells": [
  {
   "cell_type": "markdown",
   "metadata": {},
   "source": [
    "# Data Collection (Web Scraping)"
   ]
  },
  {
   "cell_type": "code",
   "execution_count": 17,
   "metadata": {},
   "outputs": [],
   "source": [
    "import pandas as pd\n",
    "import requests \n",
    "import bs4"
   ]
  },
  {
   "cell_type": "markdown",
   "metadata": {},
   "source": [
    "---\n",
    "**Code for Webscraping College Prestige Rankings** "
   ]
  },
  {
   "cell_type": "markdown",
   "metadata": {},
   "source": [
    "We used a modified form of \"web scraping\" in that we highlighted all text on the website and copied and pasted it into a txt file for easier automated text parsing, as truly webscraping the text off of the website would result in a complex and time-consuming HTML structure parsing. The txt file is in our Github (called `topuniversities_rankings.txt`). Below is the code for parsing the txt file: "
   ]
  },
  {
   "cell_type": "code",
   "execution_count": 3,
   "metadata": {},
   "outputs": [],
   "source": [
    "rankingdf = pd.DataFrame(data = None, columns = [\"rank\", \"school\"])"
   ]
  },
  {
   "cell_type": "code",
   "execution_count": 4,
   "metadata": {},
   "outputs": [],
   "source": [
    "def parse_school_name(line): \n",
    "    '''\n",
    "    param line is a line from the txt file of the form 'school_name Logo school_name More United States'\n",
    "    return a string of the school name parsed from the file line\n",
    "    '''\n",
    "    text = line.split(\"Logo\")[1]\n",
    "    return text.split(\"More\")[0]"
   ]
  },
  {
   "cell_type": "code",
   "execution_count": 5,
   "metadata": {},
   "outputs": [],
   "source": [
    "def parse_lines(lines, rankingdf): \n",
    "    '''\n",
    "    param lines are the lines read from the txt file containing college prestige rankings from topuniversities.com\n",
    "    returns a dataframe that has parsed school names and international prestige rankings appended to it \n",
    "    '''\n",
    "    idx = 1\n",
    "    while idx <= len(lines) - 1: \n",
    "        rank = lines[idx - 1].replace(\"\\n\", \"\")\n",
    "        school = parse_school_name(lines[idx])\n",
    "        entry = {\"rank\": rank, \"school\": school}\n",
    "        rankingdf = rankingdf.append(entry, ignore_index=True)\n",
    "        idx = idx + 2\n",
    "    return rankingdf"
   ]
  },
  {
   "cell_type": "code",
   "execution_count": 6,
   "metadata": {},
   "outputs": [],
   "source": [
    "with open(\"topuniversities_rankings.txt\", 'r') as f: \n",
    "    lines = f.readlines()\n",
    "    rankingdf = parse_lines(lines, rankingdf)"
   ]
  },
  {
   "cell_type": "code",
   "execution_count": 8,
   "metadata": {},
   "outputs": [
    {
     "data": {
      "text/html": [
       "<div>\n",
       "<style scoped>\n",
       "    .dataframe tbody tr th:only-of-type {\n",
       "        vertical-align: middle;\n",
       "    }\n",
       "\n",
       "    .dataframe tbody tr th {\n",
       "        vertical-align: top;\n",
       "    }\n",
       "\n",
       "    .dataframe thead th {\n",
       "        text-align: right;\n",
       "    }\n",
       "</style>\n",
       "<table border=\"1\" class=\"dataframe\">\n",
       "  <thead>\n",
       "    <tr style=\"text-align: right;\">\n",
       "      <th></th>\n",
       "      <th>rank</th>\n",
       "      <th>school</th>\n",
       "    </tr>\n",
       "  </thead>\n",
       "  <tbody>\n",
       "    <tr>\n",
       "      <th>0</th>\n",
       "      <td>1</td>\n",
       "      <td>Massachusetts Institute of Technology (MIT)</td>\n",
       "    </tr>\n",
       "    <tr>\n",
       "      <th>1</th>\n",
       "      <td>2</td>\n",
       "      <td>Stanford University</td>\n",
       "    </tr>\n",
       "    <tr>\n",
       "      <th>2</th>\n",
       "      <td>3</td>\n",
       "      <td>Carnegie Mellon University</td>\n",
       "    </tr>\n",
       "    <tr>\n",
       "      <th>3</th>\n",
       "      <td>4</td>\n",
       "      <td>University of California, Berkeley (UCB)</td>\n",
       "    </tr>\n",
       "    <tr>\n",
       "      <th>4</th>\n",
       "      <td>7</td>\n",
       "      <td>Harvard University</td>\n",
       "    </tr>\n",
       "  </tbody>\n",
       "</table>\n",
       "</div>"
      ],
      "text/plain": [
       "  rank                                       school\n",
       "0    1  Massachusetts Institute of Technology (MIT)\n",
       "1    2                          Stanford University\n",
       "2    3                   Carnegie Mellon University\n",
       "3    4     University of California, Berkeley (UCB)\n",
       "4    7                           Harvard University"
      ]
     },
     "execution_count": 8,
     "metadata": {},
     "output_type": "execute_result"
    }
   ],
   "source": [
    "rankingdf.head()"
   ]
  },
  {
   "cell_type": "code",
   "execution_count": 9,
   "metadata": {},
   "outputs": [],
   "source": [
    "rankingdf.to_csv(\"ranking.csv\")"
   ]
  },
  {
   "cell_type": "markdown",
   "metadata": {},
   "source": [
    "---\n",
    "**Code for Webscraping Computer Science Graduates' Salaries (by college)**"
   ]
  },
  {
   "cell_type": "markdown",
   "metadata": {},
   "source": [
    " `Payscale.com` has a table spanning multiple web pages of school names and their early and mid career salaries. The URL format of these web pages is predictable, so essentially, our algorithm seen below does the following: \n",
    " 1. Start from page 1 and scrape the HTML table for relevant data \n",
    " 2. Increment the page number in the URL, make a new request to this web page, and scrape the HTML table\n",
    " 3. Repeat until the last school's salary data has been scraped "
   ]
  },
  {
   "cell_type": "code",
   "execution_count": 10,
   "metadata": {},
   "outputs": [],
   "source": [
    "def parse_school_name(href): \n",
    "    '''\n",
    "    param href is the link component of an <a> tag of the form '/research/US/School=school_name/Salary'\n",
    "    returns school_name parsed from href\n",
    "    '''\n",
    "    school_name = href.split(\"/research/US/School=\")[1]\n",
    "    school_name = school_name.split(\"/Salary\")[0]\n",
    "    return school_name "
   ]
  },
  {
   "cell_type": "code",
   "execution_count": 11,
   "metadata": {},
   "outputs": [],
   "source": [
    "def parse_career_pay(spans): \n",
    "    '''\n",
    "    param spans is all of the spans for a given HTML table row in payscale.com's table element\n",
    "    returns (early career pay, mid career pay) for the college associated with the table row\n",
    "    '''\n",
    "    early_pay = None\n",
    "    mid_pay = None\n",
    "    for span in spans: \n",
    "        txt = span.text\n",
    "        if txt.find(\"$\") != -1: \n",
    "            if early_pay is None: \n",
    "                early_pay = txt.split(\"$\")[1]\n",
    "            else: \n",
    "                mid_pay = txt.split(\"$\")[1]\n",
    "                break \n",
    "    return (early_pay, mid_pay)"
   ]
  },
  {
   "cell_type": "code",
   "execution_count": 12,
   "metadata": {},
   "outputs": [],
   "source": [
    "def add_rows(salarydf, rows): \n",
    "    '''\n",
    "    param salarydf is the dataframe to add rows to \n",
    "    param rows are the HTML table row elements from payscale.com webpage \n",
    "    returns a dataframe that has college name and corresponding early and mid career pay appened to it for all \n",
    "    HTML table rows in the HTML table element\n",
    "    '''\n",
    "    for row in rows: \n",
    "        spans = row.findAll(\"span\")\n",
    "        title_idx = 0\n",
    "        for idx, span in enumerate(spans): \n",
    "            if span.text == \"School Name:\": \n",
    "                title_idx = idx + 1\n",
    "                break \n",
    "        school_name = spans[title_idx].text     \n",
    "        #school_name = parse_school_name(link)\n",
    "        spans = row.findAll(\"span\", class_=\"data-table__value\")\n",
    "        early_pay, mid_pay = parse_career_pay(spans)\n",
    "        salarydf = salarydf.append({\"school\": school_name, \"early_pay\": early_pay, \"mid_pay\": mid_pay}, ignore_index = True)\n",
    "    return salarydf"
   ]
  },
  {
   "cell_type": "code",
   "execution_count": 13,
   "metadata": {},
   "outputs": [],
   "source": [
    "def get_salaries(page, salarydf, base_url): \n",
    "    '''\n",
    "    param page is the first page to webscrape \n",
    "    param salarydf is the dataframe to append scraped data to \n",
    "    param base_url is the name of the webpage to scrape data from, excluding URL components for page number \n",
    "    returns a dataframe that has school names and corresponding mid and early career pay appended to it for all schools\n",
    "    in payscale.com's salary table (which spans multiple web pages)\n",
    "    '''\n",
    "    while page < 26: \n",
    "        salary_url = base_url + \"page/\" + str(page)\n",
    "        salary_resp = requests.get(salary_url)\n",
    "        salary_soup = bs4.BeautifulSoup(salary_resp.text, 'html.parser')\n",
    "        table = salary_soup.body.findAll(\"table\", class_ = \"data-table\")\n",
    "        rows = table[0].findAll(\"tr\", class_ = \"data-table__row\")\n",
    "        salarydf = add_rows(salarydf, rows)\n",
    "        page = page + 1 \n",
    "    return salarydf"
   ]
  },
  {
   "cell_type": "code",
   "execution_count": 18,
   "metadata": {},
   "outputs": [],
   "source": [
    "base_url = \"https://www.payscale.com/college-salary-report/best-schools-by-majors/computer-science/\"\n",
    "salarydf = pd.DataFrame(data = None, columns = [\"school\", \"early_pay\", \"mid_pay\"])\n",
    "salarydf = get_salaries(1, salarydf, base_url)"
   ]
  },
  {
   "cell_type": "code",
   "execution_count": 19,
   "metadata": {},
   "outputs": [
    {
     "data": {
      "text/html": [
       "<div>\n",
       "<style scoped>\n",
       "    .dataframe tbody tr th:only-of-type {\n",
       "        vertical-align: middle;\n",
       "    }\n",
       "\n",
       "    .dataframe tbody tr th {\n",
       "        vertical-align: top;\n",
       "    }\n",
       "\n",
       "    .dataframe thead th {\n",
       "        text-align: right;\n",
       "    }\n",
       "</style>\n",
       "<table border=\"1\" class=\"dataframe\">\n",
       "  <thead>\n",
       "    <tr style=\"text-align: right;\">\n",
       "      <th></th>\n",
       "      <th>school</th>\n",
       "      <th>early_pay</th>\n",
       "      <th>mid_pay</th>\n",
       "    </tr>\n",
       "  </thead>\n",
       "  <tbody>\n",
       "    <tr>\n",
       "      <th>0</th>\n",
       "      <td>Stanford University</td>\n",
       "      <td>107,400</td>\n",
       "      <td>174,800</td>\n",
       "    </tr>\n",
       "    <tr>\n",
       "      <th>1</th>\n",
       "      <td>Harvey Mudd College</td>\n",
       "      <td>100,500</td>\n",
       "      <td>172,800</td>\n",
       "    </tr>\n",
       "    <tr>\n",
       "      <th>2</th>\n",
       "      <td>Carnegie Mellon University</td>\n",
       "      <td>99,000</td>\n",
       "      <td>167,200</td>\n",
       "    </tr>\n",
       "    <tr>\n",
       "      <th>3</th>\n",
       "      <td>University of California-Berkeley</td>\n",
       "      <td>105,700</td>\n",
       "      <td>166,500</td>\n",
       "    </tr>\n",
       "    <tr>\n",
       "      <th>4</th>\n",
       "      <td>Princeton University</td>\n",
       "      <td>101,300</td>\n",
       "      <td>162,500</td>\n",
       "    </tr>\n",
       "  </tbody>\n",
       "</table>\n",
       "</div>"
      ],
      "text/plain": [
       "                              school early_pay  mid_pay\n",
       "0                Stanford University   107,400  174,800\n",
       "1                Harvey Mudd College   100,500  172,800\n",
       "2         Carnegie Mellon University    99,000  167,200\n",
       "3  University of California-Berkeley   105,700  166,500\n",
       "4               Princeton University   101,300  162,500"
      ]
     },
     "execution_count": 19,
     "metadata": {},
     "output_type": "execute_result"
    }
   ],
   "source": [
    "salarydf.head()"
   ]
  },
  {
   "cell_type": "code",
   "execution_count": 20,
   "metadata": {},
   "outputs": [],
   "source": [
    "salarydf.to_csv(\"salaries.csv\")"
   ]
  }
 ],
 "metadata": {
  "kernelspec": {
   "display_name": "Python 3",
   "language": "python",
   "name": "python3"
  },
  "language_info": {
   "codemirror_mode": {
    "name": "ipython",
    "version": 3
   },
   "file_extension": ".py",
   "mimetype": "text/x-python",
   "name": "python",
   "nbconvert_exporter": "python",
   "pygments_lexer": "ipython3",
   "version": "3.8.5"
  }
 },
 "nbformat": 4,
 "nbformat_minor": 4
}
