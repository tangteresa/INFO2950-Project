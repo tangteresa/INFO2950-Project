{
 "cells": [
  {
   "cell_type": "markdown",
   "metadata": {},
   "source": [
    "# Research Question\n",
    "What combination of college characteristics results in the greatest post-undergrad salary for computer science majors? \n",
    "\n",
    "The factors/characteristics we are analyzing are: college prestige ranking, teacher-to-student ratio, student population, average professor rating, geographic location, and the salary of computer scientists in the area at which the college is located. "
   ]
  },
  {
   "cell_type": "code",
   "execution_count": 1,
   "metadata": {},
   "outputs": [],
   "source": [
    "# Import necessary packages\n",
    "import pandas as pd"
   ]
  },
  {
   "cell_type": "markdown",
   "metadata": {},
   "source": [
    "# Data Cleaning"
   ]
  },
  {
   "cell_type": "markdown",
   "metadata": {},
   "source": [
    "### Step 1: Loading CSV's\n",
    "We load dataframes for data stored in CSV files. In later steps, we will combine all of these dataframes into one dataframe. "
   ]
  },
  {
   "cell_type": "code",
   "execution_count": 2,
   "metadata": {},
   "outputs": [],
   "source": [
    "# Loading all CSV files \n",
    "salarydf = pd.read_csv(\"salaries.csv\")\n",
    "rankingdf = pd.read_csv(\"ranking.csv\")\n",
    "stud_fac_ratio = pd.read_csv(\"stud_fac_ratio.csv\")\n",
    "enrollment = pd.read_csv(\"enrollment.csv\")\n",
    "location = pd.read_csv(\"geographic_characteristics.csv\")"
   ]
  },
  {
   "cell_type": "markdown",
   "metadata": {},
   "source": [
    "### Step 2: Creating Main Dataframe\n",
    "We want one big dataframe, hereby called 'main dataframe', that has one entry per college. **The dataframe will have these columns: school, ranking, tsr (stands for teacher-student ratio), pop (for student undergrad population), unitID (the ID that the National Center for Education Statistics assigns to the college), county...TODO** Since we already have a dataframe `rankingdf` that contains college names and rankings, we will make a copy of it the base for our main dataframe. "
   ]
  },
  {
   "cell_type": "code",
   "execution_count": 3,
   "metadata": {},
   "outputs": [],
   "source": [
    "main = rankingdf.copy() "
   ]
  },
  {
   "cell_type": "code",
   "execution_count": 4,
   "metadata": {},
   "outputs": [
    {
     "data": {
      "text/html": [
       "<div>\n",
       "<style scoped>\n",
       "    .dataframe tbody tr th:only-of-type {\n",
       "        vertical-align: middle;\n",
       "    }\n",
       "\n",
       "    .dataframe tbody tr th {\n",
       "        vertical-align: top;\n",
       "    }\n",
       "\n",
       "    .dataframe thead th {\n",
       "        text-align: right;\n",
       "    }\n",
       "</style>\n",
       "<table border=\"1\" class=\"dataframe\">\n",
       "  <thead>\n",
       "    <tr style=\"text-align: right;\">\n",
       "      <th></th>\n",
       "      <th>school</th>\n",
       "      <th>rank</th>\n",
       "      <th>tsr</th>\n",
       "      <th>pop</th>\n",
       "      <th>early_pay</th>\n",
       "      <th>unitID</th>\n",
       "      <th>county</th>\n",
       "    </tr>\n",
       "  </thead>\n",
       "  <tbody>\n",
       "    <tr>\n",
       "      <th>0</th>\n",
       "      <td>Massachusetts Institute of Technology (MIT)</td>\n",
       "      <td>1</td>\n",
       "      <td>NaN</td>\n",
       "      <td>NaN</td>\n",
       "      <td>NaN</td>\n",
       "      <td>NaN</td>\n",
       "      <td>NaN</td>\n",
       "    </tr>\n",
       "    <tr>\n",
       "      <th>1</th>\n",
       "      <td>Stanford University</td>\n",
       "      <td>2</td>\n",
       "      <td>NaN</td>\n",
       "      <td>NaN</td>\n",
       "      <td>NaN</td>\n",
       "      <td>NaN</td>\n",
       "      <td>NaN</td>\n",
       "    </tr>\n",
       "    <tr>\n",
       "      <th>2</th>\n",
       "      <td>Carnegie Mellon University</td>\n",
       "      <td>3</td>\n",
       "      <td>NaN</td>\n",
       "      <td>NaN</td>\n",
       "      <td>NaN</td>\n",
       "      <td>NaN</td>\n",
       "      <td>NaN</td>\n",
       "    </tr>\n",
       "    <tr>\n",
       "      <th>3</th>\n",
       "      <td>University of California, Berkeley (UCB)</td>\n",
       "      <td>4</td>\n",
       "      <td>NaN</td>\n",
       "      <td>NaN</td>\n",
       "      <td>NaN</td>\n",
       "      <td>NaN</td>\n",
       "      <td>NaN</td>\n",
       "    </tr>\n",
       "    <tr>\n",
       "      <th>4</th>\n",
       "      <td>Harvard University</td>\n",
       "      <td>7</td>\n",
       "      <td>NaN</td>\n",
       "      <td>NaN</td>\n",
       "      <td>NaN</td>\n",
       "      <td>NaN</td>\n",
       "      <td>NaN</td>\n",
       "    </tr>\n",
       "  </tbody>\n",
       "</table>\n",
       "</div>"
      ],
      "text/plain": [
       "                                        school rank  tsr  pop early_pay  \\\n",
       "0  Massachusetts Institute of Technology (MIT)    1  NaN  NaN       NaN   \n",
       "1                          Stanford University    2  NaN  NaN       NaN   \n",
       "2                   Carnegie Mellon University    3  NaN  NaN       NaN   \n",
       "3     University of California, Berkeley (UCB)    4  NaN  NaN       NaN   \n",
       "4                           Harvard University    7  NaN  NaN       NaN   \n",
       "\n",
       "  unitID county  \n",
       "0    NaN    NaN  \n",
       "1    NaN    NaN  \n",
       "2    NaN    NaN  \n",
       "3    NaN    NaN  \n",
       "4    NaN    NaN  "
      ]
     },
     "execution_count": 4,
     "metadata": {},
     "output_type": "execute_result"
    }
   ],
   "source": [
    "# Rearrange columns so school name comes first \n",
    "main = main[['school', 'rank']]\n",
    "# Add empty columns \n",
    "main = pd.concat([main, pd.DataFrame(columns=['tsr', 'pop', 'early_pay', 'unitID', 'county'])])\n",
    "main.head()"
   ]
  },
  {
   "cell_type": "markdown",
   "metadata": {},
   "source": [
    "### Step 3: Clean School Names\n",
    "We will be using college names in the `master` dataframe to lookup college characteristics in other dataframes (i.e. we will treat the other dataframes as lookup tables). Because other dataframes may organize their college names differently we will remove punctuation and abbreviations from `master` school names and strip whitespaces for consistency. We also remove 'The' from the beginning of college names and 'SUNY' because it is an unnecesary designation. "
   ]
  },
  {
   "cell_type": "code",
   "execution_count": 5,
   "metadata": {},
   "outputs": [],
   "source": [
    "def clean_string(s): \n",
    "    no_abbrvs = s.split(\"(\")[0]\n",
    "    no_punc = no_abbrvs.replace(\",\", \"\").replace(\" - \", \" \").replace(\"-\", \" \").replace(\".\", \" \").replace(\"&\", \" \")\n",
    "    no_suny = no_punc.replace(\"SUNY\", \"\")\n",
    "    stripped = no_suny.strip()\n",
    "    \n",
    "    # Remove The from beginning\n",
    "    if stripped[:3].lower() == \"the\": \n",
    "        stripped = stripped[3:]\n",
    "    return stripped"
   ]
  },
  {
   "cell_type": "code",
   "execution_count": 6,
   "metadata": {
    "scrolled": false
   },
   "outputs": [
    {
     "data": {
      "text/html": [
       "<div>\n",
       "<style scoped>\n",
       "    .dataframe tbody tr th:only-of-type {\n",
       "        vertical-align: middle;\n",
       "    }\n",
       "\n",
       "    .dataframe tbody tr th {\n",
       "        vertical-align: top;\n",
       "    }\n",
       "\n",
       "    .dataframe thead th {\n",
       "        text-align: right;\n",
       "    }\n",
       "</style>\n",
       "<table border=\"1\" class=\"dataframe\">\n",
       "  <thead>\n",
       "    <tr style=\"text-align: right;\">\n",
       "      <th></th>\n",
       "      <th>school</th>\n",
       "      <th>rank</th>\n",
       "      <th>tsr</th>\n",
       "      <th>pop</th>\n",
       "      <th>early_pay</th>\n",
       "      <th>unitID</th>\n",
       "      <th>county</th>\n",
       "    </tr>\n",
       "  </thead>\n",
       "  <tbody>\n",
       "    <tr>\n",
       "      <th>0</th>\n",
       "      <td>Massachusetts Institute of Technology</td>\n",
       "      <td>1</td>\n",
       "      <td>NaN</td>\n",
       "      <td>NaN</td>\n",
       "      <td>NaN</td>\n",
       "      <td>NaN</td>\n",
       "      <td>NaN</td>\n",
       "    </tr>\n",
       "    <tr>\n",
       "      <th>1</th>\n",
       "      <td>Stanford University</td>\n",
       "      <td>2</td>\n",
       "      <td>NaN</td>\n",
       "      <td>NaN</td>\n",
       "      <td>NaN</td>\n",
       "      <td>NaN</td>\n",
       "      <td>NaN</td>\n",
       "    </tr>\n",
       "    <tr>\n",
       "      <th>2</th>\n",
       "      <td>Carnegie Mellon University</td>\n",
       "      <td>3</td>\n",
       "      <td>NaN</td>\n",
       "      <td>NaN</td>\n",
       "      <td>NaN</td>\n",
       "      <td>NaN</td>\n",
       "      <td>NaN</td>\n",
       "    </tr>\n",
       "    <tr>\n",
       "      <th>3</th>\n",
       "      <td>University of California Berkeley</td>\n",
       "      <td>4</td>\n",
       "      <td>NaN</td>\n",
       "      <td>NaN</td>\n",
       "      <td>NaN</td>\n",
       "      <td>NaN</td>\n",
       "      <td>NaN</td>\n",
       "    </tr>\n",
       "    <tr>\n",
       "      <th>4</th>\n",
       "      <td>Harvard University</td>\n",
       "      <td>7</td>\n",
       "      <td>NaN</td>\n",
       "      <td>NaN</td>\n",
       "      <td>NaN</td>\n",
       "      <td>NaN</td>\n",
       "      <td>NaN</td>\n",
       "    </tr>\n",
       "  </tbody>\n",
       "</table>\n",
       "</div>"
      ],
      "text/plain": [
       "                                  school rank  tsr  pop early_pay unitID  \\\n",
       "0  Massachusetts Institute of Technology    1  NaN  NaN       NaN    NaN   \n",
       "1                    Stanford University    2  NaN  NaN       NaN    NaN   \n",
       "2             Carnegie Mellon University    3  NaN  NaN       NaN    NaN   \n",
       "3      University of California Berkeley    4  NaN  NaN       NaN    NaN   \n",
       "4                     Harvard University    7  NaN  NaN       NaN    NaN   \n",
       "\n",
       "  county  \n",
       "0    NaN  \n",
       "1    NaN  \n",
       "2    NaN  \n",
       "3    NaN  \n",
       "4    NaN  "
      ]
     },
     "execution_count": 6,
     "metadata": {},
     "output_type": "execute_result"
    }
   ],
   "source": [
    "# Clean school names as described earlier\n",
    "main['school'] = main['school'].apply(lambda s: clean_string(s))\n",
    "main.head()"
   ]
  },
  {
   "cell_type": "code",
   "execution_count": 7,
   "metadata": {},
   "outputs": [],
   "source": [
    "# We observed that in row 38, the school name was too wordy, so we shortened it for easier future lookup\n",
    "main.loc[38, \"school\"] = \"Stony Brook University\""
   ]
  },
  {
   "cell_type": "code",
   "execution_count": 8,
   "metadata": {
    "scrolled": true
   },
   "outputs": [
    {
     "name": "stdout",
     "output_type": "stream",
     "text": [
      "Massachusetts Institute of Technology\n",
      "Stanford University\n",
      "Carnegie Mellon University\n",
      "University of California Berkeley\n",
      "Harvard University\n",
      "Princeton University\n",
      "University of California Los Angeles\n",
      "University of Washington\n",
      "Columbia University\n",
      "Cornell University\n",
      "New York University\n",
      "Georgia Institute of Technology\n",
      "California Institute of Technology\n",
      "University of Texas at Austin\n",
      "University of Illinois at Urbana Champaign\n",
      "University of Pennsylvania\n",
      "University of Southern California\n",
      "Yale University\n",
      "University of Chicago\n",
      "University of Michigan Ann Arbor\n",
      "University of Maryland College Park\n",
      "Boston University\n",
      "Duke University\n",
      "Johns Hopkins University\n",
      "Purdue University\n",
      "University of California San Diego\n",
      "University of Wisconsin Madison\n",
      "Michigan State University\n",
      "Pennsylvania State University\n",
      "University of California Irvine\n",
      "University of Massachusetts Amherst\n",
      "University of North Carolina Chapel Hill\n",
      "Brown University\n",
      "Northeastern University\n",
      "Northwestern University\n",
      " Ohio State University\n",
      "Rice University\n",
      "Rutgers University New Brunswick\n",
      "Stony Brook University\n",
      "Texas A M University\n",
      "University of California Santa Barbara\n",
      "University of Pittsburgh\n",
      "University of Virginia\n",
      "Arizona State University\n",
      "Indiana University Bloomington\n",
      "North Carolina State University\n",
      "University of California Davis\n",
      "University of Florida\n",
      "University of Illinois at Chicago\n",
      "University of Notre Dame\n",
      "Virginia Polytechnic Institute and State University\n",
      "George Mason University\n",
      " University of Arizona\n",
      "University of Colorado Boulder\n",
      "University of Minnesota Twin Cities\n",
      "University of Texas Dallas\n",
      "Washington State University\n",
      "Washington University in St  Louis\n",
      "Florida State University\n",
      "George Washington University\n",
      "University of Rochester\n",
      "Dartmouth College\n",
      "Georgia State University\n",
      "Illinois Institute of Technology\n",
      "Rensselaer Polytechnic Institute\n",
      "Syracuse University\n",
      "University at Buffalo\n",
      "University of Central Florida\n",
      "University of Miami\n",
      "University of Utah\n",
      "Vanderbilt University\n",
      "Iowa State University\n",
      "University of South Florida\n",
      " University of Tennessee Knoxville\n",
      "Case Western Reserve University\n",
      "City University of New York\n",
      "William   Mary\n",
      "Florida International University\n",
      "Georgetown University\n",
      "Temple University\n",
      " University of Georgia\n",
      "Tufts University\n",
      " University of Alabama\n",
      "University of California Santa Cruz\n",
      "University of South Carolina\n",
      "Wayne State University\n",
      "Colorado State University\n",
      "Drexel University\n",
      "Emory University\n",
      "Michigan Technological University\n",
      "New Jersey Institute of Technology\n",
      "University of California Riverside\n",
      "University of Connecticut\n",
      "University of Houston\n",
      "University of Maryland Baltimore County\n",
      "University of Texas at San Antonio\n",
      "Binghamton University\n",
      "Clemson University\n",
      "Oregon State University\n",
      "Texas Tech University\n",
      "University of Missouri Columbia\n",
      "University of Nebraska Lincoln\n",
      "University of Oregon\n",
      "University of Texas Arlington\n"
     ]
    }
   ],
   "source": [
    "for m in main['school']: \n",
    "    print(m)"
   ]
  },
  {
   "cell_type": "markdown",
   "metadata": {},
   "source": [
    "### Step 4: Importing Salaries\n",
    "We lookup each school in `main` in the `salarydf` dataframe and add its corresponding early career pay into `main`. "
   ]
  },
  {
   "cell_type": "code",
   "execution_count": 9,
   "metadata": {},
   "outputs": [],
   "source": [
    "def contains(school, string): \n",
    "    '''\n",
    "    returns: True if all components of the school name are found in string. False otherwise. \n",
    "    example: if school is \"Columbia University\" and string is \"Columbia University at Main Campus\", returns True.\n",
    "    '''\n",
    "    parts = school.split(\" \")\n",
    "    for part in parts: \n",
    "        if string.find(part) == -1: \n",
    "            return False\n",
    "    return True "
   ]
  },
  {
   "cell_type": "code",
   "execution_count": 10,
   "metadata": {},
   "outputs": [],
   "source": [
    "def lookup_sal(cleaned_sal, school):\n",
    "    cleaned_copy = cleaned_sal.copy() \n",
    "    cleaned_copy['school'] = cleaned_copy['school'].apply(lambda s: contains(school, s))\n",
    "    subset = cleaned_copy.loc[cleaned_copy['school']]\n",
    "    \n",
    "    # Subset will contain the rows' original index unless reset \n",
    "    subset = subset.reset_index()\n",
    "    try: \n",
    "        # Retrieve first and only entry \n",
    "        return subset['early_pay'][0]\n",
    "    except: \n",
    "        print(\"Not found: \" + school)\n",
    "        return None"
   ]
  },
  {
   "cell_type": "code",
   "execution_count": 11,
   "metadata": {},
   "outputs": [],
   "source": [
    "school_series = main.copy()['school']\n",
    "\n",
    "# Apply cleaning to salarydf for consistency\n",
    "cleaned_sal = salarydf.copy()\n",
    "cleaned_sal['school'] = cleaned_sal['school'].apply(lambda s: clean_string(s))"
   ]
  },
  {
   "cell_type": "code",
   "execution_count": 12,
   "metadata": {
    "scrolled": false
   },
   "outputs": [
    {
     "name": "stdout",
     "output_type": "stream",
     "text": [
      "Not found: California Institute of Technology\n",
      "Not found: University of Rochester\n",
      "Not found: Georgetown University\n",
      "Not found: Emory University\n"
     ]
    },
    {
     "data": {
      "text/plain": [
       "0     99,800\n",
       "1    107,400\n",
       "2     99,000\n",
       "3    105,700\n",
       "4     96,100\n",
       "Name: school, dtype: object"
      ]
     },
     "execution_count": 12,
     "metadata": {},
     "output_type": "execute_result"
    }
   ],
   "source": [
    "earlypay_series = school_series.apply(lambda school: lookup_sal(cleaned_sal, school))\n",
    "earlypay_series.head()"
   ]
  },
  {
   "cell_type": "code",
   "execution_count": 13,
   "metadata": {},
   "outputs": [
    {
     "data": {
      "text/html": [
       "<div>\n",
       "<style scoped>\n",
       "    .dataframe tbody tr th:only-of-type {\n",
       "        vertical-align: middle;\n",
       "    }\n",
       "\n",
       "    .dataframe tbody tr th {\n",
       "        vertical-align: top;\n",
       "    }\n",
       "\n",
       "    .dataframe thead th {\n",
       "        text-align: right;\n",
       "    }\n",
       "</style>\n",
       "<table border=\"1\" class=\"dataframe\">\n",
       "  <thead>\n",
       "    <tr style=\"text-align: right;\">\n",
       "      <th></th>\n",
       "      <th>school</th>\n",
       "      <th>rank</th>\n",
       "      <th>tsr</th>\n",
       "      <th>pop</th>\n",
       "      <th>early_pay</th>\n",
       "      <th>unitID</th>\n",
       "      <th>county</th>\n",
       "    </tr>\n",
       "  </thead>\n",
       "  <tbody>\n",
       "    <tr>\n",
       "      <th>0</th>\n",
       "      <td>Massachusetts Institute of Technology</td>\n",
       "      <td>1</td>\n",
       "      <td>NaN</td>\n",
       "      <td>NaN</td>\n",
       "      <td>99,800</td>\n",
       "      <td>NaN</td>\n",
       "      <td>NaN</td>\n",
       "    </tr>\n",
       "    <tr>\n",
       "      <th>1</th>\n",
       "      <td>Stanford University</td>\n",
       "      <td>2</td>\n",
       "      <td>NaN</td>\n",
       "      <td>NaN</td>\n",
       "      <td>107,400</td>\n",
       "      <td>NaN</td>\n",
       "      <td>NaN</td>\n",
       "    </tr>\n",
       "    <tr>\n",
       "      <th>2</th>\n",
       "      <td>Carnegie Mellon University</td>\n",
       "      <td>3</td>\n",
       "      <td>NaN</td>\n",
       "      <td>NaN</td>\n",
       "      <td>99,000</td>\n",
       "      <td>NaN</td>\n",
       "      <td>NaN</td>\n",
       "    </tr>\n",
       "    <tr>\n",
       "      <th>3</th>\n",
       "      <td>University of California Berkeley</td>\n",
       "      <td>4</td>\n",
       "      <td>NaN</td>\n",
       "      <td>NaN</td>\n",
       "      <td>105,700</td>\n",
       "      <td>NaN</td>\n",
       "      <td>NaN</td>\n",
       "    </tr>\n",
       "    <tr>\n",
       "      <th>4</th>\n",
       "      <td>Harvard University</td>\n",
       "      <td>7</td>\n",
       "      <td>NaN</td>\n",
       "      <td>NaN</td>\n",
       "      <td>96,100</td>\n",
       "      <td>NaN</td>\n",
       "      <td>NaN</td>\n",
       "    </tr>\n",
       "  </tbody>\n",
       "</table>\n",
       "</div>"
      ],
      "text/plain": [
       "                                  school rank  tsr  pop early_pay unitID  \\\n",
       "0  Massachusetts Institute of Technology    1  NaN  NaN    99,800    NaN   \n",
       "1                    Stanford University    2  NaN  NaN   107,400    NaN   \n",
       "2             Carnegie Mellon University    3  NaN  NaN    99,000    NaN   \n",
       "3      University of California Berkeley    4  NaN  NaN   105,700    NaN   \n",
       "4                     Harvard University    7  NaN  NaN    96,100    NaN   \n",
       "\n",
       "  county  \n",
       "0    NaN  \n",
       "1    NaN  \n",
       "2    NaN  \n",
       "3    NaN  \n",
       "4    NaN  "
      ]
     },
     "execution_count": 13,
     "metadata": {},
     "output_type": "execute_result"
    }
   ],
   "source": [
    "# Update main with early pay data \n",
    "main['early_pay'] = earlypay_series\n",
    "main.head()"
   ]
  },
  {
   "cell_type": "markdown",
   "metadata": {},
   "source": [
    "Since the website we scraped from didn't contain information for the universities above, we removed these universities from consideration. If we were to manually Google and input these salaries, this would generate inconsistency with our existing salary data as different online sources use different data collection methods. "
   ]
  },
  {
   "cell_type": "code",
   "execution_count": 14,
   "metadata": {},
   "outputs": [],
   "source": [
    "# Remove universities for which there is no salary data\n",
    "to_drop = ['California Institute of Technology', 'University of Rochester', 'Georgetown University', 'Emory University']\n",
    "main = main[~main['school'].isin(to_drop)]"
   ]
  },
  {
   "cell_type": "markdown",
   "metadata": {},
   "source": [
    "### Step 5: Importing Student-Faculty Ratio \n",
    "We lookup student-faculty ratio for each college in `main` from dataframe `stud_fac_ratio` and import it into `main`. "
   ]
  },
  {
   "cell_type": "code",
   "execution_count": 15,
   "metadata": {},
   "outputs": [],
   "source": [
    "def lookup_from_stud_fac(cleaned_ratio, school, return_col):\n",
    "    cleaned_copy = cleaned_ratio.copy() \n",
    "    cleaned_copy['Institution Name'] = cleaned_ratio['Institution Name'].apply(lambda s: contains(school, s))\n",
    "    subset = cleaned_copy.loc[cleaned_copy['Institution Name']]\n",
    "    \n",
    "    # Subset will contain the rows' original index unless reset \n",
    "    subset = subset.reset_index()\n",
    "    try: \n",
    "        # Retrieve student faculty ratio for the first and only entry in subset \n",
    "        return subset[return_col][0]\n",
    "    except: \n",
    "        print(\"Not found: \" + school)\n",
    "        return None"
   ]
  },
  {
   "cell_type": "code",
   "execution_count": 16,
   "metadata": {},
   "outputs": [],
   "source": [
    "# Apply cleaning to stud_fac_ratio dataframe for consistency\n",
    "cleaned_ratio = stud_fac_ratio.copy()\n",
    "cleaned_ratio['Institution Name'] = cleaned_ratio['Institution Name'].apply(lambda s: clean_string(s))"
   ]
  },
  {
   "cell_type": "code",
   "execution_count": 17,
   "metadata": {},
   "outputs": [],
   "source": [
    "# Column in stud_fac_ratio dataframe that we want to grab data for \n",
    "column_of_interest = 'Student-to-faculty ratio (EF2018D)'\n",
    "ratio_series = school_series.apply(lambda school: lookup_from_stud_fac(cleaned_ratio, school, column_of_interest))"
   ]
  },
  {
   "cell_type": "code",
   "execution_count": 18,
   "metadata": {
    "scrolled": true
   },
   "outputs": [
    {
     "data": {
      "text/html": [
       "<div>\n",
       "<style scoped>\n",
       "    .dataframe tbody tr th:only-of-type {\n",
       "        vertical-align: middle;\n",
       "    }\n",
       "\n",
       "    .dataframe tbody tr th {\n",
       "        vertical-align: top;\n",
       "    }\n",
       "\n",
       "    .dataframe thead th {\n",
       "        text-align: right;\n",
       "    }\n",
       "</style>\n",
       "<table border=\"1\" class=\"dataframe\">\n",
       "  <thead>\n",
       "    <tr style=\"text-align: right;\">\n",
       "      <th></th>\n",
       "      <th>school</th>\n",
       "      <th>rank</th>\n",
       "      <th>tsr</th>\n",
       "      <th>pop</th>\n",
       "      <th>early_pay</th>\n",
       "      <th>unitID</th>\n",
       "      <th>county</th>\n",
       "    </tr>\n",
       "  </thead>\n",
       "  <tbody>\n",
       "    <tr>\n",
       "      <th>0</th>\n",
       "      <td>Massachusetts Institute of Technology</td>\n",
       "      <td>1</td>\n",
       "      <td>3.0</td>\n",
       "      <td>NaN</td>\n",
       "      <td>99,800</td>\n",
       "      <td>NaN</td>\n",
       "      <td>NaN</td>\n",
       "    </tr>\n",
       "    <tr>\n",
       "      <th>1</th>\n",
       "      <td>Stanford University</td>\n",
       "      <td>2</td>\n",
       "      <td>5.0</td>\n",
       "      <td>NaN</td>\n",
       "      <td>107,400</td>\n",
       "      <td>NaN</td>\n",
       "      <td>NaN</td>\n",
       "    </tr>\n",
       "    <tr>\n",
       "      <th>2</th>\n",
       "      <td>Carnegie Mellon University</td>\n",
       "      <td>3</td>\n",
       "      <td>10.0</td>\n",
       "      <td>NaN</td>\n",
       "      <td>99,000</td>\n",
       "      <td>NaN</td>\n",
       "      <td>NaN</td>\n",
       "    </tr>\n",
       "    <tr>\n",
       "      <th>3</th>\n",
       "      <td>University of California Berkeley</td>\n",
       "      <td>4</td>\n",
       "      <td>20.0</td>\n",
       "      <td>NaN</td>\n",
       "      <td>105,700</td>\n",
       "      <td>NaN</td>\n",
       "      <td>NaN</td>\n",
       "    </tr>\n",
       "    <tr>\n",
       "      <th>4</th>\n",
       "      <td>Harvard University</td>\n",
       "      <td>7</td>\n",
       "      <td>7.0</td>\n",
       "      <td>NaN</td>\n",
       "      <td>96,100</td>\n",
       "      <td>NaN</td>\n",
       "      <td>NaN</td>\n",
       "    </tr>\n",
       "  </tbody>\n",
       "</table>\n",
       "</div>"
      ],
      "text/plain": [
       "                                  school rank   tsr  pop early_pay unitID  \\\n",
       "0  Massachusetts Institute of Technology    1   3.0  NaN    99,800    NaN   \n",
       "1                    Stanford University    2   5.0  NaN   107,400    NaN   \n",
       "2             Carnegie Mellon University    3  10.0  NaN    99,000    NaN   \n",
       "3      University of California Berkeley    4  20.0  NaN   105,700    NaN   \n",
       "4                     Harvard University    7   7.0  NaN    96,100    NaN   \n",
       "\n",
       "  county  \n",
       "0    NaN  \n",
       "1    NaN  \n",
       "2    NaN  \n",
       "3    NaN  \n",
       "4    NaN  "
      ]
     },
     "execution_count": 18,
     "metadata": {},
     "output_type": "execute_result"
    }
   ],
   "source": [
    "# Update main dataframe with student faculty ratios\n",
    "main['tsr'] = ratio_series\n",
    "main.head()"
   ]
  },
  {
   "cell_type": "markdown",
   "metadata": {},
   "source": [
    "### Step 6: Importing UnitID \n",
    "We also grab the unitID for each college from the dataframe `stud_fac_ratio`. In future steps, we will use the unitID to look up colleges in dataframes originating from National Center for Education Statistics datasets. Using the unitID will be easier than trying to match up variations of college names.  "
   ]
  },
  {
   "cell_type": "code",
   "execution_count": 19,
   "metadata": {},
   "outputs": [],
   "source": [
    "# Column in stud_fac_ratio dataframe that we want to grab data for \n",
    "column_of_interest = 'UnitID'\n",
    "unitid_series = school_series.apply(lambda school: lookup_from_stud_fac(cleaned_ratio, school, column_of_interest))"
   ]
  },
  {
   "cell_type": "code",
   "execution_count": 20,
   "metadata": {
    "scrolled": true
   },
   "outputs": [
    {
     "data": {
      "text/html": [
       "<div>\n",
       "<style scoped>\n",
       "    .dataframe tbody tr th:only-of-type {\n",
       "        vertical-align: middle;\n",
       "    }\n",
       "\n",
       "    .dataframe tbody tr th {\n",
       "        vertical-align: top;\n",
       "    }\n",
       "\n",
       "    .dataframe thead th {\n",
       "        text-align: right;\n",
       "    }\n",
       "</style>\n",
       "<table border=\"1\" class=\"dataframe\">\n",
       "  <thead>\n",
       "    <tr style=\"text-align: right;\">\n",
       "      <th></th>\n",
       "      <th>school</th>\n",
       "      <th>rank</th>\n",
       "      <th>tsr</th>\n",
       "      <th>pop</th>\n",
       "      <th>early_pay</th>\n",
       "      <th>unitID</th>\n",
       "      <th>county</th>\n",
       "    </tr>\n",
       "  </thead>\n",
       "  <tbody>\n",
       "    <tr>\n",
       "      <th>0</th>\n",
       "      <td>Massachusetts Institute of Technology</td>\n",
       "      <td>1</td>\n",
       "      <td>3.0</td>\n",
       "      <td>NaN</td>\n",
       "      <td>99,800</td>\n",
       "      <td>166683</td>\n",
       "      <td>NaN</td>\n",
       "    </tr>\n",
       "    <tr>\n",
       "      <th>1</th>\n",
       "      <td>Stanford University</td>\n",
       "      <td>2</td>\n",
       "      <td>5.0</td>\n",
       "      <td>NaN</td>\n",
       "      <td>107,400</td>\n",
       "      <td>243744</td>\n",
       "      <td>NaN</td>\n",
       "    </tr>\n",
       "    <tr>\n",
       "      <th>2</th>\n",
       "      <td>Carnegie Mellon University</td>\n",
       "      <td>3</td>\n",
       "      <td>10.0</td>\n",
       "      <td>NaN</td>\n",
       "      <td>99,000</td>\n",
       "      <td>211440</td>\n",
       "      <td>NaN</td>\n",
       "    </tr>\n",
       "    <tr>\n",
       "      <th>3</th>\n",
       "      <td>University of California Berkeley</td>\n",
       "      <td>4</td>\n",
       "      <td>20.0</td>\n",
       "      <td>NaN</td>\n",
       "      <td>105,700</td>\n",
       "      <td>110635</td>\n",
       "      <td>NaN</td>\n",
       "    </tr>\n",
       "    <tr>\n",
       "      <th>4</th>\n",
       "      <td>Harvard University</td>\n",
       "      <td>7</td>\n",
       "      <td>7.0</td>\n",
       "      <td>NaN</td>\n",
       "      <td>96,100</td>\n",
       "      <td>166027</td>\n",
       "      <td>NaN</td>\n",
       "    </tr>\n",
       "  </tbody>\n",
       "</table>\n",
       "</div>"
      ],
      "text/plain": [
       "                                  school rank   tsr  pop early_pay  unitID  \\\n",
       "0  Massachusetts Institute of Technology    1   3.0  NaN    99,800  166683   \n",
       "1                    Stanford University    2   5.0  NaN   107,400  243744   \n",
       "2             Carnegie Mellon University    3  10.0  NaN    99,000  211440   \n",
       "3      University of California Berkeley    4  20.0  NaN   105,700  110635   \n",
       "4                     Harvard University    7   7.0  NaN    96,100  166027   \n",
       "\n",
       "  county  \n",
       "0    NaN  \n",
       "1    NaN  \n",
       "2    NaN  \n",
       "3    NaN  \n",
       "4    NaN  "
      ]
     },
     "execution_count": 20,
     "metadata": {},
     "output_type": "execute_result"
    }
   ],
   "source": [
    "# Update main dataframe with unitIDs\n",
    "main['unitID'] = unitid_series\n",
    "main.head()"
   ]
  },
  {
   "cell_type": "markdown",
   "metadata": {},
   "source": [
    "### Step 7: Importing Enrollment\n",
    "For each college in `main`, we lookup that college using its `unitID` in the `enrollment` dataframe and grab the corresponding total undergraduate enrollment number. "
   ]
  },
  {
   "cell_type": "code",
   "execution_count": 21,
   "metadata": {},
   "outputs": [],
   "source": [
    "def lookup_enroll(enrolldf, unitID):\n",
    "    enroll_copy = enrolldf.copy() \n",
    "    subset = enroll_copy.loc[(enroll_copy['Unit Id'] == unitID) & (enroll_copy['Student level'] == 'Undergraduate total')]\n",
    "    \n",
    "    # Subset will contain the rows' original index unless reset \n",
    "    subset = subset.reset_index()\n",
    "\n",
    "    # Retrieve student enrollment for the first and only entry in subset \n",
    "    return subset['Grand Total'][0]"
   ]
  },
  {
   "cell_type": "code",
   "execution_count": 22,
   "metadata": {},
   "outputs": [],
   "source": [
    "unitID_series = main.copy()['unitID']"
   ]
  },
  {
   "cell_type": "code",
   "execution_count": 23,
   "metadata": {},
   "outputs": [],
   "source": [
    "enroll_series = unitID_series.apply(lambda unitID: lookup_enroll(enrollment, unitID))"
   ]
  },
  {
   "cell_type": "code",
   "execution_count": 24,
   "metadata": {},
   "outputs": [
    {
     "data": {
      "text/html": [
       "<div>\n",
       "<style scoped>\n",
       "    .dataframe tbody tr th:only-of-type {\n",
       "        vertical-align: middle;\n",
       "    }\n",
       "\n",
       "    .dataframe tbody tr th {\n",
       "        vertical-align: top;\n",
       "    }\n",
       "\n",
       "    .dataframe thead th {\n",
       "        text-align: right;\n",
       "    }\n",
       "</style>\n",
       "<table border=\"1\" class=\"dataframe\">\n",
       "  <thead>\n",
       "    <tr style=\"text-align: right;\">\n",
       "      <th></th>\n",
       "      <th>school</th>\n",
       "      <th>rank</th>\n",
       "      <th>tsr</th>\n",
       "      <th>pop</th>\n",
       "      <th>early_pay</th>\n",
       "      <th>unitID</th>\n",
       "      <th>county</th>\n",
       "    </tr>\n",
       "  </thead>\n",
       "  <tbody>\n",
       "    <tr>\n",
       "      <th>0</th>\n",
       "      <td>Massachusetts Institute of Technology</td>\n",
       "      <td>1</td>\n",
       "      <td>3.0</td>\n",
       "      <td>4602</td>\n",
       "      <td>99,800</td>\n",
       "      <td>166683</td>\n",
       "      <td>NaN</td>\n",
       "    </tr>\n",
       "    <tr>\n",
       "      <th>1</th>\n",
       "      <td>Stanford University</td>\n",
       "      <td>2</td>\n",
       "      <td>5.0</td>\n",
       "      <td>7087</td>\n",
       "      <td>107,400</td>\n",
       "      <td>243744</td>\n",
       "      <td>NaN</td>\n",
       "    </tr>\n",
       "    <tr>\n",
       "      <th>2</th>\n",
       "      <td>Carnegie Mellon University</td>\n",
       "      <td>3</td>\n",
       "      <td>10.0</td>\n",
       "      <td>6589</td>\n",
       "      <td>99,000</td>\n",
       "      <td>211440</td>\n",
       "      <td>NaN</td>\n",
       "    </tr>\n",
       "    <tr>\n",
       "      <th>3</th>\n",
       "      <td>University of California Berkeley</td>\n",
       "      <td>4</td>\n",
       "      <td>20.0</td>\n",
       "      <td>30853</td>\n",
       "      <td>105,700</td>\n",
       "      <td>110635</td>\n",
       "      <td>NaN</td>\n",
       "    </tr>\n",
       "    <tr>\n",
       "      <th>4</th>\n",
       "      <td>Harvard University</td>\n",
       "      <td>7</td>\n",
       "      <td>7.0</td>\n",
       "      <td>9950</td>\n",
       "      <td>96,100</td>\n",
       "      <td>166027</td>\n",
       "      <td>NaN</td>\n",
       "    </tr>\n",
       "  </tbody>\n",
       "</table>\n",
       "</div>"
      ],
      "text/plain": [
       "                                  school rank   tsr    pop early_pay  unitID  \\\n",
       "0  Massachusetts Institute of Technology    1   3.0   4602    99,800  166683   \n",
       "1                    Stanford University    2   5.0   7087   107,400  243744   \n",
       "2             Carnegie Mellon University    3  10.0   6589    99,000  211440   \n",
       "3      University of California Berkeley    4  20.0  30853   105,700  110635   \n",
       "4                     Harvard University    7   7.0   9950    96,100  166027   \n",
       "\n",
       "  county  \n",
       "0    NaN  \n",
       "1    NaN  \n",
       "2    NaN  \n",
       "3    NaN  \n",
       "4    NaN  "
      ]
     },
     "execution_count": 24,
     "metadata": {},
     "output_type": "execute_result"
    }
   ],
   "source": [
    "# Update main with the enrollment numbers\n",
    "main['pop'] = enroll_series\n",
    "main.head()"
   ]
  },
  {
   "cell_type": "markdown",
   "metadata": {},
   "source": [
    "### Step 8: Importing County\n",
    "We will use the school's county in a later step to help find the salary of computer scientists in the area where the school is located. For now, we retrieve the county from dataframe `location` and import into `main`. "
   ]
  },
  {
   "cell_type": "code",
   "execution_count": 25,
   "metadata": {},
   "outputs": [],
   "source": [
    "def lookup_county(locationdf, unitID):\n",
    "    location_copy = locationdf.copy() \n",
    "    subset = location_copy.loc[(location_copy['UnitID'] == unitID)]\n",
    "    \n",
    "    # Subset will contain the rows' original index unless reset \n",
    "    subset = subset.reset_index()\n",
    "\n",
    "    return subset['County name (HD2018)'][0]"
   ]
  },
  {
   "cell_type": "code",
   "execution_count": 26,
   "metadata": {},
   "outputs": [],
   "source": [
    "county_series = unitID_series.apply(lambda unitID: lookup_county(location, unitID))"
   ]
  },
  {
   "cell_type": "code",
   "execution_count": 27,
   "metadata": {},
   "outputs": [
    {
     "data": {
      "text/html": [
       "<div>\n",
       "<style scoped>\n",
       "    .dataframe tbody tr th:only-of-type {\n",
       "        vertical-align: middle;\n",
       "    }\n",
       "\n",
       "    .dataframe tbody tr th {\n",
       "        vertical-align: top;\n",
       "    }\n",
       "\n",
       "    .dataframe thead th {\n",
       "        text-align: right;\n",
       "    }\n",
       "</style>\n",
       "<table border=\"1\" class=\"dataframe\">\n",
       "  <thead>\n",
       "    <tr style=\"text-align: right;\">\n",
       "      <th></th>\n",
       "      <th>school</th>\n",
       "      <th>rank</th>\n",
       "      <th>tsr</th>\n",
       "      <th>pop</th>\n",
       "      <th>early_pay</th>\n",
       "      <th>unitID</th>\n",
       "      <th>county</th>\n",
       "    </tr>\n",
       "  </thead>\n",
       "  <tbody>\n",
       "    <tr>\n",
       "      <th>0</th>\n",
       "      <td>Massachusetts Institute of Technology</td>\n",
       "      <td>1</td>\n",
       "      <td>3.0</td>\n",
       "      <td>4602</td>\n",
       "      <td>99,800</td>\n",
       "      <td>166683</td>\n",
       "      <td>Middlesex County</td>\n",
       "    </tr>\n",
       "    <tr>\n",
       "      <th>1</th>\n",
       "      <td>Stanford University</td>\n",
       "      <td>2</td>\n",
       "      <td>5.0</td>\n",
       "      <td>7087</td>\n",
       "      <td>107,400</td>\n",
       "      <td>243744</td>\n",
       "      <td>Santa Clara County</td>\n",
       "    </tr>\n",
       "    <tr>\n",
       "      <th>2</th>\n",
       "      <td>Carnegie Mellon University</td>\n",
       "      <td>3</td>\n",
       "      <td>10.0</td>\n",
       "      <td>6589</td>\n",
       "      <td>99,000</td>\n",
       "      <td>211440</td>\n",
       "      <td>Allegheny County</td>\n",
       "    </tr>\n",
       "    <tr>\n",
       "      <th>3</th>\n",
       "      <td>University of California Berkeley</td>\n",
       "      <td>4</td>\n",
       "      <td>20.0</td>\n",
       "      <td>30853</td>\n",
       "      <td>105,700</td>\n",
       "      <td>110635</td>\n",
       "      <td>Alameda County</td>\n",
       "    </tr>\n",
       "    <tr>\n",
       "      <th>4</th>\n",
       "      <td>Harvard University</td>\n",
       "      <td>7</td>\n",
       "      <td>7.0</td>\n",
       "      <td>9950</td>\n",
       "      <td>96,100</td>\n",
       "      <td>166027</td>\n",
       "      <td>Middlesex County</td>\n",
       "    </tr>\n",
       "  </tbody>\n",
       "</table>\n",
       "</div>"
      ],
      "text/plain": [
       "                                  school rank   tsr    pop early_pay  unitID  \\\n",
       "0  Massachusetts Institute of Technology    1   3.0   4602    99,800  166683   \n",
       "1                    Stanford University    2   5.0   7087   107,400  243744   \n",
       "2             Carnegie Mellon University    3  10.0   6589    99,000  211440   \n",
       "3      University of California Berkeley    4  20.0  30853   105,700  110635   \n",
       "4                     Harvard University    7   7.0   9950    96,100  166027   \n",
       "\n",
       "               county  \n",
       "0    Middlesex County  \n",
       "1  Santa Clara County  \n",
       "2    Allegheny County  \n",
       "3      Alameda County  \n",
       "4    Middlesex County  "
      ]
     },
     "execution_count": 27,
     "metadata": {},
     "output_type": "execute_result"
    }
   ],
   "source": [
    "# Update main dataframe with county info\n",
    "main['county'] = county_series \n",
    "main.head()"
   ]
  },
  {
   "cell_type": "code",
   "execution_count": 28,
   "metadata": {},
   "outputs": [],
   "source": [
    "# TODO:\n",
    "# rankings into bins \n",
    "# average professor rating scrape "
   ]
  },
  {
   "cell_type": "markdown",
   "metadata": {},
   "source": [
    "# Data Description"
   ]
  },
  {
   "cell_type": "markdown",
   "metadata": {},
   "source": [
    "**Choosing a College Ranking List**"
   ]
  },
  {
   "cell_type": "markdown",
   "metadata": {},
   "source": [
    "# Data Limitations"
   ]
  },
  {
   "cell_type": "markdown",
   "metadata": {},
   "source": [
    "# Exploratory Data Analysis"
   ]
  },
  {
   "cell_type": "markdown",
   "metadata": {},
   "source": [
    "# Questions for Reviewers"
   ]
  },
  {
   "cell_type": "markdown",
   "metadata": {},
   "source": [
    "# Appendix\n",
    "For our final report, we would include the notebook containing our web scraping code here. We web-scraped computer science post-undergrad salaries from `payscale.com` and scraped the top computer science universities from `topuniversities.com`. "
   ]
  }
 ],
 "metadata": {
  "kernelspec": {
   "display_name": "Python 3",
   "language": "python",
   "name": "python3"
  },
  "language_info": {
   "codemirror_mode": {
    "name": "ipython",
    "version": 3
   },
   "file_extension": ".py",
   "mimetype": "text/x-python",
   "name": "python",
   "nbconvert_exporter": "python",
   "pygments_lexer": "ipython3",
   "version": "3.8.5"
  }
 },
 "nbformat": 4,
 "nbformat_minor": 4
}
