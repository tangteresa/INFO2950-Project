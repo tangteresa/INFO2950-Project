{
 "cells": [
  {
   "cell_type": "markdown",
   "metadata": {},
   "source": [
    "# Research Question\n",
    "What combination of college characteristics results in the greatest post-undergrad salary for computer science majors? \n",
    "\n",
    "The factors/characteristics we are analyzing are: college prestige ranking, teacher-to-student ratio, student population, average professor rating, geographic location, and the salary of computer scientists in the area at which the college is located. "
   ]
  },
  {
   "cell_type": "code",
   "execution_count": 1,
   "metadata": {},
   "outputs": [],
   "source": [
    "# Import necessary packages\n",
    "import pandas as pd"
   ]
  },
  {
   "cell_type": "markdown",
   "metadata": {},
   "source": [
    "# Data Cleaning"
   ]
  },
  {
   "cell_type": "markdown",
   "metadata": {},
   "source": [
    "### Step 1: Loading CSV's\n",
    "We load dataframes for data stored in CSV files. In later steps, we will combine all of these dataframes into one dataframe. "
   ]
  },
  {
   "cell_type": "code",
   "execution_count": 2,
   "metadata": {},
   "outputs": [],
   "source": [
    "# Loading all CSV files \n",
    "salarydf = pd.read_csv(\"salaries.csv\")\n",
    "rankingdf = pd.read_csv(\"ranking.csv\")\n",
    "stud_fac_ratio = pd.read_csv(\"stud_fac_ratio.csv\")\n",
    "enrollment = pd.read_csv(\"enrollment.csv\")\n",
    "location = pd.read_csv(\"geographic_characteristics.csv\")"
   ]
  },
  {
   "cell_type": "markdown",
   "metadata": {},
   "source": [
    "### Step 2: Creating Main Dataframe\n",
    "We want one big dataframe, hereby called 'main dataframe', that has one entry per college. **The dataframe will have these columns: school, ranking, tsr (stands for teacher-student ratio), pop (for student undergrad population), unitID (the ID that the National Center for Education Statistics assigns to the college), county...TODO** Since we already have a dataframe `rankingdf` that contains college names and rankings, we will make a copy of it the base for our main dataframe. "
   ]
  },
  {
   "cell_type": "code",
   "execution_count": 3,
   "metadata": {},
   "outputs": [],
   "source": [
    "main = rankingdf.copy() "
   ]
  },
  {
   "cell_type": "code",
   "execution_count": 4,
   "metadata": {},
   "outputs": [
    {
     "data": {
      "text/html": [
       "<div>\n",
       "<style scoped>\n",
       "    .dataframe tbody tr th:only-of-type {\n",
       "        vertical-align: middle;\n",
       "    }\n",
       "\n",
       "    .dataframe tbody tr th {\n",
       "        vertical-align: top;\n",
       "    }\n",
       "\n",
       "    .dataframe thead th {\n",
       "        text-align: right;\n",
       "    }\n",
       "</style>\n",
       "<table border=\"1\" class=\"dataframe\">\n",
       "  <thead>\n",
       "    <tr style=\"text-align: right;\">\n",
       "      <th></th>\n",
       "      <th>school</th>\n",
       "      <th>rank</th>\n",
       "      <th>tsr</th>\n",
       "      <th>pop</th>\n",
       "      <th>early_pay</th>\n",
       "      <th>unitID</th>\n",
       "      <th>county</th>\n",
       "    </tr>\n",
       "  </thead>\n",
       "  <tbody>\n",
       "    <tr>\n",
       "      <th>0</th>\n",
       "      <td>Massachusetts Institute of Technology (MIT)</td>\n",
       "      <td>1</td>\n",
       "      <td>NaN</td>\n",
       "      <td>NaN</td>\n",
       "      <td>NaN</td>\n",
       "      <td>NaN</td>\n",
       "      <td>NaN</td>\n",
       "    </tr>\n",
       "    <tr>\n",
       "      <th>1</th>\n",
       "      <td>Stanford University</td>\n",
       "      <td>2</td>\n",
       "      <td>NaN</td>\n",
       "      <td>NaN</td>\n",
       "      <td>NaN</td>\n",
       "      <td>NaN</td>\n",
       "      <td>NaN</td>\n",
       "    </tr>\n",
       "    <tr>\n",
       "      <th>2</th>\n",
       "      <td>Carnegie Mellon University</td>\n",
       "      <td>3</td>\n",
       "      <td>NaN</td>\n",
       "      <td>NaN</td>\n",
       "      <td>NaN</td>\n",
       "      <td>NaN</td>\n",
       "      <td>NaN</td>\n",
       "    </tr>\n",
       "    <tr>\n",
       "      <th>3</th>\n",
       "      <td>University of California, Berkeley (UCB)</td>\n",
       "      <td>4</td>\n",
       "      <td>NaN</td>\n",
       "      <td>NaN</td>\n",
       "      <td>NaN</td>\n",
       "      <td>NaN</td>\n",
       "      <td>NaN</td>\n",
       "    </tr>\n",
       "    <tr>\n",
       "      <th>4</th>\n",
       "      <td>Harvard University</td>\n",
       "      <td>7</td>\n",
       "      <td>NaN</td>\n",
       "      <td>NaN</td>\n",
       "      <td>NaN</td>\n",
       "      <td>NaN</td>\n",
       "      <td>NaN</td>\n",
       "    </tr>\n",
       "  </tbody>\n",
       "</table>\n",
       "</div>"
      ],
      "text/plain": [
       "                                        school rank  tsr  pop early_pay  \\\n",
       "0  Massachusetts Institute of Technology (MIT)    1  NaN  NaN       NaN   \n",
       "1                          Stanford University    2  NaN  NaN       NaN   \n",
       "2                   Carnegie Mellon University    3  NaN  NaN       NaN   \n",
       "3     University of California, Berkeley (UCB)    4  NaN  NaN       NaN   \n",
       "4                           Harvard University    7  NaN  NaN       NaN   \n",
       "\n",
       "  unitID county  \n",
       "0    NaN    NaN  \n",
       "1    NaN    NaN  \n",
       "2    NaN    NaN  \n",
       "3    NaN    NaN  \n",
       "4    NaN    NaN  "
      ]
     },
     "execution_count": 4,
     "metadata": {},
     "output_type": "execute_result"
    }
   ],
   "source": [
    "# Rearrange columns so school name comes first \n",
    "main = main[['school', 'rank']]\n",
    "# Add empty columns \n",
    "main = pd.concat([main, pd.DataFrame(columns=['tsr', 'pop', 'early_pay', 'unitID', 'county'])])\n",
    "main.head()"
   ]
  },
  {
   "cell_type": "markdown",
   "metadata": {},
   "source": [
    "### Step 3: Clean School Names\n",
    "We will be using college names in the `master` dataframe to lookup college characteristics in other dataframes (i.e. we will treat the other dataframes as lookup tables). Because other dataframes may organize their college names differently we will remove punctuation and abbreviations from `master` school names and strip whitespaces for consistency. We also remove 'The' from the beginning of college names and 'SUNY' because it is an unnecesary designation. "
   ]
  },
  {
   "cell_type": "code",
   "execution_count": 5,
   "metadata": {},
   "outputs": [],
   "source": [
    "def clean_string(s): \n",
    "    no_abbrvs = s.split(\"(\")[0]\n",
    "    no_punc = no_abbrvs.replace(\",\", \"\").replace(\" - \", \" \").replace(\"-\", \" \").replace(\".\", \" \").replace(\"&\", \" \")\n",
    "    no_suny = no_punc.replace(\"SUNY\", \"\")\n",
    "    stripped = no_suny.strip()\n",
    "    \n",
    "    # Remove The from beginning\n",
    "    if stripped[:3].lower() == \"the\": \n",
    "        stripped = stripped[3:]\n",
    "    # Have to restrip because the original stripped string was replaced \n",
    "    return stripped.strip()"
   ]
  },
  {
   "cell_type": "code",
   "execution_count": 6,
   "metadata": {
    "scrolled": false
   },
   "outputs": [
    {
     "data": {
      "text/html": [
       "<div>\n",
       "<style scoped>\n",
       "    .dataframe tbody tr th:only-of-type {\n",
       "        vertical-align: middle;\n",
       "    }\n",
       "\n",
       "    .dataframe tbody tr th {\n",
       "        vertical-align: top;\n",
       "    }\n",
       "\n",
       "    .dataframe thead th {\n",
       "        text-align: right;\n",
       "    }\n",
       "</style>\n",
       "<table border=\"1\" class=\"dataframe\">\n",
       "  <thead>\n",
       "    <tr style=\"text-align: right;\">\n",
       "      <th></th>\n",
       "      <th>school</th>\n",
       "      <th>rank</th>\n",
       "      <th>tsr</th>\n",
       "      <th>pop</th>\n",
       "      <th>early_pay</th>\n",
       "      <th>unitID</th>\n",
       "      <th>county</th>\n",
       "    </tr>\n",
       "  </thead>\n",
       "  <tbody>\n",
       "    <tr>\n",
       "      <th>0</th>\n",
       "      <td>Massachusetts Institute of Technology</td>\n",
       "      <td>1</td>\n",
       "      <td>NaN</td>\n",
       "      <td>NaN</td>\n",
       "      <td>NaN</td>\n",
       "      <td>NaN</td>\n",
       "      <td>NaN</td>\n",
       "    </tr>\n",
       "    <tr>\n",
       "      <th>1</th>\n",
       "      <td>Stanford University</td>\n",
       "      <td>2</td>\n",
       "      <td>NaN</td>\n",
       "      <td>NaN</td>\n",
       "      <td>NaN</td>\n",
       "      <td>NaN</td>\n",
       "      <td>NaN</td>\n",
       "    </tr>\n",
       "    <tr>\n",
       "      <th>2</th>\n",
       "      <td>Carnegie Mellon University</td>\n",
       "      <td>3</td>\n",
       "      <td>NaN</td>\n",
       "      <td>NaN</td>\n",
       "      <td>NaN</td>\n",
       "      <td>NaN</td>\n",
       "      <td>NaN</td>\n",
       "    </tr>\n",
       "    <tr>\n",
       "      <th>3</th>\n",
       "      <td>University of California Berkeley</td>\n",
       "      <td>4</td>\n",
       "      <td>NaN</td>\n",
       "      <td>NaN</td>\n",
       "      <td>NaN</td>\n",
       "      <td>NaN</td>\n",
       "      <td>NaN</td>\n",
       "    </tr>\n",
       "    <tr>\n",
       "      <th>4</th>\n",
       "      <td>Harvard University</td>\n",
       "      <td>7</td>\n",
       "      <td>NaN</td>\n",
       "      <td>NaN</td>\n",
       "      <td>NaN</td>\n",
       "      <td>NaN</td>\n",
       "      <td>NaN</td>\n",
       "    </tr>\n",
       "  </tbody>\n",
       "</table>\n",
       "</div>"
      ],
      "text/plain": [
       "                                  school rank  tsr  pop early_pay unitID  \\\n",
       "0  Massachusetts Institute of Technology    1  NaN  NaN       NaN    NaN   \n",
       "1                    Stanford University    2  NaN  NaN       NaN    NaN   \n",
       "2             Carnegie Mellon University    3  NaN  NaN       NaN    NaN   \n",
       "3      University of California Berkeley    4  NaN  NaN       NaN    NaN   \n",
       "4                     Harvard University    7  NaN  NaN       NaN    NaN   \n",
       "\n",
       "  county  \n",
       "0    NaN  \n",
       "1    NaN  \n",
       "2    NaN  \n",
       "3    NaN  \n",
       "4    NaN  "
      ]
     },
     "execution_count": 6,
     "metadata": {},
     "output_type": "execute_result"
    }
   ],
   "source": [
    "# Clean school names as described earlier\n",
    "main['school'] = main['school'].apply(lambda s: clean_string(s))\n",
    "main.head()"
   ]
  },
  {
   "cell_type": "code",
   "execution_count": 7,
   "metadata": {},
   "outputs": [],
   "source": [
    "# We observed that in row 38, the school name was too wordy, so we shortened it for easier future lookup\n",
    "main.loc[38, \"school\"] = \"Stony Brook University\""
   ]
  },
  {
   "cell_type": "markdown",
   "metadata": {},
   "source": [
    "### Step 4: Importing Salaries\n",
    "We lookup each school in `main` in the `salarydf` dataframe and add its corresponding early career pay into `main`. "
   ]
  },
  {
   "cell_type": "code",
   "execution_count": 8,
   "metadata": {},
   "outputs": [],
   "source": [
    "def contains(school, string): \n",
    "    '''\n",
    "    returns: True if all components of the school name are found in string in the correct order. False otherwise. \n",
    "    example: if school is \"Columbia University\" and string is \"Columbia University at Main Campus\", returns True.\n",
    "    '''\n",
    "    parts = school.split(\" \")\n",
    "    for part in parts: \n",
    "        idx = string.find(part)\n",
    "        if idx == -1: \n",
    "            return False\n",
    "        string = string[idx:]\n",
    "    return True "
   ]
  },
  {
   "cell_type": "code",
   "execution_count": 9,
   "metadata": {},
   "outputs": [],
   "source": [
    "def lookup_sal(cleaned_sal, school):\n",
    "    cleaned_copy = cleaned_sal.copy() \n",
    "    cleaned_copy['school'] = cleaned_copy['school'].apply(lambda s: contains(school, s))\n",
    "    subset = cleaned_copy.loc[cleaned_copy['school']]\n",
    "    \n",
    "    # Subset will contain the rows' original index unless reset \n",
    "    subset = subset.reset_index()\n",
    "    try: \n",
    "        # Retrieve first and only entry \n",
    "        return subset['early_pay'][0]\n",
    "    except: \n",
    "        print(\"Not found: \" + school)\n",
    "        return None"
   ]
  },
  {
   "cell_type": "code",
   "execution_count": 10,
   "metadata": {},
   "outputs": [],
   "source": [
    "school_series = main.copy()['school']\n",
    "\n",
    "# Apply cleaning to salarydf for consistency\n",
    "cleaned_sal = salarydf.copy()\n",
    "cleaned_sal['school'] = cleaned_sal['school'].apply(lambda s: clean_string(s))"
   ]
  },
  {
   "cell_type": "code",
   "execution_count": 11,
   "metadata": {
    "scrolled": false
   },
   "outputs": [
    {
     "name": "stdout",
     "output_type": "stream",
     "text": [
      "Not found: California Institute of Technology\n",
      "Not found: University of Rochester\n",
      "Not found: City University of New York\n",
      "Not found: Georgetown University\n",
      "Not found: Emory University\n"
     ]
    },
    {
     "data": {
      "text/plain": [
       "0     99,800\n",
       "1    107,400\n",
       "2     99,000\n",
       "3    105,700\n",
       "4     96,100\n",
       "Name: school, dtype: object"
      ]
     },
     "execution_count": 11,
     "metadata": {},
     "output_type": "execute_result"
    }
   ],
   "source": [
    "earlypay_series = school_series.apply(lambda school: lookup_sal(cleaned_sal, school))\n",
    "earlypay_series.head()"
   ]
  },
  {
   "cell_type": "code",
   "execution_count": 12,
   "metadata": {},
   "outputs": [
    {
     "data": {
      "text/html": [
       "<div>\n",
       "<style scoped>\n",
       "    .dataframe tbody tr th:only-of-type {\n",
       "        vertical-align: middle;\n",
       "    }\n",
       "\n",
       "    .dataframe tbody tr th {\n",
       "        vertical-align: top;\n",
       "    }\n",
       "\n",
       "    .dataframe thead th {\n",
       "        text-align: right;\n",
       "    }\n",
       "</style>\n",
       "<table border=\"1\" class=\"dataframe\">\n",
       "  <thead>\n",
       "    <tr style=\"text-align: right;\">\n",
       "      <th></th>\n",
       "      <th>school</th>\n",
       "      <th>rank</th>\n",
       "      <th>tsr</th>\n",
       "      <th>pop</th>\n",
       "      <th>early_pay</th>\n",
       "      <th>unitID</th>\n",
       "      <th>county</th>\n",
       "    </tr>\n",
       "  </thead>\n",
       "  <tbody>\n",
       "    <tr>\n",
       "      <th>0</th>\n",
       "      <td>Massachusetts Institute of Technology</td>\n",
       "      <td>1</td>\n",
       "      <td>NaN</td>\n",
       "      <td>NaN</td>\n",
       "      <td>99,800</td>\n",
       "      <td>NaN</td>\n",
       "      <td>NaN</td>\n",
       "    </tr>\n",
       "    <tr>\n",
       "      <th>1</th>\n",
       "      <td>Stanford University</td>\n",
       "      <td>2</td>\n",
       "      <td>NaN</td>\n",
       "      <td>NaN</td>\n",
       "      <td>107,400</td>\n",
       "      <td>NaN</td>\n",
       "      <td>NaN</td>\n",
       "    </tr>\n",
       "    <tr>\n",
       "      <th>2</th>\n",
       "      <td>Carnegie Mellon University</td>\n",
       "      <td>3</td>\n",
       "      <td>NaN</td>\n",
       "      <td>NaN</td>\n",
       "      <td>99,000</td>\n",
       "      <td>NaN</td>\n",
       "      <td>NaN</td>\n",
       "    </tr>\n",
       "    <tr>\n",
       "      <th>3</th>\n",
       "      <td>University of California Berkeley</td>\n",
       "      <td>4</td>\n",
       "      <td>NaN</td>\n",
       "      <td>NaN</td>\n",
       "      <td>105,700</td>\n",
       "      <td>NaN</td>\n",
       "      <td>NaN</td>\n",
       "    </tr>\n",
       "    <tr>\n",
       "      <th>4</th>\n",
       "      <td>Harvard University</td>\n",
       "      <td>7</td>\n",
       "      <td>NaN</td>\n",
       "      <td>NaN</td>\n",
       "      <td>96,100</td>\n",
       "      <td>NaN</td>\n",
       "      <td>NaN</td>\n",
       "    </tr>\n",
       "  </tbody>\n",
       "</table>\n",
       "</div>"
      ],
      "text/plain": [
       "                                  school rank  tsr  pop early_pay unitID  \\\n",
       "0  Massachusetts Institute of Technology    1  NaN  NaN    99,800    NaN   \n",
       "1                    Stanford University    2  NaN  NaN   107,400    NaN   \n",
       "2             Carnegie Mellon University    3  NaN  NaN    99,000    NaN   \n",
       "3      University of California Berkeley    4  NaN  NaN   105,700    NaN   \n",
       "4                     Harvard University    7  NaN  NaN    96,100    NaN   \n",
       "\n",
       "  county  \n",
       "0    NaN  \n",
       "1    NaN  \n",
       "2    NaN  \n",
       "3    NaN  \n",
       "4    NaN  "
      ]
     },
     "execution_count": 12,
     "metadata": {},
     "output_type": "execute_result"
    }
   ],
   "source": [
    "# Update main with early pay data \n",
    "main['early_pay'] = earlypay_series\n",
    "main.head()"
   ]
  },
  {
   "cell_type": "markdown",
   "metadata": {},
   "source": [
    "Since the website we scraped from didn't contain information for the universities above, we removed these universities from consideration. If we were to manually Google and input these salaries, this would generate inconsistency with our existing salary data as different online sources use different data collection methods. "
   ]
  },
  {
   "cell_type": "code",
   "execution_count": 13,
   "metadata": {},
   "outputs": [],
   "source": [
    "# Remove universities for which there is no salary data\n",
    "# After double checking algorithm results, we noticed that the University of Illinois at Chicago was confused with\n",
    "# University of Chicago \n",
    "# We drop University of Chicago since it actually has no salary data\n",
    "to_drop = ['California Institute of Technology', 'University of Rochester', 'Georgetown University', 'Emory University', 'City University of New York', 'University of Chicago']\n",
    "main = main[~main['school'].isin(to_drop)]"
   ]
  },
  {
   "cell_type": "code",
   "execution_count": 14,
   "metadata": {},
   "outputs": [],
   "source": [
    "main = main.reset_index()"
   ]
  },
  {
   "cell_type": "markdown",
   "metadata": {},
   "source": [
    "### Step 5: Importing UnitID \n",
    "The National Center for Education Statistics (NCES) lists universities by unitID in their datasets. We first grab the unitIDs for our schools of interest from the `stud_fac_ratio.csv` and loaded them into `main`. We will use the unitID to look up colleges in NCES datasets in future steps. "
   ]
  },
  {
   "cell_type": "code",
   "execution_count": 15,
   "metadata": {},
   "outputs": [],
   "source": [
    "def extra_clean_string (s): \n",
    "    s = clean_string(s)\n",
    "    s = s.replace(\"at\", \" \").replace(\"of\", \" \")\n",
    "    s = s.strip()\n",
    "    return s "
   ]
  },
  {
   "cell_type": "code",
   "execution_count": 16,
   "metadata": {},
   "outputs": [],
   "source": [
    "def lookup_from_stud_fac(cleaned_ratio, school, return_col):\n",
    "    cleaned_copy = cleaned_ratio.copy() \n",
    "    subset = cleaned_copy[cleaned_copy['Institution Name'] == extra_clean_string(school)]\n",
    "                          \n",
    "    # Subset will contain the rows' original index unless reset \n",
    "    subset = subset.reset_index()\n",
    "    \n",
    "    try: \n",
    "        # Retrieve data \n",
    "        return subset[return_col][0]\n",
    "    except: \n",
    "        print(\"Not found: \" + school)\n",
    "        return None"
   ]
  },
  {
   "cell_type": "code",
   "execution_count": 17,
   "metadata": {},
   "outputs": [],
   "source": [
    "# Apply school name cleaning to stud_fac_ratio dataframe for consistency\n",
    "cleaned_ratio = stud_fac_ratio.copy()\n",
    "cleaned_ratio['Institution Name'] = cleaned_ratio['Institution Name'].apply(lambda s: extra_clean_string(s))"
   ]
  },
  {
   "cell_type": "code",
   "execution_count": 18,
   "metadata": {
    "scrolled": true
   },
   "outputs": [
    {
     "name": "stdout",
     "output_type": "stream",
     "text": [
      "Not found: University of Washington\n",
      "Not found: Columbia University\n",
      "Not found: Georgia Institute of Technology\n",
      "Not found: Purdue University\n",
      "Not found: Pennsylvania State University\n",
      "Not found: University of North Carolina Chapel Hill\n",
      "Not found: Ohio State University\n",
      "Not found: Texas A M University\n",
      "Not found: University of Pittsburgh\n",
      "Not found: University of Virginia\n",
      "Not found: Arizona State University\n",
      "Not found: North Carolina State University\n",
      "Not found: University of Texas Dallas\n",
      "Not found: Washington University in St  Louis\n",
      "Not found: University of South Florida\n",
      "Not found: University of South Carolina\n",
      "Not found: Colorado State University\n",
      "Not found: University of Texas Arlington\n"
     ]
    }
   ],
   "source": [
    "# Column in stud_fac_ratio dataframe that we want to grab data for \n",
    "column_of_interest = 'UnitID'\n",
    "school_series = main[\"school\"].copy()\n",
    "unitid_series = school_series.apply(lambda school: lookup_from_stud_fac(cleaned_ratio, school, column_of_interest))"
   ]
  },
  {
   "cell_type": "code",
   "execution_count": 19,
   "metadata": {
    "scrolled": true
   },
   "outputs": [],
   "source": [
    "main[\"unitID\"] = unitid_series"
   ]
  },
  {
   "cell_type": "code",
   "execution_count": 20,
   "metadata": {},
   "outputs": [],
   "source": [
    "# Set main index from numbers to school names for easier manual updating \n",
    "main = main.set_index(\"school\")"
   ]
  },
  {
   "cell_type": "code",
   "execution_count": 21,
   "metadata": {},
   "outputs": [],
   "source": [
    "# Manually adding unitIDs\n",
    "main.loc[\"University of Washington\", \"unitID\"] = 236948\n",
    "main.loc[\"Columbia University\", \"unitID\"] = 190150\n",
    "main.loc[\"Georgia Institute of Technology\", \"unitID\"] = 139755\n",
    "main.loc[\"University of Texas at Austin\", \"unitID\"] = 228778\n",
    "main.loc[\"Purdue University\", \"unitID\"] = 243780\n",
    "main.loc[\"Pennsylvania State University\", \"unitID\"] = 214777\n",
    "main.loc[\"University of North Carolina Chapel Hill\", \"unitID\"] = 199120\n",
    "main.loc[\"Ohio State University\", \"unitID\"] = 204796\n",
    "main.loc[\"Texas A M University\", \"unitID\"] = 228723\n",
    "main.loc[\"University of Pittsburgh\", \"unitID\"] = 215293\n",
    "main.loc[\"University of Virginia\", \"unitID\"] = 234076\n",
    "main.loc[\"Arizona State University\", \"unitID\"] = 448886\n",
    "main.loc[\"North Carolina State University\", \"unitID\"] = 199193\n",
    "main.loc[\"University of Arizona\", \"unitID\"] = 104179\n",
    "main.loc[\"University of Texas Dallas\", \"unitID\"] = 228787\n",
    "main.loc[\"Washington University in St  Louis\", \"unitID\"] = 179867\n",
    "main.loc[\"University of South Florida\", \"unitID\"] = 137351\n",
    "main.loc[\"University of Georgia\", \"unitID\"] = 139959\n",
    "main.loc[\"University of South Carolina\", \"unitID\"] = 218663\n",
    "main.loc[\"Colorado State University\", \"unitID\"] = 126818\n",
    "main.loc[\"University of Texas at San Antonio\", \"unitID\"] = 229027\n",
    "main.loc[\"University of Texas Arlington\", \"unitID\"] = 228769"
   ]
  },
  {
   "cell_type": "code",
   "execution_count": 22,
   "metadata": {},
   "outputs": [],
   "source": [
    "# Turn unitIDs from floats to ints\n",
    "main.loc[:, \"unitID\"] = main[\"unitID\"].astype(int)"
   ]
  },
  {
   "cell_type": "markdown",
   "metadata": {},
   "source": [
    "### Step 6: Importing Student-Faculty Ratio \n",
    "We lookup student-faculty ratio for each college in `main` from dataframe `stud_fac_ratio` and import it into `main`. "
   ]
  },
  {
   "cell_type": "code",
   "execution_count": 23,
   "metadata": {},
   "outputs": [],
   "source": [
    "def lookup_from_stud_fac(cleaned_ratio, unitID, return_col):\n",
    "    cleaned_copy = cleaned_ratio.copy() \n",
    "    subset = cleaned_copy.loc[cleaned_copy['UnitID'] == unitID]\n",
    "    \n",
    "    # Subset will contain the rows' original index unless reset \n",
    "    subset = subset.reset_index()\n",
    "    try: \n",
    "        # Retrieve student faculty ratio for the first and only entry in subset \n",
    "        return subset[return_col][0]\n",
    "    except: \n",
    "        print(\"Not found: \" + school)\n",
    "        return None"
   ]
  },
  {
   "cell_type": "code",
   "execution_count": 24,
   "metadata": {},
   "outputs": [],
   "source": [
    "# Apply cleaning to stud_fac_ratio dataframe for consistency\n",
    "cleaned_ratio = stud_fac_ratio.copy()\n",
    "cleaned_ratio['Institution Name'] = cleaned_ratio['Institution Name'].apply(lambda s: clean_string(s))"
   ]
  },
  {
   "cell_type": "code",
   "execution_count": 25,
   "metadata": {},
   "outputs": [],
   "source": [
    "# Column in stud_fac_ratio dataframe that we want to grab data for \n",
    "column_of_interest = 'Student-to-faculty ratio (EF2018D)'\n",
    "id_series = main[\"unitID\"].copy()\n",
    "ratio_series = id_series.apply(lambda unitID: lookup_from_stud_fac(cleaned_ratio, unitID, column_of_interest))"
   ]
  },
  {
   "cell_type": "code",
   "execution_count": 26,
   "metadata": {
    "scrolled": true
   },
   "outputs": [
    {
     "data": {
      "text/html": [
       "<div>\n",
       "<style scoped>\n",
       "    .dataframe tbody tr th:only-of-type {\n",
       "        vertical-align: middle;\n",
       "    }\n",
       "\n",
       "    .dataframe tbody tr th {\n",
       "        vertical-align: top;\n",
       "    }\n",
       "\n",
       "    .dataframe thead th {\n",
       "        text-align: right;\n",
       "    }\n",
       "</style>\n",
       "<table border=\"1\" class=\"dataframe\">\n",
       "  <thead>\n",
       "    <tr style=\"text-align: right;\">\n",
       "      <th></th>\n",
       "      <th>index</th>\n",
       "      <th>rank</th>\n",
       "      <th>tsr</th>\n",
       "      <th>pop</th>\n",
       "      <th>early_pay</th>\n",
       "      <th>unitID</th>\n",
       "      <th>county</th>\n",
       "    </tr>\n",
       "    <tr>\n",
       "      <th>school</th>\n",
       "      <th></th>\n",
       "      <th></th>\n",
       "      <th></th>\n",
       "      <th></th>\n",
       "      <th></th>\n",
       "      <th></th>\n",
       "      <th></th>\n",
       "    </tr>\n",
       "  </thead>\n",
       "  <tbody>\n",
       "    <tr>\n",
       "      <th>Massachusetts Institute of Technology</th>\n",
       "      <td>0</td>\n",
       "      <td>1</td>\n",
       "      <td>3.0</td>\n",
       "      <td>NaN</td>\n",
       "      <td>99,800</td>\n",
       "      <td>166683</td>\n",
       "      <td>NaN</td>\n",
       "    </tr>\n",
       "    <tr>\n",
       "      <th>Stanford University</th>\n",
       "      <td>1</td>\n",
       "      <td>2</td>\n",
       "      <td>5.0</td>\n",
       "      <td>NaN</td>\n",
       "      <td>107,400</td>\n",
       "      <td>243744</td>\n",
       "      <td>NaN</td>\n",
       "    </tr>\n",
       "    <tr>\n",
       "      <th>Carnegie Mellon University</th>\n",
       "      <td>2</td>\n",
       "      <td>3</td>\n",
       "      <td>10.0</td>\n",
       "      <td>NaN</td>\n",
       "      <td>99,000</td>\n",
       "      <td>211440</td>\n",
       "      <td>NaN</td>\n",
       "    </tr>\n",
       "    <tr>\n",
       "      <th>University of California Berkeley</th>\n",
       "      <td>3</td>\n",
       "      <td>4</td>\n",
       "      <td>20.0</td>\n",
       "      <td>NaN</td>\n",
       "      <td>105,700</td>\n",
       "      <td>110635</td>\n",
       "      <td>NaN</td>\n",
       "    </tr>\n",
       "    <tr>\n",
       "      <th>Harvard University</th>\n",
       "      <td>4</td>\n",
       "      <td>7</td>\n",
       "      <td>7.0</td>\n",
       "      <td>NaN</td>\n",
       "      <td>96,100</td>\n",
       "      <td>166027</td>\n",
       "      <td>NaN</td>\n",
       "    </tr>\n",
       "  </tbody>\n",
       "</table>\n",
       "</div>"
      ],
      "text/plain": [
       "                                       index rank   tsr  pop early_pay  \\\n",
       "school                                                                   \n",
       "Massachusetts Institute of Technology      0    1   3.0  NaN    99,800   \n",
       "Stanford University                        1    2   5.0  NaN   107,400   \n",
       "Carnegie Mellon University                 2    3  10.0  NaN    99,000   \n",
       "University of California Berkeley          3    4  20.0  NaN   105,700   \n",
       "Harvard University                         4    7   7.0  NaN    96,100   \n",
       "\n",
       "                                       unitID county  \n",
       "school                                                \n",
       "Massachusetts Institute of Technology  166683    NaN  \n",
       "Stanford University                    243744    NaN  \n",
       "Carnegie Mellon University             211440    NaN  \n",
       "University of California Berkeley      110635    NaN  \n",
       "Harvard University                     166027    NaN  "
      ]
     },
     "execution_count": 26,
     "metadata": {},
     "output_type": "execute_result"
    }
   ],
   "source": [
    "# Update main dataframe with student faculty ratios\n",
    "main['tsr'] = ratio_series\n",
    "main.head()"
   ]
  },
  {
   "cell_type": "markdown",
   "metadata": {},
   "source": [
    "### Step 7: Importing Enrollment\n",
    "For each college in `main`, we lookup that college using its `unitID` in the `enrollment` dataframe and grab the corresponding total undergraduate enrollment number. "
   ]
  },
  {
   "cell_type": "code",
   "execution_count": 27,
   "metadata": {},
   "outputs": [],
   "source": [
    "def lookup_enroll(enrolldf, unitID):\n",
    "    enroll_copy = enrolldf.copy() \n",
    "    subset = enroll_copy.loc[(enroll_copy['Unit Id'] == unitID) & (enroll_copy['Student level'] == 'Undergraduate total')]\n",
    "    \n",
    "    # Subset will contain the rows' original index unless reset \n",
    "    subset = subset.reset_index()\n",
    "\n",
    "    # Retrieve student enrollment for the first and only entry in subset \n",
    "    return subset['Grand Total'][0]"
   ]
  },
  {
   "cell_type": "code",
   "execution_count": 28,
   "metadata": {},
   "outputs": [],
   "source": [
    "unitID_series = main.copy()['unitID']"
   ]
  },
  {
   "cell_type": "code",
   "execution_count": 29,
   "metadata": {},
   "outputs": [],
   "source": [
    "enroll_series = unitID_series.apply(lambda unitID: lookup_enroll(enrollment, unitID))"
   ]
  },
  {
   "cell_type": "code",
   "execution_count": 30,
   "metadata": {},
   "outputs": [
    {
     "data": {
      "text/html": [
       "<div>\n",
       "<style scoped>\n",
       "    .dataframe tbody tr th:only-of-type {\n",
       "        vertical-align: middle;\n",
       "    }\n",
       "\n",
       "    .dataframe tbody tr th {\n",
       "        vertical-align: top;\n",
       "    }\n",
       "\n",
       "    .dataframe thead th {\n",
       "        text-align: right;\n",
       "    }\n",
       "</style>\n",
       "<table border=\"1\" class=\"dataframe\">\n",
       "  <thead>\n",
       "    <tr style=\"text-align: right;\">\n",
       "      <th></th>\n",
       "      <th>index</th>\n",
       "      <th>rank</th>\n",
       "      <th>tsr</th>\n",
       "      <th>pop</th>\n",
       "      <th>early_pay</th>\n",
       "      <th>unitID</th>\n",
       "      <th>county</th>\n",
       "    </tr>\n",
       "    <tr>\n",
       "      <th>school</th>\n",
       "      <th></th>\n",
       "      <th></th>\n",
       "      <th></th>\n",
       "      <th></th>\n",
       "      <th></th>\n",
       "      <th></th>\n",
       "      <th></th>\n",
       "    </tr>\n",
       "  </thead>\n",
       "  <tbody>\n",
       "    <tr>\n",
       "      <th>Massachusetts Institute of Technology</th>\n",
       "      <td>0</td>\n",
       "      <td>1</td>\n",
       "      <td>3.0</td>\n",
       "      <td>4602</td>\n",
       "      <td>99,800</td>\n",
       "      <td>166683</td>\n",
       "      <td>NaN</td>\n",
       "    </tr>\n",
       "    <tr>\n",
       "      <th>Stanford University</th>\n",
       "      <td>1</td>\n",
       "      <td>2</td>\n",
       "      <td>5.0</td>\n",
       "      <td>7087</td>\n",
       "      <td>107,400</td>\n",
       "      <td>243744</td>\n",
       "      <td>NaN</td>\n",
       "    </tr>\n",
       "    <tr>\n",
       "      <th>Carnegie Mellon University</th>\n",
       "      <td>2</td>\n",
       "      <td>3</td>\n",
       "      <td>10.0</td>\n",
       "      <td>6589</td>\n",
       "      <td>99,000</td>\n",
       "      <td>211440</td>\n",
       "      <td>NaN</td>\n",
       "    </tr>\n",
       "    <tr>\n",
       "      <th>University of California Berkeley</th>\n",
       "      <td>3</td>\n",
       "      <td>4</td>\n",
       "      <td>20.0</td>\n",
       "      <td>30853</td>\n",
       "      <td>105,700</td>\n",
       "      <td>110635</td>\n",
       "      <td>NaN</td>\n",
       "    </tr>\n",
       "    <tr>\n",
       "      <th>Harvard University</th>\n",
       "      <td>4</td>\n",
       "      <td>7</td>\n",
       "      <td>7.0</td>\n",
       "      <td>9950</td>\n",
       "      <td>96,100</td>\n",
       "      <td>166027</td>\n",
       "      <td>NaN</td>\n",
       "    </tr>\n",
       "  </tbody>\n",
       "</table>\n",
       "</div>"
      ],
      "text/plain": [
       "                                       index rank   tsr    pop early_pay  \\\n",
       "school                                                                     \n",
       "Massachusetts Institute of Technology      0    1   3.0   4602    99,800   \n",
       "Stanford University                        1    2   5.0   7087   107,400   \n",
       "Carnegie Mellon University                 2    3  10.0   6589    99,000   \n",
       "University of California Berkeley          3    4  20.0  30853   105,700   \n",
       "Harvard University                         4    7   7.0   9950    96,100   \n",
       "\n",
       "                                       unitID county  \n",
       "school                                                \n",
       "Massachusetts Institute of Technology  166683    NaN  \n",
       "Stanford University                    243744    NaN  \n",
       "Carnegie Mellon University             211440    NaN  \n",
       "University of California Berkeley      110635    NaN  \n",
       "Harvard University                     166027    NaN  "
      ]
     },
     "execution_count": 30,
     "metadata": {},
     "output_type": "execute_result"
    }
   ],
   "source": [
    "# Update main with the enrollment numbers\n",
    "main['pop'] = enroll_series\n",
    "main.head()"
   ]
  },
  {
   "cell_type": "markdown",
   "metadata": {},
   "source": [
    "### Step 8: Importing County\n",
    "We will use the school's county in a later step to help find the salary of computer scientists in the area where the school is located. For now, we retrieve the county from dataframe `location` and import into `main`. "
   ]
  },
  {
   "cell_type": "code",
   "execution_count": 31,
   "metadata": {},
   "outputs": [],
   "source": [
    "def lookup_county(locationdf, unitID):\n",
    "    location_copy = locationdf.copy() \n",
    "    subset = location_copy.loc[(location_copy['UnitID'] == unitID)]\n",
    "    \n",
    "    # Subset will contain the rows' original index unless reset \n",
    "    subset = subset.reset_index()\n",
    "\n",
    "    return subset['County name (HD2018)'][0]"
   ]
  },
  {
   "cell_type": "code",
   "execution_count": 32,
   "metadata": {},
   "outputs": [],
   "source": [
    "county_series = unitID_series.apply(lambda unitID: lookup_county(location, unitID))"
   ]
  },
  {
   "cell_type": "code",
   "execution_count": 33,
   "metadata": {
    "scrolled": true
   },
   "outputs": [
    {
     "data": {
      "text/html": [
       "<div>\n",
       "<style scoped>\n",
       "    .dataframe tbody tr th:only-of-type {\n",
       "        vertical-align: middle;\n",
       "    }\n",
       "\n",
       "    .dataframe tbody tr th {\n",
       "        vertical-align: top;\n",
       "    }\n",
       "\n",
       "    .dataframe thead th {\n",
       "        text-align: right;\n",
       "    }\n",
       "</style>\n",
       "<table border=\"1\" class=\"dataframe\">\n",
       "  <thead>\n",
       "    <tr style=\"text-align: right;\">\n",
       "      <th></th>\n",
       "      <th>index</th>\n",
       "      <th>rank</th>\n",
       "      <th>tsr</th>\n",
       "      <th>pop</th>\n",
       "      <th>early_pay</th>\n",
       "      <th>unitID</th>\n",
       "      <th>county</th>\n",
       "    </tr>\n",
       "    <tr>\n",
       "      <th>school</th>\n",
       "      <th></th>\n",
       "      <th></th>\n",
       "      <th></th>\n",
       "      <th></th>\n",
       "      <th></th>\n",
       "      <th></th>\n",
       "      <th></th>\n",
       "    </tr>\n",
       "  </thead>\n",
       "  <tbody>\n",
       "    <tr>\n",
       "      <th>Massachusetts Institute of Technology</th>\n",
       "      <td>0</td>\n",
       "      <td>1</td>\n",
       "      <td>3.0</td>\n",
       "      <td>4602</td>\n",
       "      <td>99,800</td>\n",
       "      <td>166683</td>\n",
       "      <td>Middlesex County</td>\n",
       "    </tr>\n",
       "    <tr>\n",
       "      <th>Stanford University</th>\n",
       "      <td>1</td>\n",
       "      <td>2</td>\n",
       "      <td>5.0</td>\n",
       "      <td>7087</td>\n",
       "      <td>107,400</td>\n",
       "      <td>243744</td>\n",
       "      <td>Santa Clara County</td>\n",
       "    </tr>\n",
       "    <tr>\n",
       "      <th>Carnegie Mellon University</th>\n",
       "      <td>2</td>\n",
       "      <td>3</td>\n",
       "      <td>10.0</td>\n",
       "      <td>6589</td>\n",
       "      <td>99,000</td>\n",
       "      <td>211440</td>\n",
       "      <td>Allegheny County</td>\n",
       "    </tr>\n",
       "    <tr>\n",
       "      <th>University of California Berkeley</th>\n",
       "      <td>3</td>\n",
       "      <td>4</td>\n",
       "      <td>20.0</td>\n",
       "      <td>30853</td>\n",
       "      <td>105,700</td>\n",
       "      <td>110635</td>\n",
       "      <td>Alameda County</td>\n",
       "    </tr>\n",
       "    <tr>\n",
       "      <th>Harvard University</th>\n",
       "      <td>4</td>\n",
       "      <td>7</td>\n",
       "      <td>7.0</td>\n",
       "      <td>9950</td>\n",
       "      <td>96,100</td>\n",
       "      <td>166027</td>\n",
       "      <td>Middlesex County</td>\n",
       "    </tr>\n",
       "  </tbody>\n",
       "</table>\n",
       "</div>"
      ],
      "text/plain": [
       "                                       index rank   tsr    pop early_pay  \\\n",
       "school                                                                     \n",
       "Massachusetts Institute of Technology      0    1   3.0   4602    99,800   \n",
       "Stanford University                        1    2   5.0   7087   107,400   \n",
       "Carnegie Mellon University                 2    3  10.0   6589    99,000   \n",
       "University of California Berkeley          3    4  20.0  30853   105,700   \n",
       "Harvard University                         4    7   7.0   9950    96,100   \n",
       "\n",
       "                                       unitID              county  \n",
       "school                                                             \n",
       "Massachusetts Institute of Technology  166683    Middlesex County  \n",
       "Stanford University                    243744  Santa Clara County  \n",
       "Carnegie Mellon University             211440    Allegheny County  \n",
       "University of California Berkeley      110635      Alameda County  \n",
       "Harvard University                     166027    Middlesex County  "
      ]
     },
     "execution_count": 33,
     "metadata": {},
     "output_type": "execute_result"
    }
   ],
   "source": [
    "# Update main dataframe with county info\n",
    "main['county'] = county_series \n",
    "main.head()"
   ]
  },
  {
   "cell_type": "markdown",
   "metadata": {},
   "source": [
    "# Margia's code below"
   ]
  },
  {
   "cell_type": "code",
   "execution_count": 34,
   "metadata": {},
   "outputs": [
    {
     "ename": "FileNotFoundError",
     "evalue": "[Errno 2] No such file or directory: 'area_definitions_m2019.csv'",
     "output_type": "error",
     "traceback": [
      "\u001b[1;31m---------------------------------------------------------------------------\u001b[0m",
      "\u001b[1;31mFileNotFoundError\u001b[0m                         Traceback (most recent call last)",
      "\u001b[1;32m<ipython-input-34-9ebfcb5fd4ec>\u001b[0m in \u001b[0;36m<module>\u001b[1;34m\u001b[0m\n\u001b[1;32m----> 1\u001b[1;33m \u001b[0mmap_area\u001b[0m\u001b[1;33m=\u001b[0m \u001b[0mpd\u001b[0m\u001b[1;33m.\u001b[0m\u001b[0mread_csv\u001b[0m\u001b[1;33m(\u001b[0m\u001b[1;34m\"area_definitions_m2019.csv\"\u001b[0m\u001b[1;33m)\u001b[0m\u001b[1;33m\u001b[0m\u001b[1;33m\u001b[0m\u001b[0m\n\u001b[0m\u001b[0;32m      2\u001b[0m \u001b[1;32mdel\u001b[0m \u001b[0mmap_area\u001b[0m\u001b[1;33m[\u001b[0m\u001b[1;34m'FIPS code'\u001b[0m\u001b[1;33m]\u001b[0m\u001b[1;33m\u001b[0m\u001b[1;33m\u001b[0m\u001b[0m\n\u001b[0;32m      3\u001b[0m \u001b[1;32mdel\u001b[0m \u001b[0mmap_area\u001b[0m\u001b[1;33m[\u001b[0m\u001b[1;34m'State'\u001b[0m\u001b[1;33m]\u001b[0m\u001b[1;33m\u001b[0m\u001b[1;33m\u001b[0m\u001b[0m\n\u001b[0;32m      4\u001b[0m \u001b[1;32mdel\u001b[0m \u001b[0mmap_area\u001b[0m\u001b[1;33m[\u001b[0m\u001b[1;34m'State abbreviation'\u001b[0m\u001b[1;33m]\u001b[0m\u001b[1;33m\u001b[0m\u001b[1;33m\u001b[0m\u001b[0m\n\u001b[0;32m      5\u001b[0m \u001b[1;32mdel\u001b[0m \u001b[0mmap_area\u001b[0m\u001b[1;33m[\u001b[0m\u001b[1;34m'County code'\u001b[0m\u001b[1;33m]\u001b[0m\u001b[1;33m\u001b[0m\u001b[1;33m\u001b[0m\u001b[0m\n",
      "\u001b[1;32m~\\Anaconda3\\envs\\info2950\\lib\\site-packages\\pandas\\io\\parsers.py\u001b[0m in \u001b[0;36mread_csv\u001b[1;34m(filepath_or_buffer, sep, delimiter, header, names, index_col, usecols, squeeze, prefix, mangle_dupe_cols, dtype, engine, converters, true_values, false_values, skipinitialspace, skiprows, skipfooter, nrows, na_values, keep_default_na, na_filter, verbose, skip_blank_lines, parse_dates, infer_datetime_format, keep_date_col, date_parser, dayfirst, cache_dates, iterator, chunksize, compression, thousands, decimal, lineterminator, quotechar, quoting, doublequote, escapechar, comment, encoding, dialect, error_bad_lines, warn_bad_lines, delim_whitespace, low_memory, memory_map, float_precision)\u001b[0m\n\u001b[0;32m    684\u001b[0m     )\n\u001b[0;32m    685\u001b[0m \u001b[1;33m\u001b[0m\u001b[0m\n\u001b[1;32m--> 686\u001b[1;33m     \u001b[1;32mreturn\u001b[0m \u001b[0m_read\u001b[0m\u001b[1;33m(\u001b[0m\u001b[0mfilepath_or_buffer\u001b[0m\u001b[1;33m,\u001b[0m \u001b[0mkwds\u001b[0m\u001b[1;33m)\u001b[0m\u001b[1;33m\u001b[0m\u001b[1;33m\u001b[0m\u001b[0m\n\u001b[0m\u001b[0;32m    687\u001b[0m \u001b[1;33m\u001b[0m\u001b[0m\n\u001b[0;32m    688\u001b[0m \u001b[1;33m\u001b[0m\u001b[0m\n",
      "\u001b[1;32m~\\Anaconda3\\envs\\info2950\\lib\\site-packages\\pandas\\io\\parsers.py\u001b[0m in \u001b[0;36m_read\u001b[1;34m(filepath_or_buffer, kwds)\u001b[0m\n\u001b[0;32m    450\u001b[0m \u001b[1;33m\u001b[0m\u001b[0m\n\u001b[0;32m    451\u001b[0m     \u001b[1;31m# Create the parser.\u001b[0m\u001b[1;33m\u001b[0m\u001b[1;33m\u001b[0m\u001b[1;33m\u001b[0m\u001b[0m\n\u001b[1;32m--> 452\u001b[1;33m     \u001b[0mparser\u001b[0m \u001b[1;33m=\u001b[0m \u001b[0mTextFileReader\u001b[0m\u001b[1;33m(\u001b[0m\u001b[0mfp_or_buf\u001b[0m\u001b[1;33m,\u001b[0m \u001b[1;33m**\u001b[0m\u001b[0mkwds\u001b[0m\u001b[1;33m)\u001b[0m\u001b[1;33m\u001b[0m\u001b[1;33m\u001b[0m\u001b[0m\n\u001b[0m\u001b[0;32m    453\u001b[0m \u001b[1;33m\u001b[0m\u001b[0m\n\u001b[0;32m    454\u001b[0m     \u001b[1;32mif\u001b[0m \u001b[0mchunksize\u001b[0m \u001b[1;32mor\u001b[0m \u001b[0miterator\u001b[0m\u001b[1;33m:\u001b[0m\u001b[1;33m\u001b[0m\u001b[1;33m\u001b[0m\u001b[0m\n",
      "\u001b[1;32m~\\Anaconda3\\envs\\info2950\\lib\\site-packages\\pandas\\io\\parsers.py\u001b[0m in \u001b[0;36m__init__\u001b[1;34m(self, f, engine, **kwds)\u001b[0m\n\u001b[0;32m    934\u001b[0m             \u001b[0mself\u001b[0m\u001b[1;33m.\u001b[0m\u001b[0moptions\u001b[0m\u001b[1;33m[\u001b[0m\u001b[1;34m\"has_index_names\"\u001b[0m\u001b[1;33m]\u001b[0m \u001b[1;33m=\u001b[0m \u001b[0mkwds\u001b[0m\u001b[1;33m[\u001b[0m\u001b[1;34m\"has_index_names\"\u001b[0m\u001b[1;33m]\u001b[0m\u001b[1;33m\u001b[0m\u001b[1;33m\u001b[0m\u001b[0m\n\u001b[0;32m    935\u001b[0m \u001b[1;33m\u001b[0m\u001b[0m\n\u001b[1;32m--> 936\u001b[1;33m         \u001b[0mself\u001b[0m\u001b[1;33m.\u001b[0m\u001b[0m_make_engine\u001b[0m\u001b[1;33m(\u001b[0m\u001b[0mself\u001b[0m\u001b[1;33m.\u001b[0m\u001b[0mengine\u001b[0m\u001b[1;33m)\u001b[0m\u001b[1;33m\u001b[0m\u001b[1;33m\u001b[0m\u001b[0m\n\u001b[0m\u001b[0;32m    937\u001b[0m \u001b[1;33m\u001b[0m\u001b[0m\n\u001b[0;32m    938\u001b[0m     \u001b[1;32mdef\u001b[0m \u001b[0mclose\u001b[0m\u001b[1;33m(\u001b[0m\u001b[0mself\u001b[0m\u001b[1;33m)\u001b[0m\u001b[1;33m:\u001b[0m\u001b[1;33m\u001b[0m\u001b[1;33m\u001b[0m\u001b[0m\n",
      "\u001b[1;32m~\\Anaconda3\\envs\\info2950\\lib\\site-packages\\pandas\\io\\parsers.py\u001b[0m in \u001b[0;36m_make_engine\u001b[1;34m(self, engine)\u001b[0m\n\u001b[0;32m   1166\u001b[0m     \u001b[1;32mdef\u001b[0m \u001b[0m_make_engine\u001b[0m\u001b[1;33m(\u001b[0m\u001b[0mself\u001b[0m\u001b[1;33m,\u001b[0m \u001b[0mengine\u001b[0m\u001b[1;33m=\u001b[0m\u001b[1;34m\"c\"\u001b[0m\u001b[1;33m)\u001b[0m\u001b[1;33m:\u001b[0m\u001b[1;33m\u001b[0m\u001b[1;33m\u001b[0m\u001b[0m\n\u001b[0;32m   1167\u001b[0m         \u001b[1;32mif\u001b[0m \u001b[0mengine\u001b[0m \u001b[1;33m==\u001b[0m \u001b[1;34m\"c\"\u001b[0m\u001b[1;33m:\u001b[0m\u001b[1;33m\u001b[0m\u001b[1;33m\u001b[0m\u001b[0m\n\u001b[1;32m-> 1168\u001b[1;33m             \u001b[0mself\u001b[0m\u001b[1;33m.\u001b[0m\u001b[0m_engine\u001b[0m \u001b[1;33m=\u001b[0m \u001b[0mCParserWrapper\u001b[0m\u001b[1;33m(\u001b[0m\u001b[0mself\u001b[0m\u001b[1;33m.\u001b[0m\u001b[0mf\u001b[0m\u001b[1;33m,\u001b[0m \u001b[1;33m**\u001b[0m\u001b[0mself\u001b[0m\u001b[1;33m.\u001b[0m\u001b[0moptions\u001b[0m\u001b[1;33m)\u001b[0m\u001b[1;33m\u001b[0m\u001b[1;33m\u001b[0m\u001b[0m\n\u001b[0m\u001b[0;32m   1169\u001b[0m         \u001b[1;32melse\u001b[0m\u001b[1;33m:\u001b[0m\u001b[1;33m\u001b[0m\u001b[1;33m\u001b[0m\u001b[0m\n\u001b[0;32m   1170\u001b[0m             \u001b[1;32mif\u001b[0m \u001b[0mengine\u001b[0m \u001b[1;33m==\u001b[0m \u001b[1;34m\"python\"\u001b[0m\u001b[1;33m:\u001b[0m\u001b[1;33m\u001b[0m\u001b[1;33m\u001b[0m\u001b[0m\n",
      "\u001b[1;32m~\\Anaconda3\\envs\\info2950\\lib\\site-packages\\pandas\\io\\parsers.py\u001b[0m in \u001b[0;36m__init__\u001b[1;34m(self, src, **kwds)\u001b[0m\n\u001b[0;32m   1996\u001b[0m         \u001b[0mkwds\u001b[0m\u001b[1;33m[\u001b[0m\u001b[1;34m\"usecols\"\u001b[0m\u001b[1;33m]\u001b[0m \u001b[1;33m=\u001b[0m \u001b[0mself\u001b[0m\u001b[1;33m.\u001b[0m\u001b[0musecols\u001b[0m\u001b[1;33m\u001b[0m\u001b[1;33m\u001b[0m\u001b[0m\n\u001b[0;32m   1997\u001b[0m \u001b[1;33m\u001b[0m\u001b[0m\n\u001b[1;32m-> 1998\u001b[1;33m         \u001b[0mself\u001b[0m\u001b[1;33m.\u001b[0m\u001b[0m_reader\u001b[0m \u001b[1;33m=\u001b[0m \u001b[0mparsers\u001b[0m\u001b[1;33m.\u001b[0m\u001b[0mTextReader\u001b[0m\u001b[1;33m(\u001b[0m\u001b[0msrc\u001b[0m\u001b[1;33m,\u001b[0m \u001b[1;33m**\u001b[0m\u001b[0mkwds\u001b[0m\u001b[1;33m)\u001b[0m\u001b[1;33m\u001b[0m\u001b[1;33m\u001b[0m\u001b[0m\n\u001b[0m\u001b[0;32m   1999\u001b[0m         \u001b[0mself\u001b[0m\u001b[1;33m.\u001b[0m\u001b[0munnamed_cols\u001b[0m \u001b[1;33m=\u001b[0m \u001b[0mself\u001b[0m\u001b[1;33m.\u001b[0m\u001b[0m_reader\u001b[0m\u001b[1;33m.\u001b[0m\u001b[0munnamed_cols\u001b[0m\u001b[1;33m\u001b[0m\u001b[1;33m\u001b[0m\u001b[0m\n\u001b[0;32m   2000\u001b[0m \u001b[1;33m\u001b[0m\u001b[0m\n",
      "\u001b[1;32mpandas\\_libs\\parsers.pyx\u001b[0m in \u001b[0;36mpandas._libs.parsers.TextReader.__cinit__\u001b[1;34m()\u001b[0m\n",
      "\u001b[1;32mpandas\\_libs\\parsers.pyx\u001b[0m in \u001b[0;36mpandas._libs.parsers.TextReader._setup_parser_source\u001b[1;34m()\u001b[0m\n",
      "\u001b[1;31mFileNotFoundError\u001b[0m: [Errno 2] No such file or directory: 'area_definitions_m2019.csv'"
     ]
    }
   ],
   "source": [
    "map_area= pd.read_csv(\"area_definitions_m2019.csv\")\n",
    "del map_area['FIPS code']\n",
    "del map_area['State']\n",
    "del map_area['State abbreviation']\n",
    "del map_area['County code']\n",
    "del map_area['Township code']\n",
    "map_area.columns = ['MSA code', 'MSA name', 'County']\n",
    "map_area.head()"
   ]
  },
  {
   "cell_type": "code",
   "execution_count": null,
   "metadata": {},
   "outputs": [],
   "source": [
    "##create a  metropolitan df which takes the county in main dataframe and maps it to the corresponding metropolitan \n",
    "##area from map_area in the column MSA name\n",
    "\n",
    "metropolitan = main.merge(map_area, left_on = 'county', right_on = 'County', how='left')\n",
    "metropolitan[0:50]"
   ]
  },
  {
   "cell_type": "code",
   "execution_count": null,
   "metadata": {},
   "outputs": [],
   "source": [
    "# TODO:\n",
    "# rankings into bins \n",
    "# average professor rating scrape "
   ]
  },
  {
   "cell_type": "markdown",
   "metadata": {},
   "source": [
    "# Data Description"
   ]
  },
  {
   "cell_type": "markdown",
   "metadata": {},
   "source": [
    "**Choosing a College Ranking List**"
   ]
  },
  {
   "cell_type": "markdown",
   "metadata": {},
   "source": [
    "# Data Limitations"
   ]
  },
  {
   "cell_type": "markdown",
   "metadata": {},
   "source": [
    "# Exploratory Data Analysis"
   ]
  },
  {
   "cell_type": "markdown",
   "metadata": {},
   "source": [
    "# Questions for Reviewers"
   ]
  },
  {
   "cell_type": "markdown",
   "metadata": {},
   "source": [
    "# Appendix\n",
    "For our final report, we would include the notebook containing our web scraping code here. We web-scraped computer science post-undergrad salaries from `payscale.com` and scraped the top computer science universities from `topuniversities.com`. "
   ]
  }
 ],
 "metadata": {
  "kernelspec": {
   "display_name": "Python 3",
   "language": "python",
   "name": "python3"
  },
  "language_info": {
   "codemirror_mode": {
    "name": "ipython",
    "version": 3
   },
   "file_extension": ".py",
   "mimetype": "text/x-python",
   "name": "python",
   "nbconvert_exporter": "python",
   "pygments_lexer": "ipython3",
   "version": "3.8.5"
  }
 },
 "nbformat": 4,
 "nbformat_minor": 4
}
